{
 "cells": [
  {
   "cell_type": "code",
   "execution_count": 1,
   "metadata": {
    "scrolled": true
   },
   "outputs": [
    {
     "data": {
      "text/html": [
       "<div>\n",
       "<style scoped>\n",
       "    .dataframe tbody tr th:only-of-type {\n",
       "        vertical-align: middle;\n",
       "    }\n",
       "\n",
       "    .dataframe tbody tr th {\n",
       "        vertical-align: top;\n",
       "    }\n",
       "\n",
       "    .dataframe thead th {\n",
       "        text-align: right;\n",
       "    }\n",
       "</style>\n",
       "<table border=\"1\" class=\"dataframe\">\n",
       "  <thead>\n",
       "    <tr style=\"text-align: right;\">\n",
       "      <th></th>\n",
       "      <th>Plane tickets(From)</th>\n",
       "      <th>Plane tickets(To)</th>\n",
       "      <th>Plane tickets Cost(£)</th>\n",
       "      <th>Plane tickets(average time)</th>\n",
       "      <th>Train tickets Cost(£)</th>\n",
       "      <th>Train tickets(average time )</th>\n",
       "      <th>Unnamed: 6</th>\n",
       "      <th>Unnamed: 7</th>\n",
       "      <th>Unnamed: 8</th>\n",
       "    </tr>\n",
       "  </thead>\n",
       "  <tbody>\n",
       "    <tr>\n",
       "      <th>0</th>\n",
       "      <td>Cardiff</td>\n",
       "      <td>Leicester</td>\n",
       "      <td>175.0</td>\n",
       "      <td>4.25</td>\n",
       "      <td>108.8</td>\n",
       "      <td>3.24</td>\n",
       "      <td>NaN</td>\n",
       "      <td>NaN</td>\n",
       "      <td>NaN</td>\n",
       "    </tr>\n",
       "    <tr>\n",
       "      <th>1</th>\n",
       "      <td>Cardiff</td>\n",
       "      <td>Cambridge</td>\n",
       "      <td>175.0</td>\n",
       "      <td>6.14</td>\n",
       "      <td>87.0</td>\n",
       "      <td>4.15</td>\n",
       "      <td>NaN</td>\n",
       "      <td>NaN</td>\n",
       "      <td>NaN</td>\n",
       "    </tr>\n",
       "    <tr>\n",
       "      <th>2</th>\n",
       "      <td>Cardiff</td>\n",
       "      <td>London</td>\n",
       "      <td>175.0</td>\n",
       "      <td>4.25</td>\n",
       "      <td>102.0</td>\n",
       "      <td>1.59</td>\n",
       "      <td>NaN</td>\n",
       "      <td>NaN</td>\n",
       "      <td>NaN</td>\n",
       "    </tr>\n",
       "    <tr>\n",
       "      <th>3</th>\n",
       "      <td>Cardiff</td>\n",
       "      <td>Newcastle</td>\n",
       "      <td>202.0</td>\n",
       "      <td>4.45</td>\n",
       "      <td>182.4</td>\n",
       "      <td>11.51</td>\n",
       "      <td>NaN</td>\n",
       "      <td>NaN</td>\n",
       "      <td>NaN</td>\n",
       "    </tr>\n",
       "    <tr>\n",
       "      <th>4</th>\n",
       "      <td>Cardiff</td>\n",
       "      <td>Manchester</td>\n",
       "      <td>87.8</td>\n",
       "      <td>4.13</td>\n",
       "      <td>42.5</td>\n",
       "      <td>3.34</td>\n",
       "      <td>NaN</td>\n",
       "      <td>NaN</td>\n",
       "      <td>NaN</td>\n",
       "    </tr>\n",
       "  </tbody>\n",
       "</table>\n",
       "</div>"
      ],
      "text/plain": [
       "  Plane tickets(From) Plane tickets(To)  Plane tickets Cost(£)  \\\n",
       "0             Cardiff         Leicester                  175.0   \n",
       "1             Cardiff         Cambridge                  175.0   \n",
       "2             Cardiff            London                  175.0   \n",
       "3             Cardiff         Newcastle                  202.0   \n",
       "4             Cardiff        Manchester                   87.8   \n",
       "\n",
       "   Plane tickets(average time)  Train tickets Cost(£)  \\\n",
       "0                         4.25                  108.8   \n",
       "1                         6.14                   87.0   \n",
       "2                         4.25                  102.0   \n",
       "3                         4.45                  182.4   \n",
       "4                         4.13                   42.5   \n",
       "\n",
       "   Train tickets(average time )  Unnamed: 6  Unnamed: 7  Unnamed: 8  \n",
       "0                          3.24         NaN         NaN         NaN  \n",
       "1                          4.15         NaN         NaN         NaN  \n",
       "2                          1.59         NaN         NaN         NaN  \n",
       "3                         11.51         NaN         NaN         NaN  \n",
       "4                          3.34         NaN         NaN         NaN  "
      ]
     },
     "execution_count": 1,
     "metadata": {},
     "output_type": "execute_result"
    }
   ],
   "source": [
    "import pandas as pd\n",
    "import seaborn as sns\n",
    "from matplotlib import pyplot \n",
    "import numpy as np\n",
    "\n",
    "df = pd.read_excel(open(r'C:\\Users\\Mhaiskao\\Desktop\\Assignments\\Information Visualization\\CW2\\Plane and train tickets.xlsx','rb'))\n",
    "df.head()"
   ]
  },
  {
   "cell_type": "code",
   "execution_count": 2,
   "metadata": {},
   "outputs": [],
   "source": [
    "del(df['Unnamed: 6'])\n",
    "del(df['Unnamed: 7'])\n",
    "del(df['Unnamed: 8'])"
   ]
  },
  {
   "cell_type": "code",
   "execution_count": 3,
   "metadata": {},
   "outputs": [
    {
     "name": "stdout",
     "output_type": "stream",
     "text": [
      "<class 'pandas.core.frame.DataFrame'>\n",
      "RangeIndex: 94 entries, 0 to 93\n",
      "Data columns (total 6 columns):\n",
      "Plane tickets(From)             94 non-null object\n",
      "Plane tickets(To)               94 non-null object\n",
      "Plane tickets Cost(£)           94 non-null float64\n",
      "Plane tickets(average time)     87 non-null float64\n",
      "Train tickets Cost(£)           94 non-null float64\n",
      "Train tickets(average time )    94 non-null float64\n",
      "dtypes: float64(4), object(2)\n",
      "memory usage: 4.5+ KB\n"
     ]
    }
   ],
   "source": [
    "df.info()"
   ]
  },
  {
   "cell_type": "code",
   "execution_count": 4,
   "metadata": {},
   "outputs": [
    {
     "data": {
      "text/html": [
       "<div>\n",
       "<style scoped>\n",
       "    .dataframe tbody tr th:only-of-type {\n",
       "        vertical-align: middle;\n",
       "    }\n",
       "\n",
       "    .dataframe tbody tr th {\n",
       "        vertical-align: top;\n",
       "    }\n",
       "\n",
       "    .dataframe thead th {\n",
       "        text-align: right;\n",
       "    }\n",
       "</style>\n",
       "<table border=\"1\" class=\"dataframe\">\n",
       "  <thead>\n",
       "    <tr style=\"text-align: right;\">\n",
       "      <th></th>\n",
       "      <th>Plane tickets Cost(£)</th>\n",
       "      <th>Plane tickets(average time)</th>\n",
       "      <th>Train tickets Cost(£)</th>\n",
       "      <th>Train tickets(average time )</th>\n",
       "    </tr>\n",
       "  </thead>\n",
       "  <tbody>\n",
       "    <tr>\n",
       "      <th>count</th>\n",
       "      <td>94.00000</td>\n",
       "      <td>94.000000</td>\n",
       "      <td>94.000000</td>\n",
       "      <td>94.000000</td>\n",
       "    </tr>\n",
       "    <tr>\n",
       "      <th>mean</th>\n",
       "      <td>125.06883</td>\n",
       "      <td>3.375106</td>\n",
       "      <td>78.370106</td>\n",
       "      <td>3.592660</td>\n",
       "    </tr>\n",
       "    <tr>\n",
       "      <th>std</th>\n",
       "      <td>79.78150</td>\n",
       "      <td>1.787026</td>\n",
       "      <td>52.781202</td>\n",
       "      <td>5.021065</td>\n",
       "    </tr>\n",
       "    <tr>\n",
       "      <th>min</th>\n",
       "      <td>0.00000</td>\n",
       "      <td>0.000000</td>\n",
       "      <td>5.150000</td>\n",
       "      <td>0.350000</td>\n",
       "    </tr>\n",
       "    <tr>\n",
       "      <th>25%</th>\n",
       "      <td>76.77000</td>\n",
       "      <td>1.262500</td>\n",
       "      <td>38.370000</td>\n",
       "      <td>2.012500</td>\n",
       "    </tr>\n",
       "    <tr>\n",
       "      <th>50%</th>\n",
       "      <td>98.87500</td>\n",
       "      <td>4.130000</td>\n",
       "      <td>64.050000</td>\n",
       "      <td>3.165000</td>\n",
       "    </tr>\n",
       "    <tr>\n",
       "      <th>75%</th>\n",
       "      <td>186.87000</td>\n",
       "      <td>4.525000</td>\n",
       "      <td>111.200000</td>\n",
       "      <td>4.187500</td>\n",
       "    </tr>\n",
       "    <tr>\n",
       "      <th>max</th>\n",
       "      <td>337.00000</td>\n",
       "      <td>6.140000</td>\n",
       "      <td>230.000000</td>\n",
       "      <td>49.000000</td>\n",
       "    </tr>\n",
       "  </tbody>\n",
       "</table>\n",
       "</div>"
      ],
      "text/plain": [
       "       Plane tickets Cost(£)  Plane tickets(average time)  \\\n",
       "count               94.00000                    94.000000   \n",
       "mean               125.06883                     3.375106   \n",
       "std                 79.78150                     1.787026   \n",
       "min                  0.00000                     0.000000   \n",
       "25%                 76.77000                     1.262500   \n",
       "50%                 98.87500                     4.130000   \n",
       "75%                186.87000                     4.525000   \n",
       "max                337.00000                     6.140000   \n",
       "\n",
       "       Train tickets Cost(£)  Train tickets(average time )  \n",
       "count              94.000000                     94.000000  \n",
       "mean               78.370106                      3.592660  \n",
       "std                52.781202                      5.021065  \n",
       "min                 5.150000                      0.350000  \n",
       "25%                38.370000                      2.012500  \n",
       "50%                64.050000                      3.165000  \n",
       "75%               111.200000                      4.187500  \n",
       "max               230.000000                     49.000000  "
      ]
     },
     "execution_count": 4,
     "metadata": {},
     "output_type": "execute_result"
    }
   ],
   "source": [
    "df=df.fillna(0)\n",
    "df.describe()"
   ]
  },
  {
   "cell_type": "code",
   "execution_count": 5,
   "metadata": {
    "scrolled": true
   },
   "outputs": [],
   "source": [
    "cols = ['Source_City','Destination_City','Plane Tickets','Plane Time','Train Tickets','Train Time']\n",
    "df.columns=cols"
   ]
  },
  {
   "cell_type": "code",
   "execution_count": 6,
   "metadata": {
    "scrolled": true
   },
   "outputs": [],
   "source": [
    "df['Source_City'] = df['Source_City'].str.strip()\n",
    "df['Destination_City'] = df['Destination_City'].str.strip()"
   ]
  },
  {
   "cell_type": "code",
   "execution_count": 7,
   "metadata": {
    "scrolled": true
   },
   "outputs": [
    {
     "data": {
      "text/html": [
       "<div>\n",
       "<style scoped>\n",
       "    .dataframe tbody tr th:only-of-type {\n",
       "        vertical-align: middle;\n",
       "    }\n",
       "\n",
       "    .dataframe tbody tr th {\n",
       "        vertical-align: top;\n",
       "    }\n",
       "\n",
       "    .dataframe thead th {\n",
       "        text-align: right;\n",
       "    }\n",
       "</style>\n",
       "<table border=\"1\" class=\"dataframe\">\n",
       "  <thead>\n",
       "    <tr style=\"text-align: right;\">\n",
       "      <th></th>\n",
       "      <th>Source_City</th>\n",
       "      <th>Destination_City</th>\n",
       "      <th>Plane Tickets</th>\n",
       "      <th>Plane Time</th>\n",
       "      <th>Train Tickets</th>\n",
       "      <th>Train Time</th>\n",
       "    </tr>\n",
       "  </thead>\n",
       "  <tbody>\n",
       "    <tr>\n",
       "      <th>0</th>\n",
       "      <td>Cardiff</td>\n",
       "      <td>Leicester</td>\n",
       "      <td>175.0</td>\n",
       "      <td>4.25</td>\n",
       "      <td>108.8</td>\n",
       "      <td>3.24</td>\n",
       "    </tr>\n",
       "    <tr>\n",
       "      <th>1</th>\n",
       "      <td>Cardiff</td>\n",
       "      <td>Cambridge</td>\n",
       "      <td>175.0</td>\n",
       "      <td>6.14</td>\n",
       "      <td>87.0</td>\n",
       "      <td>4.15</td>\n",
       "    </tr>\n",
       "    <tr>\n",
       "      <th>2</th>\n",
       "      <td>Cardiff</td>\n",
       "      <td>London</td>\n",
       "      <td>175.0</td>\n",
       "      <td>4.25</td>\n",
       "      <td>102.0</td>\n",
       "      <td>1.59</td>\n",
       "    </tr>\n",
       "    <tr>\n",
       "      <th>3</th>\n",
       "      <td>Cardiff</td>\n",
       "      <td>Newcastle</td>\n",
       "      <td>202.0</td>\n",
       "      <td>4.45</td>\n",
       "      <td>182.4</td>\n",
       "      <td>11.51</td>\n",
       "    </tr>\n",
       "    <tr>\n",
       "      <th>4</th>\n",
       "      <td>Cardiff</td>\n",
       "      <td>Manchester</td>\n",
       "      <td>87.8</td>\n",
       "      <td>4.13</td>\n",
       "      <td>42.5</td>\n",
       "      <td>3.34</td>\n",
       "    </tr>\n",
       "  </tbody>\n",
       "</table>\n",
       "</div>"
      ],
      "text/plain": [
       "  Source_City Destination_City  Plane Tickets  Plane Time  Train Tickets  \\\n",
       "0     Cardiff        Leicester          175.0        4.25          108.8   \n",
       "1     Cardiff        Cambridge          175.0        6.14           87.0   \n",
       "2     Cardiff           London          175.0        4.25          102.0   \n",
       "3     Cardiff        Newcastle          202.0        4.45          182.4   \n",
       "4     Cardiff       Manchester           87.8        4.13           42.5   \n",
       "\n",
       "   Train Time  \n",
       "0        3.24  \n",
       "1        4.15  \n",
       "2        1.59  \n",
       "3       11.51  \n",
       "4        3.34  "
      ]
     },
     "execution_count": 7,
     "metadata": {},
     "output_type": "execute_result"
    }
   ],
   "source": [
    "df.head()"
   ]
  },
  {
   "cell_type": "markdown",
   "metadata": {},
   "source": [
    "# Violin Plot -  Outgoing Plane vs Train Prices from Source City"
   ]
  },
  {
   "cell_type": "code",
   "execution_count": 8,
   "metadata": {},
   "outputs": [],
   "source": [
    "df_violin_source = pd.melt(df, id_vars=['Source_City'], value_vars=['Plane Tickets','Train Tickets'],var_name=\"type\")"
   ]
  },
  {
   "cell_type": "code",
   "execution_count": 9,
   "metadata": {
    "scrolled": true
   },
   "outputs": [
    {
     "data": {
      "image/png": "[encoded data removed]",
      "text/plain": [
       "<Figure size 1800x1800 with 1 Axes>"
      ]
     },
     "metadata": {
      "needs_background": "light"
     },
     "output_type": "display_data"
    }
   ],
   "source": [
    "fig, ax = pyplot.subplots(figsize =(25, 25)) \n",
    "\n",
    "sns.set(style=\"whitegrid\", palette=\"pastel\", color_codes=True)\n",
    "# Draw a nested violinplot and split the violins for easier comparison\n",
    "sns.violinplot(ax=ax,x=\"Source_City\", y=\"value\", hue=\"type\",\n",
    "               split=True, inner=\"quart\",\n",
    "               data=df_violin_source)\n",
    "sns.despine(left=True)"
   ]
  },
  {
   "cell_type": "markdown",
   "metadata": {},
   "source": [
    "# Violin Plot -  Incoming Plane vs Train Prices to Destination City"
   ]
  },
  {
   "cell_type": "code",
   "execution_count": 10,
   "metadata": {},
   "outputs": [],
   "source": [
    "df_violin_destination = pd.melt(df, id_vars=['Destination_City'], value_vars=['Plane Tickets','Train Tickets'],var_name=\"type\")\n"
   ]
  },
  {
   "cell_type": "code",
   "execution_count": 11,
   "metadata": {
    "scrolled": true
   },
   "outputs": [
    {
     "data": {
      "image/png": "[encoded data removed]",
      "text/plain": [
       "<Figure size 1800x1800 with 1 Axes>"
      ]
     },
     "metadata": {},
     "output_type": "display_data"
    }
   ],
   "source": [
    "fig, ax = pyplot.subplots(figsize =(25, 25)) \n",
    "\n",
    "sns.set(style=\"whitegrid\", palette=\"pastel\", color_codes=True)\n",
    "# Draw a nested violinplot and split the violins for easier comparison\n",
    "sns.violinplot(ax=ax,x=\"Destination_City\", y=\"value\", hue=\"type\",\n",
    "               split=True, inner=\"quart\",\n",
    "               data=df_violin_destination)\n",
    "sns.despine(left=True)"
   ]
  },
  {
   "cell_type": "markdown",
   "metadata": {},
   "source": [
    "# Sunburst Chart - Plane Tickets from Source to Destination Cities"
   ]
  },
  {
   "cell_type": "code",
   "execution_count": 85,
   "metadata": {},
   "outputs": [
    {
     "data": {
      "application/vnd.plotly.v1+json": {
       "config": {
        "plotlyServerURL": "https://plot.ly"
       },
       "data": [
        {
         "domain": {
          "x": [
           0,
           0.45
          ],
          "y": [
           0,
           1
          ]
         },
         "hovertemplate": "Price(£):<b>%{value}",
         "labels": [
          "City",
          "S:Newcastle",
          "S:Manchester",
          "S:London",
          "S:Leeds",
          "S:Edinburgh",
          "S:Cardiff",
          "S:Cambridge",
          "S:Bristol",
          "S:Brighton",
          "S:Birmingham",
          "D:Leicester",
          "D:Cambridge",
          "D:London",
          "D:Newcastle",
          "D:Manchester",
          "D:Edinburgh",
          "D:Brighton",
          "D:Bristol",
          "D:Birmingham",
          "D:Leeds",
          "D:Cardiff",
          "D:Leicester",
          "D:London",
          "D:Manchester",
          "D:Edinburgh",
          "D:Brighton",
          "D:Bristol",
          "D:Birmingham",
          "D:Leeds",
          "D:Cardiff",
          "D:Leicester",
          "D:Cambridge",
          "D:Newcastle",
          "D:Manchester",
          "D:Edinburgh",
          "D:Brighton",
          "D:Bristol",
          "D:Birmingham",
          "D:Leeds",
          "D:Cardiff",
          "D:Leicester",
          "D:Cambridge",
          "D:London",
          "D:Manchester",
          "D:Edinburgh",
          "D:Brighton",
          "D:Bristol",
          "D:Birmingham",
          "D:Leeds",
          "D:Cardiff",
          "D:Leicester",
          "D:Cambridge",
          "D:London",
          "D:Newcastle",
          "D:Edinburgh",
          "D:Brighton",
          "D:Bristol",
          "D:Birmingham",
          "D:Cardiff",
          "D:Leicester",
          "D:Cambridge",
          "D:London",
          "D:Newcastle",
          "D:Manchester",
          "D:Brighton",
          "D:Bristol",
          "D:Birmingham",
          "D:Leeds",
          "D:Leicester",
          "D:Cambridge",
          "D:London",
          "D:Newcastle",
          "D:Manchester",
          "D:Edinburgh",
          "D:Bristol",
          "D:Birmingham",
          "D:Leeds",
          "D:Cardiff",
          "D:Cambridge",
          "D:London",
          "D:Newcastle",
          "D:Manchester",
          "D:Edinburgh",
          "D:Brighton",
          "D:Birmingham",
          "D:Leeds",
          "D:Cardiff",
          "D:Leicester",
          "D:London",
          "D:Newcastle",
          "D:Manchester",
          "D:Edinburgh",
          "D:Brighton",
          "D:Bristol",
          "D:Leeds",
          "D:Cardiff",
          "D:Leicester",
          "D:Cambridge",
          "D:Newcastle",
          "D:Manchester",
          "D:Edinburgh",
          "D:Brighton",
          "D:Bristol",
          "D:Birmingham"
         ],
         "maxdepth": 2,
         "parents": [
          "",
          "City",
          "City",
          "City",
          "City",
          "City",
          "City",
          "City",
          "City",
          "City",
          "City",
          "S:Cardiff",
          "S:Cardiff",
          "S:Cardiff",
          "S:Cardiff",
          "S:Cardiff",
          "S:Cardiff",
          "S:Cardiff",
          "S:Cardiff",
          "S:Cardiff",
          "S:Cardiff",
          "S:Cambridge",
          "S:Cambridge",
          "S:Cambridge",
          "S:Cambridge",
          "S:Cambridge",
          "S:Cambridge",
          "S:Cambridge",
          "S:Cambridge",
          "S:Cambridge",
          "S:London",
          "S:London",
          "S:London",
          "S:London",
          "S:London",
          "S:London",
          "S:London",
          "S:London",
          "S:London",
          "S:London",
          "S:Newcastle",
          "S:Newcastle",
          "S:Newcastle",
          "S:Newcastle",
          "S:Newcastle",
          "S:Newcastle",
          "S:Newcastle",
          "S:Newcastle",
          "S:Newcastle",
          "S:Newcastle",
          "S:Manchester",
          "S:Manchester",
          "S:Manchester",
          "S:Manchester",
          "S:Manchester",
          "S:Manchester",
          "S:Manchester",
          "S:Manchester",
          "S:Manchester",
          "S:Edinburgh",
          "S:Edinburgh",
          "S:Edinburgh",
          "S:Edinburgh",
          "S:Edinburgh",
          "S:Edinburgh",
          "S:Edinburgh",
          "S:Edinburgh",
          "S:Edinburgh",
          "S:Edinburgh",
          "S:Brighton",
          "S:Brighton",
          "S:Brighton",
          "S:Brighton",
          "S:Brighton",
          "S:Brighton",
          "S:Brighton",
          "S:Brighton",
          "S:Brighton",
          "S:Bristol",
          "S:Bristol",
          "S:Bristol",
          "S:Bristol",
          "S:Bristol",
          "S:Bristol",
          "S:Bristol",
          "S:Bristol",
          "S:Bristol",
          "S:Birmingham",
          "S:Birmingham",
          "S:Birmingham",
          "S:Birmingham",
          "S:Birmingham",
          "S:Birmingham",
          "S:Birmingham",
          "S:Birmingham",
          "S:Birmingham",
          "S:Leeds",
          "S:Leeds",
          "S:Leeds",
          "S:Leeds",
          "S:Leeds",
          "S:Leeds",
          "S:Leeds",
          "S:Leeds",
          "S:Leeds"
         ],
         "type": "sunburst",
         "values": [
          10,
          10,
          10,
          10,
          10,
          10,
          10,
          10,
          10,
          10,
          10,
          175,
          175,
          175,
          202,
          87.8,
          337,
          212,
          36,
          98,
          280,
          78,
          76.66,
          0,
          65.68,
          91,
          0,
          102.22,
          88.86,
          86.65,
          155.34,
          82,
          0,
          89.7,
          191,
          323.9,
          0,
          163,
          24.45,
          43.45,
          210.12,
          213.12,
          189.9,
          214.14,
          61.69,
          32.34,
          259.9,
          230,
          212.12,
          80.98,
          65.64,
          21.24,
          100.12,
          213.1,
          78.88,
          76.7,
          312.12,
          105,
          89.78,
          125,
          150.67,
          122,
          76.77,
          118,
          67,
          120.23,
          202.2,
          65.66,
          88.8,
          90.98,
          0,
          0,
          120.2,
          213,
          156.66,
          87.86,
          76.77,
          98.87,
          86.86,
          254.33,
          276.33,
          222,
          123.22,
          288.9,
          169.8,
          98.87,
          177.78,
          113.65,
          0,
          76.77,
          230.13,
          67.65,
          76.66,
          100.23,
          80,
          87.62,
          90,
          88.8,
          130.33,
          77,
          43.44,
          107.77,
          203.3,
          198.88,
          98.88
         ]
        },
        {
         "domain": {
          "x": [
           0.55,
           1
          ],
          "y": [
           0,
           1
          ]
         },
         "hovertemplate": "Time(Hrs):<b>%{value}",
         "labels": [
          "City",
          "S:Newcastle",
          "S:Manchester",
          "S:London",
          "S:Leeds",
          "S:Edinburgh",
          "S:Cardiff",
          "S:Cambridge",
          "S:Bristol",
          "S:Brighton",
          "S:Birmingham",
          "D:Leicester",
          "D:Cambridge",
          "D:London",
          "D:Newcastle",
          "D:Manchester",
          "D:Edinburgh",
          "D:Brighton",
          "D:Bristol",
          "D:Birmingham",
          "D:Leeds",
          "D:Cardiff",
          "D:Leicester",
          "D:London",
          "D:Manchester",
          "D:Edinburgh",
          "D:Brighton",
          "D:Bristol",
          "D:Birmingham",
          "D:Leeds",
          "D:Cardiff",
          "D:Leicester",
          "D:Cambridge",
          "D:Newcastle",
          "D:Manchester",
          "D:Edinburgh",
          "D:Brighton",
          "D:Bristol",
          "D:Birmingham",
          "D:Leeds",
          "D:Cardiff",
          "D:Leicester",
          "D:Cambridge",
          "D:London",
          "D:Manchester",
          "D:Edinburgh",
          "D:Brighton",
          "D:Bristol",
          "D:Birmingham",
          "D:Leeds",
          "D:Cardiff",
          "D:Leicester",
          "D:Cambridge",
          "D:London",
          "D:Newcastle",
          "D:Edinburgh",
          "D:Brighton",
          "D:Bristol",
          "D:Birmingham",
          "D:Cardiff",
          "D:Leicester",
          "D:Cambridge",
          "D:London",
          "D:Newcastle",
          "D:Manchester",
          "D:Brighton",
          "D:Bristol",
          "D:Birmingham",
          "D:Leeds",
          "D:Leicester",
          "D:Cambridge",
          "D:London",
          "D:Newcastle",
          "D:Manchester",
          "D:Edinburgh",
          "D:Bristol",
          "D:Birmingham",
          "D:Leeds",
          "D:Cardiff",
          "D:Cambridge",
          "D:London",
          "D:Newcastle",
          "D:Manchester",
          "D:Edinburgh",
          "D:Brighton",
          "D:Birmingham",
          "D:Leeds",
          "D:Cardiff",
          "D:Leicester",
          "D:London",
          "D:Newcastle",
          "D:Manchester",
          "D:Edinburgh",
          "D:Brighton",
          "D:Bristol",
          "D:Leeds",
          "D:Cardiff",
          "D:Leicester",
          "D:Cambridge",
          "D:Newcastle",
          "D:Manchester",
          "D:Edinburgh",
          "D:Brighton",
          "D:Bristol",
          "D:Birmingham"
         ],
         "maxdepth": 2,
         "parents": [
          "",
          "City",
          "City",
          "City",
          "City",
          "City",
          "City",
          "City",
          "City",
          "City",
          "City",
          "S:Cardiff",
          "S:Cardiff",
          "S:Cardiff",
          "S:Cardiff",
          "S:Cardiff",
          "S:Cardiff",
          "S:Cardiff",
          "S:Cardiff",
          "S:Cardiff",
          "S:Cardiff",
          "S:Cambridge",
          "S:Cambridge",
          "S:Cambridge",
          "S:Cambridge",
          "S:Cambridge",
          "S:Cambridge",
          "S:Cambridge",
          "S:Cambridge",
          "S:Cambridge",
          "S:London",
          "S:London",
          "S:London",
          "S:London",
          "S:London",
          "S:London",
          "S:London",
          "S:London",
          "S:London",
          "S:London",
          "S:Newcastle",
          "S:Newcastle",
          "S:Newcastle",
          "S:Newcastle",
          "S:Newcastle",
          "S:Newcastle",
          "S:Newcastle",
          "S:Newcastle",
          "S:Newcastle",
          "S:Newcastle",
          "S:Manchester",
          "S:Manchester",
          "S:Manchester",
          "S:Manchester",
          "S:Manchester",
          "S:Manchester",
          "S:Manchester",
          "S:Manchester",
          "S:Manchester",
          "S:Edinburgh",
          "S:Edinburgh",
          "S:Edinburgh",
          "S:Edinburgh",
          "S:Edinburgh",
          "S:Edinburgh",
          "S:Edinburgh",
          "S:Edinburgh",
          "S:Edinburgh",
          "S:Edinburgh",
          "S:Brighton",
          "S:Brighton",
          "S:Brighton",
          "S:Brighton",
          "S:Brighton",
          "S:Brighton",
          "S:Brighton",
          "S:Brighton",
          "S:Brighton",
          "S:Bristol",
          "S:Bristol",
          "S:Bristol",
          "S:Bristol",
          "S:Bristol",
          "S:Bristol",
          "S:Bristol",
          "S:Bristol",
          "S:Bristol",
          "S:Birmingham",
          "S:Birmingham",
          "S:Birmingham",
          "S:Birmingham",
          "S:Birmingham",
          "S:Birmingham",
          "S:Birmingham",
          "S:Birmingham",
          "S:Birmingham",
          "S:Leeds",
          "S:Leeds",
          "S:Leeds",
          "S:Leeds",
          "S:Leeds",
          "S:Leeds",
          "S:Leeds",
          "S:Leeds",
          "S:Leeds"
         ],
         "type": "sunburst",
         "values": [
          10,
          10,
          10,
          10,
          10,
          10,
          10,
          10,
          10,
          10,
          10,
          4.25,
          6.14,
          4.25,
          4.45,
          4.13,
          1.25,
          5.2,
          4.13,
          4.25,
          5.45,
          5.45,
          5.55,
          0,
          5.55,
          1.15,
          0,
          4.15,
          4.55,
          4.13,
          3.13,
          3.45,
          0,
          1.15,
          1.1,
          1.13,
          0,
          4.44,
          4.45,
          1,
          1.13,
          4.34,
          5.5,
          5.5,
          5.2,
          4.45,
          4.45,
          1.5,
          4.25,
          3.25,
          4.3,
          3.55,
          5.15,
          5.5,
          3.35,
          1.1,
          4.14,
          5.1,
          3.55,
          1.3,
          1.15,
          1.2,
          1.2,
          5.55,
          1.15,
          1.45,
          1.1,
          1.15,
          3.05,
          5.05,
          0,
          0,
          5.15,
          4.04,
          1.13,
          5.5,
          5.5,
          4.45,
          4.3,
          4.15,
          4.15,
          1.5,
          3.55,
          1.15,
          4.15,
          2.45,
          3.15,
          5.5,
          0,
          3.53,
          3.15,
          3.1,
          1.15,
          5.25,
          5.5,
          3.55,
          3.35,
          4.3,
          5.3,
          5,
          4.35,
          4.1,
          4.14,
          5,
          4.13
         ]
        }
       ],
       "layout": {
        "template": {
         "data": {
          "bar": [
           {
            "error_x": {
             "color": "#2a3f5f"
            },
            "error_y": {
             "color": "#2a3f5f"
            },
            "marker": {
             "line": {
              "color": "#E5ECF6",
              "width": 0.5
             }
            },
            "type": "bar"
           }
          ],
          "barpolar": [
           {
            "marker": {
             "line": {
              "color": "#E5ECF6",
              "width": 0.5
             }
            },
            "type": "barpolar"
           }
          ],
          "carpet": [
           {
            "aaxis": {
             "endlinecolor": "#2a3f5f",
             "gridcolor": "white",
             "linecolor": "white",
             "minorgridcolor": "white",
             "startlinecolor": "#2a3f5f"
            },
            "baxis": {
             "endlinecolor": "#2a3f5f",
             "gridcolor": "white",
             "linecolor": "white",
             "minorgridcolor": "white",
             "startlinecolor": "#2a3f5f"
            },
            "type": "carpet"
           }
          ],
          "choropleth": [
           {
            "colorbar": {
             "outlinewidth": 0,
             "ticks": ""
            },
            "type": "choropleth"
           }
          ],
          "contour": [
           {
            "colorbar": {
             "outlinewidth": 0,
             "ticks": ""
            },
            "colorscale": [
             [
              0,
              "#0d0887"
             ],
             [
              0.1111111111111111,
              "#46039f"
             ],
             [
              0.2222222222222222,
              "#7201a8"
             ],
             [
              0.3333333333333333,
              "#9c179e"
             ],
             [
              0.4444444444444444,
              "#bd3786"
             ],
             [
              0.5555555555555556,
              "#d8576b"
             ],
             [
              0.6666666666666666,
              "#ed7953"
             ],
             [
              0.7777777777777778,
              "#fb9f3a"
             ],
             [
              0.8888888888888888,
              "#fdca26"
             ],
             [
              1,
              "#f0f921"
             ]
            ],
            "type": "contour"
           }
          ],
          "contourcarpet": [
           {
            "colorbar": {
             "outlinewidth": 0,
             "ticks": ""
            },
            "type": "contourcarpet"
           }
          ],
          "heatmap": [
           {
            "colorbar": {
             "outlinewidth": 0,
             "ticks": ""
            },
            "colorscale": [
             [
              0,
              "#0d0887"
             ],
             [
              0.1111111111111111,
              "#46039f"
             ],
             [
              0.2222222222222222,
              "#7201a8"
             ],
             [
              0.3333333333333333,
              "#9c179e"
             ],
             [
              0.4444444444444444,
              "#bd3786"
             ],
             [
              0.5555555555555556,
              "#d8576b"
             ],
             [
              0.6666666666666666,
              "#ed7953"
             ],
             [
              0.7777777777777778,
              "#fb9f3a"
             ],
             [
              0.8888888888888888,
              "#fdca26"
             ],
             [
              1,
              "#f0f921"
             ]
            ],
            "type": "heatmap"
           }
          ],
          "heatmapgl": [
           {
            "colorbar": {
             "outlinewidth": 0,
             "ticks": ""
            },
            "colorscale": [
             [
              0,
              "#0d0887"
             ],
             [
              0.1111111111111111,
              "#46039f"
             ],
             [
              0.2222222222222222,
              "#7201a8"
             ],
             [
              0.3333333333333333,
              "#9c179e"
             ],
             [
              0.4444444444444444,
              "#bd3786"
             ],
             [
              0.5555555555555556,
              "#d8576b"
             ],
             [
              0.6666666666666666,
              "#ed7953"
             ],
             [
              0.7777777777777778,
              "#fb9f3a"
             ],
             [
              0.8888888888888888,
              "#fdca26"
             ],
             [
              1,
              "#f0f921"
             ]
            ],
            "type": "heatmapgl"
           }
          ],
          "histogram": [
           {
            "marker": {
             "colorbar": {
              "outlinewidth": 0,
              "ticks": ""
             }
            },
            "type": "histogram"
           }
          ],
          "histogram2d": [
           {
            "colorbar": {
             "outlinewidth": 0,
             "ticks": ""
            },
            "colorscale": [
             [
              0,
              "#0d0887"
             ],
             [
              0.1111111111111111,
              "#46039f"
             ],
             [
              0.2222222222222222,
              "#7201a8"
             ],
             [
              0.3333333333333333,
              "#9c179e"
             ],
             [
              0.4444444444444444,
              "#bd3786"
             ],
             [
              0.5555555555555556,
              "#d8576b"
             ],
             [
              0.6666666666666666,
              "#ed7953"
             ],
             [
              0.7777777777777778,
              "#fb9f3a"
             ],
             [
              0.8888888888888888,
              "#fdca26"
             ],
             [
              1,
              "#f0f921"
             ]
            ],
            "type": "histogram2d"
           }
          ],
          "histogram2dcontour": [
           {
            "colorbar": {
             "outlinewidth": 0,
             "ticks": ""
            },
            "colorscale": [
             [
              0,
              "#0d0887"
             ],
             [
              0.1111111111111111,
              "#46039f"
             ],
             [
              0.2222222222222222,
              "#7201a8"
             ],
             [
              0.3333333333333333,
              "#9c179e"
             ],
             [
              0.4444444444444444,
              "#bd3786"
             ],
             [
              0.5555555555555556,
              "#d8576b"
             ],
             [
              0.6666666666666666,
              "#ed7953"
             ],
             [
              0.7777777777777778,
              "#fb9f3a"
             ],
             [
              0.8888888888888888,
              "#fdca26"
             ],
             [
              1,
              "#f0f921"
             ]
            ],
            "type": "histogram2dcontour"
           }
          ],
          "mesh3d": [
           {
            "colorbar": {
             "outlinewidth": 0,
             "ticks": ""
            },
            "type": "mesh3d"
           }
          ],
          "parcoords": [
           {
            "line": {
             "colorbar": {
              "outlinewidth": 0,
              "ticks": ""
             }
            },
            "type": "parcoords"
           }
          ],
          "scatter": [
           {
            "marker": {
             "colorbar": {
              "outlinewidth": 0,
              "ticks": ""
             }
            },
            "type": "scatter"
           }
          ],
          "scatter3d": [
           {
            "line": {
             "colorbar": {
              "outlinewidth": 0,
              "ticks": ""
             }
            },
            "marker": {
             "colorbar": {
              "outlinewidth": 0,
              "ticks": ""
             }
            },
            "type": "scatter3d"
           }
          ],
          "scattercarpet": [
           {
            "marker": {
             "colorbar": {
              "outlinewidth": 0,
              "ticks": ""
             }
            },
            "type": "scattercarpet"
           }
          ],
          "scattergeo": [
           {
            "marker": {
             "colorbar": {
              "outlinewidth": 0,
              "ticks": ""
             }
            },
            "type": "scattergeo"
           }
          ],
          "scattergl": [
           {
            "marker": {
             "colorbar": {
              "outlinewidth": 0,
              "ticks": ""
             }
            },
            "type": "scattergl"
           }
          ],
          "scattermapbox": [
           {
            "marker": {
             "colorbar": {
              "outlinewidth": 0,
              "ticks": ""
             }
            },
            "type": "scattermapbox"
           }
          ],
          "scatterpolar": [
           {
            "marker": {
             "colorbar": {
              "outlinewidth": 0,
              "ticks": ""
             }
            },
            "type": "scatterpolar"
           }
          ],
          "scatterpolargl": [
           {
            "marker": {
             "colorbar": {
              "outlinewidth": 0,
              "ticks": ""
             }
            },
            "type": "scatterpolargl"
           }
          ],
          "scatterternary": [
           {
            "marker": {
             "colorbar": {
              "outlinewidth": 0,
              "ticks": ""
             }
            },
            "type": "scatterternary"
           }
          ],
          "surface": [
           {
            "colorbar": {
             "outlinewidth": 0,
             "ticks": ""
            },
            "colorscale": [
             [
              0,
              "#0d0887"
             ],
             [
              0.1111111111111111,
              "#46039f"
             ],
             [
              0.2222222222222222,
              "#7201a8"
             ],
             [
              0.3333333333333333,
              "#9c179e"
             ],
             [
              0.4444444444444444,
              "#bd3786"
             ],
             [
              0.5555555555555556,
              "#d8576b"
             ],
             [
              0.6666666666666666,
              "#ed7953"
             ],
             [
              0.7777777777777778,
              "#fb9f3a"
             ],
             [
              0.8888888888888888,
              "#fdca26"
             ],
             [
              1,
              "#f0f921"
             ]
            ],
            "type": "surface"
           }
          ],
          "table": [
           {
            "cells": {
             "fill": {
              "color": "#EBF0F8"
             },
             "line": {
              "color": "white"
             }
            },
            "header": {
             "fill": {
              "color": "#C8D4E3"
             },
             "line": {
              "color": "white"
             }
            },
            "type": "table"
           }
          ]
         },
         "layout": {
          "annotationdefaults": {
           "arrowcolor": "#2a3f5f",
           "arrowhead": 0,
           "arrowwidth": 1
          },
          "colorscale": {
           "diverging": [
            [
             0,
             "#8e0152"
            ],
            [
             0.1,
             "#c51b7d"
            ],
            [
             0.2,
             "#de77ae"
            ],
            [
             0.3,
             "#f1b6da"
            ],
            [
             0.4,
             "#fde0ef"
            ],
            [
             0.5,
             "#f7f7f7"
            ],
            [
             0.6,
             "#e6f5d0"
            ],
            [
             0.7,
             "#b8e186"
            ],
            [
             0.8,
             "#7fbc41"
            ],
            [
             0.9,
             "#4d9221"
            ],
            [
             1,
             "#276419"
            ]
           ],
           "sequential": [
            [
             0,
             "#0d0887"
            ],
            [
             0.1111111111111111,
             "#46039f"
            ],
            [
             0.2222222222222222,
             "#7201a8"
            ],
            [
             0.3333333333333333,
             "#9c179e"
            ],
            [
             0.4444444444444444,
             "#bd3786"
            ],
            [
             0.5555555555555556,
             "#d8576b"
            ],
            [
             0.6666666666666666,
             "#ed7953"
            ],
            [
             0.7777777777777778,
             "#fb9f3a"
            ],
            [
             0.8888888888888888,
             "#fdca26"
            ],
            [
             1,
             "#f0f921"
            ]
           ],
           "sequentialminus": [
            [
             0,
             "#0d0887"
            ],
            [
             0.1111111111111111,
             "#46039f"
            ],
            [
             0.2222222222222222,
             "#7201a8"
            ],
            [
             0.3333333333333333,
             "#9c179e"
            ],
            [
             0.4444444444444444,
             "#bd3786"
            ],
            [
             0.5555555555555556,
             "#d8576b"
            ],
            [
             0.6666666666666666,
             "#ed7953"
            ],
            [
             0.7777777777777778,
             "#fb9f3a"
            ],
            [
             0.8888888888888888,
             "#fdca26"
            ],
            [
             1,
             "#f0f921"
            ]
           ]
          },
          "colorway": [
           "#636efa",
           "#EF553B",
           "#00cc96",
           "#ab63fa",
           "#FFA15A",
           "#19d3f3",
           "#FF6692",
           "#B6E880",
           "#FF97FF",
           "#FECB52"
          ],
          "font": {
           "color": "#2a3f5f"
          },
          "geo": {
           "bgcolor": "white",
           "lakecolor": "white",
           "landcolor": "#E5ECF6",
           "showlakes": true,
           "showland": true,
           "subunitcolor": "white"
          },
          "hoverlabel": {
           "align": "left"
          },
          "hovermode": "closest",
          "mapbox": {
           "style": "light"
          },
          "paper_bgcolor": "white",
          "plot_bgcolor": "#E5ECF6",
          "polar": {
           "angularaxis": {
            "gridcolor": "white",
            "linecolor": "white",
            "ticks": ""
           },
           "bgcolor": "#E5ECF6",
           "radialaxis": {
            "gridcolor": "white",
            "linecolor": "white",
            "ticks": ""
           }
          },
          "scene": {
           "xaxis": {
            "backgroundcolor": "#E5ECF6",
            "gridcolor": "white",
            "gridwidth": 2,
            "linecolor": "white",
            "showbackground": true,
            "ticks": "",
            "zerolinecolor": "white"
           },
           "yaxis": {
            "backgroundcolor": "#E5ECF6",
            "gridcolor": "white",
            "gridwidth": 2,
            "linecolor": "white",
            "showbackground": true,
            "ticks": "",
            "zerolinecolor": "white"
           },
           "zaxis": {
            "backgroundcolor": "#E5ECF6",
            "gridcolor": "white",
            "gridwidth": 2,
            "linecolor": "white",
            "showbackground": true,
            "ticks": "",
            "zerolinecolor": "white"
           }
          },
          "shapedefaults": {
           "line": {
            "color": "#2a3f5f"
           }
          },
          "ternary": {
           "aaxis": {
            "gridcolor": "white",
            "linecolor": "white",
            "ticks": ""
           },
           "baxis": {
            "gridcolor": "white",
            "linecolor": "white",
            "ticks": ""
           },
           "bgcolor": "#E5ECF6",
           "caxis": {
            "gridcolor": "white",
            "linecolor": "white",
            "ticks": ""
           }
          },
          "title": {
           "x": 0.05
          },
          "xaxis": {
           "automargin": true,
           "gridcolor": "white",
           "linecolor": "white",
           "ticks": "",
           "zerolinecolor": "white",
           "zerolinewidth": 2
          },
          "yaxis": {
           "automargin": true,
           "gridcolor": "white",
           "linecolor": "white",
           "ticks": "",
           "zerolinecolor": "white",
           "zerolinewidth": 2
          }
         }
        }
       }
      },
      "text/html": [
       "<div>\n",
       "        \n",
       "        \n",
       "            <div id=\"452539ce-9e71-472b-9fd8-57a74ca8780b\" class=\"plotly-graph-div\" style=\"height:525px; width:100%;\"></div>\n",
       "            <script type=\"text/javascript\">\n",
       "                require([\"plotly\"], function(Plotly) {\n",
       "                    window.PLOTLYENV=window.PLOTLYENV || {};\n",
       "                    \n",
       "                if (document.getElementById(\"452539ce-9e71-472b-9fd8-57a74ca8780b\")) {\n",
       "                    Plotly.newPlot(\n",
       "                        '452539ce-9e71-472b-9fd8-57a74ca8780b',\n",
       "                        [{\"domain\": {\"x\": [0.0, 0.45], \"y\": [0.0, 1.0]}, \"hovertemplate\": \"Price(\\u00a3):<b>%{value}\", \"labels\": [\"City\", \"S:Newcastle\", \"S:Manchester\", \"S:London\", \"S:Leeds\", \"S:Edinburgh\", \"S:Cardiff\", \"S:Cambridge\", \"S:Bristol\", \"S:Brighton\", \"S:Birmingham\", \"D:Leicester\", \"D:Cambridge\", \"D:London\", \"D:Newcastle\", \"D:Manchester\", \"D:Edinburgh\", \"D:Brighton\", \"D:Bristol\", \"D:Birmingham\", \"D:Leeds\", \"D:Cardiff\", \"D:Leicester\", \"D:London\", \"D:Manchester\", \"D:Edinburgh\", \"D:Brighton\", \"D:Bristol\", \"D:Birmingham\", \"D:Leeds\", \"D:Cardiff\", \"D:Leicester\", \"D:Cambridge\", \"D:Newcastle\", \"D:Manchester\", \"D:Edinburgh\", \"D:Brighton\", \"D:Bristol\", \"D:Birmingham\", \"D:Leeds\", \"D:Cardiff\", \"D:Leicester\", \"D:Cambridge\", \"D:London\", \"D:Manchester\", \"D:Edinburgh\", \"D:Brighton\", \"D:Bristol\", \"D:Birmingham\", \"D:Leeds\", \"D:Cardiff\", \"D:Leicester\", \"D:Cambridge\", \"D:London\", \"D:Newcastle\", \"D:Edinburgh\", \"D:Brighton\", \"D:Bristol\", \"D:Birmingham\", \"D:Cardiff\", \"D:Leicester\", \"D:Cambridge\", \"D:London\", \"D:Newcastle\", \"D:Manchester\", \"D:Brighton\", \"D:Bristol\", \"D:Birmingham\", \"D:Leeds\", \"D:Leicester\", \"D:Cambridge\", \"D:London\", \"D:Newcastle\", \"D:Manchester\", \"D:Edinburgh\", \"D:Bristol\", \"D:Birmingham\", \"D:Leeds\", \"D:Cardiff\", \"D:Cambridge\", \"D:London\", \"D:Newcastle\", \"D:Manchester\", \"D:Edinburgh\", \"D:Brighton\", \"D:Birmingham\", \"D:Leeds\", \"D:Cardiff\", \"D:Leicester\", \"D:London\", \"D:Newcastle\", \"D:Manchester\", \"D:Edinburgh\", \"D:Brighton\", \"D:Bristol\", \"D:Leeds\", \"D:Cardiff\", \"D:Leicester\", \"D:Cambridge\", \"D:Newcastle\", \"D:Manchester\", \"D:Edinburgh\", \"D:Brighton\", \"D:Bristol\", \"D:Birmingham\"], \"maxdepth\": 2, \"parents\": [\"\", \"City\", \"City\", \"City\", \"City\", \"City\", \"City\", \"City\", \"City\", \"City\", \"City\", \"S:Cardiff\", \"S:Cardiff\", \"S:Cardiff\", \"S:Cardiff\", \"S:Cardiff\", \"S:Cardiff\", \"S:Cardiff\", \"S:Cardiff\", \"S:Cardiff\", \"S:Cardiff\", \"S:Cambridge\", \"S:Cambridge\", \"S:Cambridge\", \"S:Cambridge\", \"S:Cambridge\", \"S:Cambridge\", \"S:Cambridge\", \"S:Cambridge\", \"S:Cambridge\", \"S:London\", \"S:London\", \"S:London\", \"S:London\", \"S:London\", \"S:London\", \"S:London\", \"S:London\", \"S:London\", \"S:London\", \"S:Newcastle\", \"S:Newcastle\", \"S:Newcastle\", \"S:Newcastle\", \"S:Newcastle\", \"S:Newcastle\", \"S:Newcastle\", \"S:Newcastle\", \"S:Newcastle\", \"S:Newcastle\", \"S:Manchester\", \"S:Manchester\", \"S:Manchester\", \"S:Manchester\", \"S:Manchester\", \"S:Manchester\", \"S:Manchester\", \"S:Manchester\", \"S:Manchester\", \"S:Edinburgh\", \"S:Edinburgh\", \"S:Edinburgh\", \"S:Edinburgh\", \"S:Edinburgh\", \"S:Edinburgh\", \"S:Edinburgh\", \"S:Edinburgh\", \"S:Edinburgh\", \"S:Edinburgh\", \"S:Brighton\", \"S:Brighton\", \"S:Brighton\", \"S:Brighton\", \"S:Brighton\", \"S:Brighton\", \"S:Brighton\", \"S:Brighton\", \"S:Brighton\", \"S:Bristol\", \"S:Bristol\", \"S:Bristol\", \"S:Bristol\", \"S:Bristol\", \"S:Bristol\", \"S:Bristol\", \"S:Bristol\", \"S:Bristol\", \"S:Birmingham\", \"S:Birmingham\", \"S:Birmingham\", \"S:Birmingham\", \"S:Birmingham\", \"S:Birmingham\", \"S:Birmingham\", \"S:Birmingham\", \"S:Birmingham\", \"S:Leeds\", \"S:Leeds\", \"S:Leeds\", \"S:Leeds\", \"S:Leeds\", \"S:Leeds\", \"S:Leeds\", \"S:Leeds\", \"S:Leeds\"], \"type\": \"sunburst\", \"values\": [10, 10, 10, 10, 10, 10, 10, 10, 10, 10, 10, 175.0, 175.0, 175.0, 202.0, 87.8, 337.0, 212.0, 36.0, 98.0, 280.0, 78.0, 76.66, 0.0, 65.68, 91.0, 0.0, 102.22, 88.86, 86.65, 155.34, 82.0, 0.0, 89.7, 191.0, 323.9, 0.0, 163.0, 24.45, 43.45, 210.12, 213.12, 189.9, 214.14, 61.69, 32.34, 259.9, 230.0, 212.12, 80.98, 65.64, 21.24, 100.12, 213.1, 78.88, 76.7, 312.12, 105.0, 89.78, 125.0, 150.67, 122.0, 76.77, 118.0, 67.0, 120.23, 202.2, 65.66, 88.8, 90.98, 0.0, 0.0, 120.2, 213.0, 156.66, 87.86, 76.77, 98.87, 86.86, 254.33, 276.33, 222.0, 123.22, 288.9, 169.8, 98.87, 177.78, 113.65, 0.0, 76.77, 230.13, 67.65, 76.66, 100.23, 80.0, 87.62, 90.0, 88.8, 130.33, 77.0, 43.44, 107.77, 203.3, 198.88, 98.88]}, {\"domain\": {\"x\": [0.55, 1.0], \"y\": [0.0, 1.0]}, \"hovertemplate\": \"Time(Hrs):<b>%{value}\", \"labels\": [\"City\", \"S:Newcastle\", \"S:Manchester\", \"S:London\", \"S:Leeds\", \"S:Edinburgh\", \"S:Cardiff\", \"S:Cambridge\", \"S:Bristol\", \"S:Brighton\", \"S:Birmingham\", \"D:Leicester\", \"D:Cambridge\", \"D:London\", \"D:Newcastle\", \"D:Manchester\", \"D:Edinburgh\", \"D:Brighton\", \"D:Bristol\", \"D:Birmingham\", \"D:Leeds\", \"D:Cardiff\", \"D:Leicester\", \"D:London\", \"D:Manchester\", \"D:Edinburgh\", \"D:Brighton\", \"D:Bristol\", \"D:Birmingham\", \"D:Leeds\", \"D:Cardiff\", \"D:Leicester\", \"D:Cambridge\", \"D:Newcastle\", \"D:Manchester\", \"D:Edinburgh\", \"D:Brighton\", \"D:Bristol\", \"D:Birmingham\", \"D:Leeds\", \"D:Cardiff\", \"D:Leicester\", \"D:Cambridge\", \"D:London\", \"D:Manchester\", \"D:Edinburgh\", \"D:Brighton\", \"D:Bristol\", \"D:Birmingham\", \"D:Leeds\", \"D:Cardiff\", \"D:Leicester\", \"D:Cambridge\", \"D:London\", \"D:Newcastle\", \"D:Edinburgh\", \"D:Brighton\", \"D:Bristol\", \"D:Birmingham\", \"D:Cardiff\", \"D:Leicester\", \"D:Cambridge\", \"D:London\", \"D:Newcastle\", \"D:Manchester\", \"D:Brighton\", \"D:Bristol\", \"D:Birmingham\", \"D:Leeds\", \"D:Leicester\", \"D:Cambridge\", \"D:London\", \"D:Newcastle\", \"D:Manchester\", \"D:Edinburgh\", \"D:Bristol\", \"D:Birmingham\", \"D:Leeds\", \"D:Cardiff\", \"D:Cambridge\", \"D:London\", \"D:Newcastle\", \"D:Manchester\", \"D:Edinburgh\", \"D:Brighton\", \"D:Birmingham\", \"D:Leeds\", \"D:Cardiff\", \"D:Leicester\", \"D:London\", \"D:Newcastle\", \"D:Manchester\", \"D:Edinburgh\", \"D:Brighton\", \"D:Bristol\", \"D:Leeds\", \"D:Cardiff\", \"D:Leicester\", \"D:Cambridge\", \"D:Newcastle\", \"D:Manchester\", \"D:Edinburgh\", \"D:Brighton\", \"D:Bristol\", \"D:Birmingham\"], \"maxdepth\": 2, \"parents\": [\"\", \"City\", \"City\", \"City\", \"City\", \"City\", \"City\", \"City\", \"City\", \"City\", \"City\", \"S:Cardiff\", \"S:Cardiff\", \"S:Cardiff\", \"S:Cardiff\", \"S:Cardiff\", \"S:Cardiff\", \"S:Cardiff\", \"S:Cardiff\", \"S:Cardiff\", \"S:Cardiff\", \"S:Cambridge\", \"S:Cambridge\", \"S:Cambridge\", \"S:Cambridge\", \"S:Cambridge\", \"S:Cambridge\", \"S:Cambridge\", \"S:Cambridge\", \"S:Cambridge\", \"S:London\", \"S:London\", \"S:London\", \"S:London\", \"S:London\", \"S:London\", \"S:London\", \"S:London\", \"S:London\", \"S:London\", \"S:Newcastle\", \"S:Newcastle\", \"S:Newcastle\", \"S:Newcastle\", \"S:Newcastle\", \"S:Newcastle\", \"S:Newcastle\", \"S:Newcastle\", \"S:Newcastle\", \"S:Newcastle\", \"S:Manchester\", \"S:Manchester\", \"S:Manchester\", \"S:Manchester\", \"S:Manchester\", \"S:Manchester\", \"S:Manchester\", \"S:Manchester\", \"S:Manchester\", \"S:Edinburgh\", \"S:Edinburgh\", \"S:Edinburgh\", \"S:Edinburgh\", \"S:Edinburgh\", \"S:Edinburgh\", \"S:Edinburgh\", \"S:Edinburgh\", \"S:Edinburgh\", \"S:Edinburgh\", \"S:Brighton\", \"S:Brighton\", \"S:Brighton\", \"S:Brighton\", \"S:Brighton\", \"S:Brighton\", \"S:Brighton\", \"S:Brighton\", \"S:Brighton\", \"S:Bristol\", \"S:Bristol\", \"S:Bristol\", \"S:Bristol\", \"S:Bristol\", \"S:Bristol\", \"S:Bristol\", \"S:Bristol\", \"S:Bristol\", \"S:Birmingham\", \"S:Birmingham\", \"S:Birmingham\", \"S:Birmingham\", \"S:Birmingham\", \"S:Birmingham\", \"S:Birmingham\", \"S:Birmingham\", \"S:Birmingham\", \"S:Leeds\", \"S:Leeds\", \"S:Leeds\", \"S:Leeds\", \"S:Leeds\", \"S:Leeds\", \"S:Leeds\", \"S:Leeds\", \"S:Leeds\"], \"type\": \"sunburst\", \"values\": [10, 10, 10, 10, 10, 10, 10, 10, 10, 10, 10, 4.25, 6.14, 4.25, 4.45, 4.13, 1.25, 5.2, 4.13, 4.25, 5.45, 5.45, 5.55, 0.0, 5.55, 1.15, 0.0, 4.15, 4.55, 4.13, 3.13, 3.45, 0.0, 1.15, 1.1, 1.13, 0.0, 4.44, 4.45, 1.0, 1.13, 4.34, 5.5, 5.5, 5.2, 4.45, 4.45, 1.5, 4.25, 3.25, 4.3, 3.55, 5.15, 5.5, 3.35, 1.1, 4.14, 5.1, 3.55, 1.3, 1.15, 1.2, 1.2, 5.55, 1.15, 1.45, 1.1, 1.15, 3.05, 5.05, 0.0, 0.0, 5.15, 4.04, 1.13, 5.5, 5.5, 4.45, 4.3, 4.15, 4.15, 1.5, 3.55, 1.15, 4.15, 2.45, 3.15, 5.5, 0.0, 3.53, 3.15, 3.1, 1.15, 5.25, 5.5, 3.55, 3.35, 4.3, 5.3, 5.0, 4.35, 4.1, 4.14, 5.0, 4.13]}],\n",
       "                        {\"template\": {\"data\": {\"bar\": [{\"error_x\": {\"color\": \"#2a3f5f\"}, \"error_y\": {\"color\": \"#2a3f5f\"}, \"marker\": {\"line\": {\"color\": \"#E5ECF6\", \"width\": 0.5}}, \"type\": \"bar\"}], \"barpolar\": [{\"marker\": {\"line\": {\"color\": \"#E5ECF6\", \"width\": 0.5}}, \"type\": \"barpolar\"}], \"carpet\": [{\"aaxis\": {\"endlinecolor\": \"#2a3f5f\", \"gridcolor\": \"white\", \"linecolor\": \"white\", \"minorgridcolor\": \"white\", \"startlinecolor\": \"#2a3f5f\"}, \"baxis\": {\"endlinecolor\": \"#2a3f5f\", \"gridcolor\": \"white\", \"linecolor\": \"white\", \"minorgridcolor\": \"white\", \"startlinecolor\": \"#2a3f5f\"}, \"type\": \"carpet\"}], \"choropleth\": [{\"colorbar\": {\"outlinewidth\": 0, \"ticks\": \"\"}, \"type\": \"choropleth\"}], \"contour\": [{\"colorbar\": {\"outlinewidth\": 0, \"ticks\": \"\"}, \"colorscale\": [[0.0, \"#0d0887\"], [0.1111111111111111, \"#46039f\"], [0.2222222222222222, \"#7201a8\"], [0.3333333333333333, \"#9c179e\"], [0.4444444444444444, \"#bd3786\"], [0.5555555555555556, \"#d8576b\"], [0.6666666666666666, \"#ed7953\"], [0.7777777777777778, \"#fb9f3a\"], [0.8888888888888888, \"#fdca26\"], [1.0, \"#f0f921\"]], \"type\": \"contour\"}], \"contourcarpet\": [{\"colorbar\": {\"outlinewidth\": 0, \"ticks\": \"\"}, \"type\": \"contourcarpet\"}], \"heatmap\": [{\"colorbar\": {\"outlinewidth\": 0, \"ticks\": \"\"}, \"colorscale\": [[0.0, \"#0d0887\"], [0.1111111111111111, \"#46039f\"], [0.2222222222222222, \"#7201a8\"], [0.3333333333333333, \"#9c179e\"], [0.4444444444444444, \"#bd3786\"], [0.5555555555555556, \"#d8576b\"], [0.6666666666666666, \"#ed7953\"], [0.7777777777777778, \"#fb9f3a\"], [0.8888888888888888, \"#fdca26\"], [1.0, \"#f0f921\"]], \"type\": \"heatmap\"}], \"heatmapgl\": [{\"colorbar\": {\"outlinewidth\": 0, \"ticks\": \"\"}, \"colorscale\": [[0.0, \"#0d0887\"], [0.1111111111111111, \"#46039f\"], [0.2222222222222222, \"#7201a8\"], [0.3333333333333333, \"#9c179e\"], [0.4444444444444444, \"#bd3786\"], [0.5555555555555556, \"#d8576b\"], [0.6666666666666666, \"#ed7953\"], [0.7777777777777778, \"#fb9f3a\"], [0.8888888888888888, \"#fdca26\"], [1.0, \"#f0f921\"]], \"type\": \"heatmapgl\"}], \"histogram\": [{\"marker\": {\"colorbar\": {\"outlinewidth\": 0, \"ticks\": \"\"}}, \"type\": \"histogram\"}], \"histogram2d\": [{\"colorbar\": {\"outlinewidth\": 0, \"ticks\": \"\"}, \"colorscale\": [[0.0, \"#0d0887\"], [0.1111111111111111, \"#46039f\"], [0.2222222222222222, \"#7201a8\"], [0.3333333333333333, \"#9c179e\"], [0.4444444444444444, \"#bd3786\"], [0.5555555555555556, \"#d8576b\"], [0.6666666666666666, \"#ed7953\"], [0.7777777777777778, \"#fb9f3a\"], [0.8888888888888888, \"#fdca26\"], [1.0, \"#f0f921\"]], \"type\": \"histogram2d\"}], \"histogram2dcontour\": [{\"colorbar\": {\"outlinewidth\": 0, \"ticks\": \"\"}, \"colorscale\": [[0.0, \"#0d0887\"], [0.1111111111111111, \"#46039f\"], [0.2222222222222222, \"#7201a8\"], [0.3333333333333333, \"#9c179e\"], [0.4444444444444444, \"#bd3786\"], [0.5555555555555556, \"#d8576b\"], [0.6666666666666666, \"#ed7953\"], [0.7777777777777778, \"#fb9f3a\"], [0.8888888888888888, \"#fdca26\"], [1.0, \"#f0f921\"]], \"type\": \"histogram2dcontour\"}], \"mesh3d\": [{\"colorbar\": {\"outlinewidth\": 0, \"ticks\": \"\"}, \"type\": \"mesh3d\"}], \"parcoords\": [{\"line\": {\"colorbar\": {\"outlinewidth\": 0, \"ticks\": \"\"}}, \"type\": \"parcoords\"}], \"scatter\": [{\"marker\": {\"colorbar\": {\"outlinewidth\": 0, \"ticks\": \"\"}}, \"type\": \"scatter\"}], \"scatter3d\": [{\"line\": {\"colorbar\": {\"outlinewidth\": 0, \"ticks\": \"\"}}, \"marker\": {\"colorbar\": {\"outlinewidth\": 0, \"ticks\": \"\"}}, \"type\": \"scatter3d\"}], \"scattercarpet\": [{\"marker\": {\"colorbar\": {\"outlinewidth\": 0, \"ticks\": \"\"}}, \"type\": \"scattercarpet\"}], \"scattergeo\": [{\"marker\": {\"colorbar\": {\"outlinewidth\": 0, \"ticks\": \"\"}}, \"type\": \"scattergeo\"}], \"scattergl\": [{\"marker\": {\"colorbar\": {\"outlinewidth\": 0, \"ticks\": \"\"}}, \"type\": \"scattergl\"}], \"scattermapbox\": [{\"marker\": {\"colorbar\": {\"outlinewidth\": 0, \"ticks\": \"\"}}, \"type\": \"scattermapbox\"}], \"scatterpolar\": [{\"marker\": {\"colorbar\": {\"outlinewidth\": 0, \"ticks\": \"\"}}, \"type\": \"scatterpolar\"}], \"scatterpolargl\": [{\"marker\": {\"colorbar\": {\"outlinewidth\": 0, \"ticks\": \"\"}}, \"type\": \"scatterpolargl\"}], \"scatterternary\": [{\"marker\": {\"colorbar\": {\"outlinewidth\": 0, \"ticks\": \"\"}}, \"type\": \"scatterternary\"}], \"surface\": [{\"colorbar\": {\"outlinewidth\": 0, \"ticks\": \"\"}, \"colorscale\": [[0.0, \"#0d0887\"], [0.1111111111111111, \"#46039f\"], [0.2222222222222222, \"#7201a8\"], [0.3333333333333333, \"#9c179e\"], [0.4444444444444444, \"#bd3786\"], [0.5555555555555556, \"#d8576b\"], [0.6666666666666666, \"#ed7953\"], [0.7777777777777778, \"#fb9f3a\"], [0.8888888888888888, \"#fdca26\"], [1.0, \"#f0f921\"]], \"type\": \"surface\"}], \"table\": [{\"cells\": {\"fill\": {\"color\": \"#EBF0F8\"}, \"line\": {\"color\": \"white\"}}, \"header\": {\"fill\": {\"color\": \"#C8D4E3\"}, \"line\": {\"color\": \"white\"}}, \"type\": \"table\"}]}, \"layout\": {\"annotationdefaults\": {\"arrowcolor\": \"#2a3f5f\", \"arrowhead\": 0, \"arrowwidth\": 1}, \"colorscale\": {\"diverging\": [[0, \"#8e0152\"], [0.1, \"#c51b7d\"], [0.2, \"#de77ae\"], [0.3, \"#f1b6da\"], [0.4, \"#fde0ef\"], [0.5, \"#f7f7f7\"], [0.6, \"#e6f5d0\"], [0.7, \"#b8e186\"], [0.8, \"#7fbc41\"], [0.9, \"#4d9221\"], [1, \"#276419\"]], \"sequential\": [[0.0, \"#0d0887\"], [0.1111111111111111, \"#46039f\"], [0.2222222222222222, \"#7201a8\"], [0.3333333333333333, \"#9c179e\"], [0.4444444444444444, \"#bd3786\"], [0.5555555555555556, \"#d8576b\"], [0.6666666666666666, \"#ed7953\"], [0.7777777777777778, \"#fb9f3a\"], [0.8888888888888888, \"#fdca26\"], [1.0, \"#f0f921\"]], \"sequentialminus\": [[0.0, \"#0d0887\"], [0.1111111111111111, \"#46039f\"], [0.2222222222222222, \"#7201a8\"], [0.3333333333333333, \"#9c179e\"], [0.4444444444444444, \"#bd3786\"], [0.5555555555555556, \"#d8576b\"], [0.6666666666666666, \"#ed7953\"], [0.7777777777777778, \"#fb9f3a\"], [0.8888888888888888, \"#fdca26\"], [1.0, \"#f0f921\"]]}, \"colorway\": [\"#636efa\", \"#EF553B\", \"#00cc96\", \"#ab63fa\", \"#FFA15A\", \"#19d3f3\", \"#FF6692\", \"#B6E880\", \"#FF97FF\", \"#FECB52\"], \"font\": {\"color\": \"#2a3f5f\"}, \"geo\": {\"bgcolor\": \"white\", \"lakecolor\": \"white\", \"landcolor\": \"#E5ECF6\", \"showlakes\": true, \"showland\": true, \"subunitcolor\": \"white\"}, \"hoverlabel\": {\"align\": \"left\"}, \"hovermode\": \"closest\", \"mapbox\": {\"style\": \"light\"}, \"paper_bgcolor\": \"white\", \"plot_bgcolor\": \"#E5ECF6\", \"polar\": {\"angularaxis\": {\"gridcolor\": \"white\", \"linecolor\": \"white\", \"ticks\": \"\"}, \"bgcolor\": \"#E5ECF6\", \"radialaxis\": {\"gridcolor\": \"white\", \"linecolor\": \"white\", \"ticks\": \"\"}}, \"scene\": {\"xaxis\": {\"backgroundcolor\": \"#E5ECF6\", \"gridcolor\": \"white\", \"gridwidth\": 2, \"linecolor\": \"white\", \"showbackground\": true, \"ticks\": \"\", \"zerolinecolor\": \"white\"}, \"yaxis\": {\"backgroundcolor\": \"#E5ECF6\", \"gridcolor\": \"white\", \"gridwidth\": 2, \"linecolor\": \"white\", \"showbackground\": true, \"ticks\": \"\", \"zerolinecolor\": \"white\"}, \"zaxis\": {\"backgroundcolor\": \"#E5ECF6\", \"gridcolor\": \"white\", \"gridwidth\": 2, \"linecolor\": \"white\", \"showbackground\": true, \"ticks\": \"\", \"zerolinecolor\": \"white\"}}, \"shapedefaults\": {\"line\": {\"color\": \"#2a3f5f\"}}, \"ternary\": {\"aaxis\": {\"gridcolor\": \"white\", \"linecolor\": \"white\", \"ticks\": \"\"}, \"baxis\": {\"gridcolor\": \"white\", \"linecolor\": \"white\", \"ticks\": \"\"}, \"bgcolor\": \"#E5ECF6\", \"caxis\": {\"gridcolor\": \"white\", \"linecolor\": \"white\", \"ticks\": \"\"}}, \"title\": {\"x\": 0.05}, \"xaxis\": {\"automargin\": true, \"gridcolor\": \"white\", \"linecolor\": \"white\", \"ticks\": \"\", \"zerolinecolor\": \"white\", \"zerolinewidth\": 2}, \"yaxis\": {\"automargin\": true, \"gridcolor\": \"white\", \"linecolor\": \"white\", \"ticks\": \"\", \"zerolinecolor\": \"white\", \"zerolinewidth\": 2}}}},\n",
       "                        {\"responsive\": true}\n",
       "                    ).then(function(){\n",
       "                            \n",
       "var gd = document.getElementById('452539ce-9e71-472b-9fd8-57a74ca8780b');\n",
       "var x = new MutationObserver(function (mutations, observer) {{\n",
       "        var display = window.getComputedStyle(gd).display;\n",
       "        if (!display || display === 'none') {{\n",
       "            console.log([gd, 'removed!']);\n",
       "            Plotly.purge(gd);\n",
       "            observer.disconnect();\n",
       "        }}\n",
       "}});\n",
       "\n",
       "// Listen for the removal of the full notebook cells\n",
       "var notebookContainer = gd.closest('#notebook-container');\n",
       "if (notebookContainer) {{\n",
       "    x.observe(notebookContainer, {childList: true});\n",
       "}}\n",
       "\n",
       "// Listen for the clearing of the current output cell\n",
       "var outputEl = gd.closest('.output');\n",
       "if (outputEl) {{\n",
       "    x.observe(outputEl, {childList: true});\n",
       "}}\n",
       "\n",
       "                        })\n",
       "                };\n",
       "                });\n",
       "            </script>\n",
       "        </div>"
      ]
     },
     "metadata": {},
     "output_type": "display_data"
    }
   ],
   "source": [
    "from plotly.subplots import make_subplots\n",
    "import plotly.graph_objects as go\n",
    "def input_to_sunburst(labels,parents,value,value_time):\n",
    "    for i in range(len(parents)):\n",
    "        x=parents[i].strip()\n",
    "        parents[i]='S:' + x\n",
    "        x=labels[i].strip()\n",
    "        labels[i]='D:' + x\n",
    "\n",
    "    list2=np.array(parents)\n",
    "    list3=np.unique(list2)\n",
    "\n",
    "    for i in range(0,len(list3)):\n",
    "        parents.insert(0,'City')\n",
    "        labels.insert(0,list3[i])\n",
    "        value.insert(0,10)\n",
    "        value_time.insert(0,10)\n",
    "        \n",
    "    parents.insert(0,\"\")\n",
    "    labels.insert(0,'City')\n",
    "    value.insert(0,10)\n",
    "    value_time.insert(0,10)\n",
    "    \n",
    "    return labels,parents,value,value_time\n",
    "\n",
    "#For plane tickets\n",
    "labels=list(df['Destination_City'])\n",
    "parents=list(df['Source_City'])\n",
    "value=list(df['Plane Tickets'])\n",
    "value_time=list(df['Plane Time'])\n",
    "\n",
    "labels,parents,value,value_time=input_to_sunburst(labels,parents,value,value_time)\n",
    "\n",
    "fig = make_subplots(1, 2, specs=[[{\"type\": \"domain\"}, {\"type\": \"domain\"}]],)\n",
    "fig.add_trace(go.Sunburst(\n",
    "        labels=labels,\n",
    "        parents=parents,\n",
    "        values=value,\n",
    "        hovertemplate=\"Price(£):<b>%{value}\",\n",
    "        maxdepth=2\n",
    "    ),1,1)\n",
    "\n",
    "fig.add_trace(go.Sunburst(\n",
    "        labels=labels,\n",
    "        parents=parents,\n",
    "        values=value_time,\n",
    "        hovertemplate=\"Time(Hrs):<b>%{value}\",\n",
    "        maxdepth=2\n",
    "    ),1,2)\n",
    "\n",
    "fig.show()"
   ]
  },
  {
   "cell_type": "markdown",
   "metadata": {},
   "source": [
    "# Sunburst Chart - Train Tickets from Source to Destination Cities"
   ]
  },
  {
   "cell_type": "code",
   "execution_count": 86,
   "metadata": {
    "scrolled": true
   },
   "outputs": [
    {
     "data": {
      "application/vnd.plotly.v1+json": {
       "config": {
        "plotlyServerURL": "https://plot.ly"
       },
       "data": [
        {
         "domain": {
          "x": [
           0,
           0.45
          ],
          "y": [
           0,
           1
          ]
         },
         "hovertemplate": "Price:<b>%{value}",
         "labels": [
          "City",
          "S:Newcastle",
          "S:Manchester",
          "S:London",
          "S:Leeds",
          "S:Edinburgh",
          "S:Cardiff",
          "S:Cambridge",
          "S:Bristol",
          "S:Brighton",
          "S:Birmingham",
          "D:Leicester",
          "D:Cambridge",
          "D:London",
          "D:Newcastle",
          "D:Manchester",
          "D:Edinburgh",
          "D:Brighton",
          "D:Bristol",
          "D:Birmingham",
          "D:Leeds",
          "D:Cardiff",
          "D:Leicester",
          "D:London",
          "D:Manchester",
          "D:Edinburgh",
          "D:Brighton",
          "D:Bristol",
          "D:Birmingham",
          "D:Leeds",
          "D:Cardiff",
          "D:Leicester",
          "D:Cambridge",
          "D:Newcastle",
          "D:Manchester",
          "D:Edinburgh",
          "D:Brighton",
          "D:Bristol",
          "D:Birmingham",
          "D:Leeds",
          "D:Cardiff",
          "D:Leicester",
          "D:Cambridge",
          "D:London",
          "D:Manchester",
          "D:Edinburgh",
          "D:Brighton",
          "D:Bristol",
          "D:Birmingham",
          "D:Leeds",
          "D:Cardiff",
          "D:Leicester",
          "D:Cambridge",
          "D:London",
          "D:Newcastle",
          "D:Edinburgh",
          "D:Brighton",
          "D:Bristol",
          "D:Birmingham",
          "D:Cardiff",
          "D:Leicester",
          "D:Cambridge",
          "D:London",
          "D:Newcastle",
          "D:Manchester",
          "D:Brighton",
          "D:Bristol",
          "D:Birmingham",
          "D:Leeds",
          "D:Leicester",
          "D:Cambridge",
          "D:London",
          "D:Newcastle",
          "D:Manchester",
          "D:Edinburgh",
          "D:Bristol",
          "D:Birmingham",
          "D:Leeds",
          "D:Cardiff",
          "D:Cambridge",
          "D:London",
          "D:Newcastle",
          "D:Manchester",
          "D:Edinburgh",
          "D:Brighton",
          "D:Birmingham",
          "D:Leeds",
          "D:Cardiff",
          "D:Leicester",
          "D:London",
          "D:Newcastle",
          "D:Manchester",
          "D:Edinburgh",
          "D:Brighton",
          "D:Bristol",
          "D:Leeds",
          "D:Cardiff",
          "D:Leicester",
          "D:Cambridge",
          "D:Newcastle",
          "D:Manchester",
          "D:Edinburgh",
          "D:Brighton",
          "D:Bristol",
          "D:Birmingham"
         ],
         "maxdepth": 2,
         "parents": [
          "",
          "City",
          "City",
          "City",
          "City",
          "City",
          "City",
          "City",
          "City",
          "City",
          "City",
          "S:Cardiff",
          "S:Cardiff",
          "S:Cardiff",
          "S:Cardiff",
          "S:Cardiff",
          "S:Cardiff",
          "S:Cardiff",
          "S:Cardiff",
          "S:Cardiff",
          "S:Cardiff",
          "S:Cambridge",
          "S:Cambridge",
          "S:Cambridge",
          "S:Cambridge",
          "S:Cambridge",
          "S:Cambridge",
          "S:Cambridge",
          "S:Cambridge",
          "S:Cambridge",
          "S:London",
          "S:London",
          "S:London",
          "S:London",
          "S:London",
          "S:London",
          "S:London",
          "S:London",
          "S:London",
          "S:London",
          "S:Newcastle",
          "S:Newcastle",
          "S:Newcastle",
          "S:Newcastle",
          "S:Newcastle",
          "S:Newcastle",
          "S:Newcastle",
          "S:Newcastle",
          "S:Newcastle",
          "S:Newcastle",
          "S:Manchester",
          "S:Manchester",
          "S:Manchester",
          "S:Manchester",
          "S:Manchester",
          "S:Manchester",
          "S:Manchester",
          "S:Manchester",
          "S:Manchester",
          "S:Edinburgh",
          "S:Edinburgh",
          "S:Edinburgh",
          "S:Edinburgh",
          "S:Edinburgh",
          "S:Edinburgh",
          "S:Edinburgh",
          "S:Edinburgh",
          "S:Edinburgh",
          "S:Edinburgh",
          "S:Brighton",
          "S:Brighton",
          "S:Brighton",
          "S:Brighton",
          "S:Brighton",
          "S:Brighton",
          "S:Brighton",
          "S:Brighton",
          "S:Brighton",
          "S:Bristol",
          "S:Bristol",
          "S:Bristol",
          "S:Bristol",
          "S:Bristol",
          "S:Bristol",
          "S:Bristol",
          "S:Bristol",
          "S:Bristol",
          "S:Birmingham",
          "S:Birmingham",
          "S:Birmingham",
          "S:Birmingham",
          "S:Birmingham",
          "S:Birmingham",
          "S:Birmingham",
          "S:Birmingham",
          "S:Birmingham",
          "S:Leeds",
          "S:Leeds",
          "S:Leeds",
          "S:Leeds",
          "S:Leeds",
          "S:Leeds",
          "S:Leeds",
          "S:Leeds",
          "S:Leeds"
         ],
         "type": "sunburst",
         "values": [
          10,
          10,
          10,
          10,
          10,
          10,
          10,
          10,
          10,
          10,
          10,
          108.8,
          87,
          102,
          182.4,
          42.5,
          201,
          141,
          12,
          63,
          138,
          67.15,
          50.75,
          16,
          36.18,
          63,
          49.17,
          85.15,
          62.45,
          50,
          102,
          46.15,
          10,
          56.5,
          148,
          230,
          25,
          95.15,
          9.14,
          17,
          169.3,
          150.16,
          112,
          124,
          31.6,
          23.2,
          132,
          132,
          159.9,
          35.16,
          37.19,
          5.15,
          69.16,
          153,
          38.16,
          24.15,
          213.15,
          92.3,
          41,
          95,
          148.16,
          63,
          55,
          12.17,
          25.15,
          84,
          102.2,
          39,
          44.17,
          30.13,
          49.17,
          25,
          82,
          166,
          84,
          55.15,
          56.15,
          49.15,
          11,
          120,
          103,
          102.9,
          44.18,
          215,
          122,
          76.18,
          125.65,
          59.05,
          19.99,
          20,
          115.19,
          29.5,
          39,
          69.15,
          56.18,
          74.15,
          65.1,
          57.16,
          99.19,
          30.13,
          5.15,
          89.15,
          120.09,
          129.87,
          65.16
         ]
        },
        {
         "domain": {
          "x": [
           0.55,
           1
          ],
          "y": [
           0,
           1
          ]
         },
         "hovertemplate": "Price:<b>%{value}",
         "labels": [
          "City",
          "S:Newcastle",
          "S:Manchester",
          "S:London",
          "S:Leeds",
          "S:Edinburgh",
          "S:Cardiff",
          "S:Cambridge",
          "S:Bristol",
          "S:Brighton",
          "S:Birmingham",
          "D:Leicester",
          "D:Cambridge",
          "D:London",
          "D:Newcastle",
          "D:Manchester",
          "D:Edinburgh",
          "D:Brighton",
          "D:Bristol",
          "D:Birmingham",
          "D:Leeds",
          "D:Cardiff",
          "D:Leicester",
          "D:London",
          "D:Manchester",
          "D:Edinburgh",
          "D:Brighton",
          "D:Bristol",
          "D:Birmingham",
          "D:Leeds",
          "D:Cardiff",
          "D:Leicester",
          "D:Cambridge",
          "D:Newcastle",
          "D:Manchester",
          "D:Edinburgh",
          "D:Brighton",
          "D:Bristol",
          "D:Birmingham",
          "D:Leeds",
          "D:Cardiff",
          "D:Leicester",
          "D:Cambridge",
          "D:London",
          "D:Manchester",
          "D:Edinburgh",
          "D:Brighton",
          "D:Bristol",
          "D:Birmingham",
          "D:Leeds",
          "D:Cardiff",
          "D:Leicester",
          "D:Cambridge",
          "D:London",
          "D:Newcastle",
          "D:Edinburgh",
          "D:Brighton",
          "D:Bristol",
          "D:Birmingham",
          "D:Cardiff",
          "D:Leicester",
          "D:Cambridge",
          "D:London",
          "D:Newcastle",
          "D:Manchester",
          "D:Brighton",
          "D:Bristol",
          "D:Birmingham",
          "D:Leeds",
          "D:Leicester",
          "D:Cambridge",
          "D:London",
          "D:Newcastle",
          "D:Manchester",
          "D:Edinburgh",
          "D:Bristol",
          "D:Birmingham",
          "D:Leeds",
          "D:Cardiff",
          "D:Cambridge",
          "D:London",
          "D:Newcastle",
          "D:Manchester",
          "D:Edinburgh",
          "D:Brighton",
          "D:Birmingham",
          "D:Leeds",
          "D:Cardiff",
          "D:Leicester",
          "D:London",
          "D:Newcastle",
          "D:Manchester",
          "D:Edinburgh",
          "D:Brighton",
          "D:Bristol",
          "D:Leeds",
          "D:Cardiff",
          "D:Leicester",
          "D:Cambridge",
          "D:Newcastle",
          "D:Manchester",
          "D:Edinburgh",
          "D:Brighton",
          "D:Bristol",
          "D:Birmingham"
         ],
         "maxdepth": 2,
         "parents": [
          "",
          "City",
          "City",
          "City",
          "City",
          "City",
          "City",
          "City",
          "City",
          "City",
          "City",
          "S:Cardiff",
          "S:Cardiff",
          "S:Cardiff",
          "S:Cardiff",
          "S:Cardiff",
          "S:Cardiff",
          "S:Cardiff",
          "S:Cardiff",
          "S:Cardiff",
          "S:Cardiff",
          "S:Cambridge",
          "S:Cambridge",
          "S:Cambridge",
          "S:Cambridge",
          "S:Cambridge",
          "S:Cambridge",
          "S:Cambridge",
          "S:Cambridge",
          "S:Cambridge",
          "S:London",
          "S:London",
          "S:London",
          "S:London",
          "S:London",
          "S:London",
          "S:London",
          "S:London",
          "S:London",
          "S:London",
          "S:Newcastle",
          "S:Newcastle",
          "S:Newcastle",
          "S:Newcastle",
          "S:Newcastle",
          "S:Newcastle",
          "S:Newcastle",
          "S:Newcastle",
          "S:Newcastle",
          "S:Newcastle",
          "S:Manchester",
          "S:Manchester",
          "S:Manchester",
          "S:Manchester",
          "S:Manchester",
          "S:Manchester",
          "S:Manchester",
          "S:Manchester",
          "S:Manchester",
          "S:Edinburgh",
          "S:Edinburgh",
          "S:Edinburgh",
          "S:Edinburgh",
          "S:Edinburgh",
          "S:Edinburgh",
          "S:Edinburgh",
          "S:Edinburgh",
          "S:Edinburgh",
          "S:Edinburgh",
          "S:Brighton",
          "S:Brighton",
          "S:Brighton",
          "S:Brighton",
          "S:Brighton",
          "S:Brighton",
          "S:Brighton",
          "S:Brighton",
          "S:Brighton",
          "S:Bristol",
          "S:Bristol",
          "S:Bristol",
          "S:Bristol",
          "S:Bristol",
          "S:Bristol",
          "S:Bristol",
          "S:Bristol",
          "S:Bristol",
          "S:Birmingham",
          "S:Birmingham",
          "S:Birmingham",
          "S:Birmingham",
          "S:Birmingham",
          "S:Birmingham",
          "S:Birmingham",
          "S:Birmingham",
          "S:Birmingham",
          "S:Leeds",
          "S:Leeds",
          "S:Leeds",
          "S:Leeds",
          "S:Leeds",
          "S:Leeds",
          "S:Leeds",
          "S:Leeds",
          "S:Leeds"
         ],
         "type": "sunburst",
         "values": [
          10,
          10,
          10,
          10,
          10,
          10,
          10,
          10,
          10,
          10,
          10,
          3.24,
          4.15,
          1.59,
          11.51,
          3.34,
          6.38,
          4,
          0.35,
          1.99,
          4,
          3.59,
          1.15,
          1.13,
          4.22,
          4.8,
          2.27,
          3.16,
          2.14,
          3.6,
          2.5,
          1.18,
          1.22,
          3.24,
          2.11,
          4.47,
          1.24,
          1.22,
          2.5,
          2.18,
          4.21,
          2.15,
          3.39,
          3.17,
          2.2,
          1.39,
          4.4,
          4.49,
          3.22,
          1.21,
          3.49,
          1.24,
          4.15,
          2.15,
          2.3,
          3.28,
          4.7,
          3.5,
          1.14,
          3.16,
          4.56,
          5.12,
          5.15,
          1.26,
          3.23,
          6.23,
          5.5,
          4.3,
          2.57,
          2.08,
          2.46,
          1.25,
          4.04,
          3.55,
          6.13,
          3.13,
          3.2,
          4.6,
          0.59,
          2.9,
          1.28,
          4.2,
          3,
          5.15,
          3.18,
          2.2,
          3.3,
          1.9,
          49,
          2.5,
          3.25,
          1.55,
          4.3,
          2.59,
          1.23,
          1.58,
          5.21,
          2.15,
          5.16,
          1.36,
          1.13,
          2.48,
          6.22,
          3.38,
          1.15
         ]
        }
       ],
       "layout": {
        "template": {
         "data": {
          "bar": [
           {
            "error_x": {
             "color": "#2a3f5f"
            },
            "error_y": {
             "color": "#2a3f5f"
            },
            "marker": {
             "line": {
              "color": "#E5ECF6",
              "width": 0.5
             }
            },
            "type": "bar"
           }
          ],
          "barpolar": [
           {
            "marker": {
             "line": {
              "color": "#E5ECF6",
              "width": 0.5
             }
            },
            "type": "barpolar"
           }
          ],
          "carpet": [
           {
            "aaxis": {
             "endlinecolor": "#2a3f5f",
             "gridcolor": "white",
             "linecolor": "white",
             "minorgridcolor": "white",
             "startlinecolor": "#2a3f5f"
            },
            "baxis": {
             "endlinecolor": "#2a3f5f",
             "gridcolor": "white",
             "linecolor": "white",
             "minorgridcolor": "white",
             "startlinecolor": "#2a3f5f"
            },
            "type": "carpet"
           }
          ],
          "choropleth": [
           {
            "colorbar": {
             "outlinewidth": 0,
             "ticks": ""
            },
            "type": "choropleth"
           }
          ],
          "contour": [
           {
            "colorbar": {
             "outlinewidth": 0,
             "ticks": ""
            },
            "colorscale": [
             [
              0,
              "#0d0887"
             ],
             [
              0.1111111111111111,
              "#46039f"
             ],
             [
              0.2222222222222222,
              "#7201a8"
             ],
             [
              0.3333333333333333,
              "#9c179e"
             ],
             [
              0.4444444444444444,
              "#bd3786"
             ],
             [
              0.5555555555555556,
              "#d8576b"
             ],
             [
              0.6666666666666666,
              "#ed7953"
             ],
             [
              0.7777777777777778,
              "#fb9f3a"
             ],
             [
              0.8888888888888888,
              "#fdca26"
             ],
             [
              1,
              "#f0f921"
             ]
            ],
            "type": "contour"
           }
          ],
          "contourcarpet": [
           {
            "colorbar": {
             "outlinewidth": 0,
             "ticks": ""
            },
            "type": "contourcarpet"
           }
          ],
          "heatmap": [
           {
            "colorbar": {
             "outlinewidth": 0,
             "ticks": ""
            },
            "colorscale": [
             [
              0,
              "#0d0887"
             ],
             [
              0.1111111111111111,
              "#46039f"
             ],
             [
              0.2222222222222222,
              "#7201a8"
             ],
             [
              0.3333333333333333,
              "#9c179e"
             ],
             [
              0.4444444444444444,
              "#bd3786"
             ],
             [
              0.5555555555555556,
              "#d8576b"
             ],
             [
              0.6666666666666666,
              "#ed7953"
             ],
             [
              0.7777777777777778,
              "#fb9f3a"
             ],
             [
              0.8888888888888888,
              "#fdca26"
             ],
             [
              1,
              "#f0f921"
             ]
            ],
            "type": "heatmap"
           }
          ],
          "heatmapgl": [
           {
            "colorbar": {
             "outlinewidth": 0,
             "ticks": ""
            },
            "colorscale": [
             [
              0,
              "#0d0887"
             ],
             [
              0.1111111111111111,
              "#46039f"
             ],
             [
              0.2222222222222222,
              "#7201a8"
             ],
             [
              0.3333333333333333,
              "#9c179e"
             ],
             [
              0.4444444444444444,
              "#bd3786"
             ],
             [
              0.5555555555555556,
              "#d8576b"
             ],
             [
              0.6666666666666666,
              "#ed7953"
             ],
             [
              0.7777777777777778,
              "#fb9f3a"
             ],
             [
              0.8888888888888888,
              "#fdca26"
             ],
             [
              1,
              "#f0f921"
             ]
            ],
            "type": "heatmapgl"
           }
          ],
          "histogram": [
           {
            "marker": {
             "colorbar": {
              "outlinewidth": 0,
              "ticks": ""
             }
            },
            "type": "histogram"
           }
          ],
          "histogram2d": [
           {
            "colorbar": {
             "outlinewidth": 0,
             "ticks": ""
            },
            "colorscale": [
             [
              0,
              "#0d0887"
             ],
             [
              0.1111111111111111,
              "#46039f"
             ],
             [
              0.2222222222222222,
              "#7201a8"
             ],
             [
              0.3333333333333333,
              "#9c179e"
             ],
             [
              0.4444444444444444,
              "#bd3786"
             ],
             [
              0.5555555555555556,
              "#d8576b"
             ],
             [
              0.6666666666666666,
              "#ed7953"
             ],
             [
              0.7777777777777778,
              "#fb9f3a"
             ],
             [
              0.8888888888888888,
              "#fdca26"
             ],
             [
              1,
              "#f0f921"
             ]
            ],
            "type": "histogram2d"
           }
          ],
          "histogram2dcontour": [
           {
            "colorbar": {
             "outlinewidth": 0,
             "ticks": ""
            },
            "colorscale": [
             [
              0,
              "#0d0887"
             ],
             [
              0.1111111111111111,
              "#46039f"
             ],
             [
              0.2222222222222222,
              "#7201a8"
             ],
             [
              0.3333333333333333,
              "#9c179e"
             ],
             [
              0.4444444444444444,
              "#bd3786"
             ],
             [
              0.5555555555555556,
              "#d8576b"
             ],
             [
              0.6666666666666666,
              "#ed7953"
             ],
             [
              0.7777777777777778,
              "#fb9f3a"
             ],
             [
              0.8888888888888888,
              "#fdca26"
             ],
             [
              1,
              "#f0f921"
             ]
            ],
            "type": "histogram2dcontour"
           }
          ],
          "mesh3d": [
           {
            "colorbar": {
             "outlinewidth": 0,
             "ticks": ""
            },
            "type": "mesh3d"
           }
          ],
          "parcoords": [
           {
            "line": {
             "colorbar": {
              "outlinewidth": 0,
              "ticks": ""
             }
            },
            "type": "parcoords"
           }
          ],
          "scatter": [
           {
            "marker": {
             "colorbar": {
              "outlinewidth": 0,
              "ticks": ""
             }
            },
            "type": "scatter"
           }
          ],
          "scatter3d": [
           {
            "line": {
             "colorbar": {
              "outlinewidth": 0,
              "ticks": ""
             }
            },
            "marker": {
             "colorbar": {
              "outlinewidth": 0,
              "ticks": ""
             }
            },
            "type": "scatter3d"
           }
          ],
          "scattercarpet": [
           {
            "marker": {
             "colorbar": {
              "outlinewidth": 0,
              "ticks": ""
             }
            },
            "type": "scattercarpet"
           }
          ],
          "scattergeo": [
           {
            "marker": {
             "colorbar": {
              "outlinewidth": 0,
              "ticks": ""
             }
            },
            "type": "scattergeo"
           }
          ],
          "scattergl": [
           {
            "marker": {
             "colorbar": {
              "outlinewidth": 0,
              "ticks": ""
             }
            },
            "type": "scattergl"
           }
          ],
          "scattermapbox": [
           {
            "marker": {
             "colorbar": {
              "outlinewidth": 0,
              "ticks": ""
             }
            },
            "type": "scattermapbox"
           }
          ],
          "scatterpolar": [
           {
            "marker": {
             "colorbar": {
              "outlinewidth": 0,
              "ticks": ""
             }
            },
            "type": "scatterpolar"
           }
          ],
          "scatterpolargl": [
           {
            "marker": {
             "colorbar": {
              "outlinewidth": 0,
              "ticks": ""
             }
            },
            "type": "scatterpolargl"
           }
          ],
          "scatterternary": [
           {
            "marker": {
             "colorbar": {
              "outlinewidth": 0,
              "ticks": ""
             }
            },
            "type": "scatterternary"
           }
          ],
          "surface": [
           {
            "colorbar": {
             "outlinewidth": 0,
             "ticks": ""
            },
            "colorscale": [
             [
              0,
              "#0d0887"
             ],
             [
              0.1111111111111111,
              "#46039f"
             ],
             [
              0.2222222222222222,
              "#7201a8"
             ],
             [
              0.3333333333333333,
              "#9c179e"
             ],
             [
              0.4444444444444444,
              "#bd3786"
             ],
             [
              0.5555555555555556,
              "#d8576b"
             ],
             [
              0.6666666666666666,
              "#ed7953"
             ],
             [
              0.7777777777777778,
              "#fb9f3a"
             ],
             [
              0.8888888888888888,
              "#fdca26"
             ],
             [
              1,
              "#f0f921"
             ]
            ],
            "type": "surface"
           }
          ],
          "table": [
           {
            "cells": {
             "fill": {
              "color": "#EBF0F8"
             },
             "line": {
              "color": "white"
             }
            },
            "header": {
             "fill": {
              "color": "#C8D4E3"
             },
             "line": {
              "color": "white"
             }
            },
            "type": "table"
           }
          ]
         },
         "layout": {
          "annotationdefaults": {
           "arrowcolor": "#2a3f5f",
           "arrowhead": 0,
           "arrowwidth": 1
          },
          "colorscale": {
           "diverging": [
            [
             0,
             "#8e0152"
            ],
            [
             0.1,
             "#c51b7d"
            ],
            [
             0.2,
             "#de77ae"
            ],
            [
             0.3,
             "#f1b6da"
            ],
            [
             0.4,
             "#fde0ef"
            ],
            [
             0.5,
             "#f7f7f7"
            ],
            [
             0.6,
             "#e6f5d0"
            ],
            [
             0.7,
             "#b8e186"
            ],
            [
             0.8,
             "#7fbc41"
            ],
            [
             0.9,
             "#4d9221"
            ],
            [
             1,
             "#276419"
            ]
           ],
           "sequential": [
            [
             0,
             "#0d0887"
            ],
            [
             0.1111111111111111,
             "#46039f"
            ],
            [
             0.2222222222222222,
             "#7201a8"
            ],
            [
             0.3333333333333333,
             "#9c179e"
            ],
            [
             0.4444444444444444,
             "#bd3786"
            ],
            [
             0.5555555555555556,
             "#d8576b"
            ],
            [
             0.6666666666666666,
             "#ed7953"
            ],
            [
             0.7777777777777778,
             "#fb9f3a"
            ],
            [
             0.8888888888888888,
             "#fdca26"
            ],
            [
             1,
             "#f0f921"
            ]
           ],
           "sequentialminus": [
            [
             0,
             "#0d0887"
            ],
            [
             0.1111111111111111,
             "#46039f"
            ],
            [
             0.2222222222222222,
             "#7201a8"
            ],
            [
             0.3333333333333333,
             "#9c179e"
            ],
            [
             0.4444444444444444,
             "#bd3786"
            ],
            [
             0.5555555555555556,
             "#d8576b"
            ],
            [
             0.6666666666666666,
             "#ed7953"
            ],
            [
             0.7777777777777778,
             "#fb9f3a"
            ],
            [
             0.8888888888888888,
             "#fdca26"
            ],
            [
             1,
             "#f0f921"
            ]
           ]
          },
          "colorway": [
           "#636efa",
           "#EF553B",
           "#00cc96",
           "#ab63fa",
           "#FFA15A",
           "#19d3f3",
           "#FF6692",
           "#B6E880",
           "#FF97FF",
           "#FECB52"
          ],
          "font": {
           "color": "#2a3f5f"
          },
          "geo": {
           "bgcolor": "white",
           "lakecolor": "white",
           "landcolor": "#E5ECF6",
           "showlakes": true,
           "showland": true,
           "subunitcolor": "white"
          },
          "hoverlabel": {
           "align": "left"
          },
          "hovermode": "closest",
          "mapbox": {
           "style": "light"
          },
          "paper_bgcolor": "white",
          "plot_bgcolor": "#E5ECF6",
          "polar": {
           "angularaxis": {
            "gridcolor": "white",
            "linecolor": "white",
            "ticks": ""
           },
           "bgcolor": "#E5ECF6",
           "radialaxis": {
            "gridcolor": "white",
            "linecolor": "white",
            "ticks": ""
           }
          },
          "scene": {
           "xaxis": {
            "backgroundcolor": "#E5ECF6",
            "gridcolor": "white",
            "gridwidth": 2,
            "linecolor": "white",
            "showbackground": true,
            "ticks": "",
            "zerolinecolor": "white"
           },
           "yaxis": {
            "backgroundcolor": "#E5ECF6",
            "gridcolor": "white",
            "gridwidth": 2,
            "linecolor": "white",
            "showbackground": true,
            "ticks": "",
            "zerolinecolor": "white"
           },
           "zaxis": {
            "backgroundcolor": "#E5ECF6",
            "gridcolor": "white",
            "gridwidth": 2,
            "linecolor": "white",
            "showbackground": true,
            "ticks": "",
            "zerolinecolor": "white"
           }
          },
          "shapedefaults": {
           "line": {
            "color": "#2a3f5f"
           }
          },
          "ternary": {
           "aaxis": {
            "gridcolor": "white",
            "linecolor": "white",
            "ticks": ""
           },
           "baxis": {
            "gridcolor": "white",
            "linecolor": "white",
            "ticks": ""
           },
           "bgcolor": "#E5ECF6",
           "caxis": {
            "gridcolor": "white",
            "linecolor": "white",
            "ticks": ""
           }
          },
          "title": {
           "x": 0.05
          },
          "xaxis": {
           "automargin": true,
           "gridcolor": "white",
           "linecolor": "white",
           "ticks": "",
           "zerolinecolor": "white",
           "zerolinewidth": 2
          },
          "yaxis": {
           "automargin": true,
           "gridcolor": "white",
           "linecolor": "white",
           "ticks": "",
           "zerolinecolor": "white",
           "zerolinewidth": 2
          }
         }
        }
       }
      },
      "text/html": [
       "<div>\n",
       "        \n",
       "        \n",
       "            <div id=\"1fb35fd2-c084-4941-8136-1f2b39ee2155\" class=\"plotly-graph-div\" style=\"height:525px; width:100%;\"></div>\n",
       "            <script type=\"text/javascript\">\n",
       "                require([\"plotly\"], function(Plotly) {\n",
       "                    window.PLOTLYENV=window.PLOTLYENV || {};\n",
       "                    \n",
       "                if (document.getElementById(\"1fb35fd2-c084-4941-8136-1f2b39ee2155\")) {\n",
       "                    Plotly.newPlot(\n",
       "                        '1fb35fd2-c084-4941-8136-1f2b39ee2155',\n",
       "                        [{\"domain\": {\"x\": [0.0, 0.45], \"y\": [0.0, 1.0]}, \"hovertemplate\": \"Price:<b>%{value}\", \"labels\": [\"City\", \"S:Newcastle\", \"S:Manchester\", \"S:London\", \"S:Leeds\", \"S:Edinburgh\", \"S:Cardiff\", \"S:Cambridge\", \"S:Bristol\", \"S:Brighton\", \"S:Birmingham\", \"D:Leicester\", \"D:Cambridge\", \"D:London\", \"D:Newcastle\", \"D:Manchester\", \"D:Edinburgh\", \"D:Brighton\", \"D:Bristol\", \"D:Birmingham\", \"D:Leeds\", \"D:Cardiff\", \"D:Leicester\", \"D:London\", \"D:Manchester\", \"D:Edinburgh\", \"D:Brighton\", \"D:Bristol\", \"D:Birmingham\", \"D:Leeds\", \"D:Cardiff\", \"D:Leicester\", \"D:Cambridge\", \"D:Newcastle\", \"D:Manchester\", \"D:Edinburgh\", \"D:Brighton\", \"D:Bristol\", \"D:Birmingham\", \"D:Leeds\", \"D:Cardiff\", \"D:Leicester\", \"D:Cambridge\", \"D:London\", \"D:Manchester\", \"D:Edinburgh\", \"D:Brighton\", \"D:Bristol\", \"D:Birmingham\", \"D:Leeds\", \"D:Cardiff\", \"D:Leicester\", \"D:Cambridge\", \"D:London\", \"D:Newcastle\", \"D:Edinburgh\", \"D:Brighton\", \"D:Bristol\", \"D:Birmingham\", \"D:Cardiff\", \"D:Leicester\", \"D:Cambridge\", \"D:London\", \"D:Newcastle\", \"D:Manchester\", \"D:Brighton\", \"D:Bristol\", \"D:Birmingham\", \"D:Leeds\", \"D:Leicester\", \"D:Cambridge\", \"D:London\", \"D:Newcastle\", \"D:Manchester\", \"D:Edinburgh\", \"D:Bristol\", \"D:Birmingham\", \"D:Leeds\", \"D:Cardiff\", \"D:Cambridge\", \"D:London\", \"D:Newcastle\", \"D:Manchester\", \"D:Edinburgh\", \"D:Brighton\", \"D:Birmingham\", \"D:Leeds\", \"D:Cardiff\", \"D:Leicester\", \"D:London\", \"D:Newcastle\", \"D:Manchester\", \"D:Edinburgh\", \"D:Brighton\", \"D:Bristol\", \"D:Leeds\", \"D:Cardiff\", \"D:Leicester\", \"D:Cambridge\", \"D:Newcastle\", \"D:Manchester\", \"D:Edinburgh\", \"D:Brighton\", \"D:Bristol\", \"D:Birmingham\"], \"maxdepth\": 2, \"parents\": [\"\", \"City\", \"City\", \"City\", \"City\", \"City\", \"City\", \"City\", \"City\", \"City\", \"City\", \"S:Cardiff\", \"S:Cardiff\", \"S:Cardiff\", \"S:Cardiff\", \"S:Cardiff\", \"S:Cardiff\", \"S:Cardiff\", \"S:Cardiff\", \"S:Cardiff\", \"S:Cardiff\", \"S:Cambridge\", \"S:Cambridge\", \"S:Cambridge\", \"S:Cambridge\", \"S:Cambridge\", \"S:Cambridge\", \"S:Cambridge\", \"S:Cambridge\", \"S:Cambridge\", \"S:London\", \"S:London\", \"S:London\", \"S:London\", \"S:London\", \"S:London\", \"S:London\", \"S:London\", \"S:London\", \"S:London\", \"S:Newcastle\", \"S:Newcastle\", \"S:Newcastle\", \"S:Newcastle\", \"S:Newcastle\", \"S:Newcastle\", \"S:Newcastle\", \"S:Newcastle\", \"S:Newcastle\", \"S:Newcastle\", \"S:Manchester\", \"S:Manchester\", \"S:Manchester\", \"S:Manchester\", \"S:Manchester\", \"S:Manchester\", \"S:Manchester\", \"S:Manchester\", \"S:Manchester\", \"S:Edinburgh\", \"S:Edinburgh\", \"S:Edinburgh\", \"S:Edinburgh\", \"S:Edinburgh\", \"S:Edinburgh\", \"S:Edinburgh\", \"S:Edinburgh\", \"S:Edinburgh\", \"S:Edinburgh\", \"S:Brighton\", \"S:Brighton\", \"S:Brighton\", \"S:Brighton\", \"S:Brighton\", \"S:Brighton\", \"S:Brighton\", \"S:Brighton\", \"S:Brighton\", \"S:Bristol\", \"S:Bristol\", \"S:Bristol\", \"S:Bristol\", \"S:Bristol\", \"S:Bristol\", \"S:Bristol\", \"S:Bristol\", \"S:Bristol\", \"S:Birmingham\", \"S:Birmingham\", \"S:Birmingham\", \"S:Birmingham\", \"S:Birmingham\", \"S:Birmingham\", \"S:Birmingham\", \"S:Birmingham\", \"S:Birmingham\", \"S:Leeds\", \"S:Leeds\", \"S:Leeds\", \"S:Leeds\", \"S:Leeds\", \"S:Leeds\", \"S:Leeds\", \"S:Leeds\", \"S:Leeds\"], \"type\": \"sunburst\", \"values\": [10, 10, 10, 10, 10, 10, 10, 10, 10, 10, 10, 108.8, 87.0, 102.0, 182.4, 42.5, 201.0, 141.0, 12.0, 63.0, 138.0, 67.15, 50.75, 16.0, 36.18, 63.0, 49.17, 85.15, 62.45, 50.0, 102.0, 46.15, 10.0, 56.5, 148.0, 230.0, 25.0, 95.15, 9.14, 17.0, 169.3, 150.16, 112.0, 124.0, 31.6, 23.2, 132.0, 132.0, 159.9, 35.16, 37.19, 5.15, 69.16, 153.0, 38.16, 24.15, 213.15, 92.3, 41.0, 95.0, 148.16, 63.0, 55.0, 12.17, 25.15, 84.0, 102.2, 39.0, 44.17, 30.13, 49.17, 25.0, 82.0, 166.0, 84.0, 55.15, 56.15, 49.15, 11.0, 120.0, 103.0, 102.9, 44.18, 215.0, 122.0, 76.18, 125.65, 59.05, 19.99, 20.0, 115.19, 29.5, 39.0, 69.15, 56.18, 74.15, 65.1, 57.16, 99.19, 30.13, 5.15, 89.15, 120.09, 129.87, 65.16]}, {\"domain\": {\"x\": [0.55, 1.0], \"y\": [0.0, 1.0]}, \"hovertemplate\": \"Price:<b>%{value}\", \"labels\": [\"City\", \"S:Newcastle\", \"S:Manchester\", \"S:London\", \"S:Leeds\", \"S:Edinburgh\", \"S:Cardiff\", \"S:Cambridge\", \"S:Bristol\", \"S:Brighton\", \"S:Birmingham\", \"D:Leicester\", \"D:Cambridge\", \"D:London\", \"D:Newcastle\", \"D:Manchester\", \"D:Edinburgh\", \"D:Brighton\", \"D:Bristol\", \"D:Birmingham\", \"D:Leeds\", \"D:Cardiff\", \"D:Leicester\", \"D:London\", \"D:Manchester\", \"D:Edinburgh\", \"D:Brighton\", \"D:Bristol\", \"D:Birmingham\", \"D:Leeds\", \"D:Cardiff\", \"D:Leicester\", \"D:Cambridge\", \"D:Newcastle\", \"D:Manchester\", \"D:Edinburgh\", \"D:Brighton\", \"D:Bristol\", \"D:Birmingham\", \"D:Leeds\", \"D:Cardiff\", \"D:Leicester\", \"D:Cambridge\", \"D:London\", \"D:Manchester\", \"D:Edinburgh\", \"D:Brighton\", \"D:Bristol\", \"D:Birmingham\", \"D:Leeds\", \"D:Cardiff\", \"D:Leicester\", \"D:Cambridge\", \"D:London\", \"D:Newcastle\", \"D:Edinburgh\", \"D:Brighton\", \"D:Bristol\", \"D:Birmingham\", \"D:Cardiff\", \"D:Leicester\", \"D:Cambridge\", \"D:London\", \"D:Newcastle\", \"D:Manchester\", \"D:Brighton\", \"D:Bristol\", \"D:Birmingham\", \"D:Leeds\", \"D:Leicester\", \"D:Cambridge\", \"D:London\", \"D:Newcastle\", \"D:Manchester\", \"D:Edinburgh\", \"D:Bristol\", \"D:Birmingham\", \"D:Leeds\", \"D:Cardiff\", \"D:Cambridge\", \"D:London\", \"D:Newcastle\", \"D:Manchester\", \"D:Edinburgh\", \"D:Brighton\", \"D:Birmingham\", \"D:Leeds\", \"D:Cardiff\", \"D:Leicester\", \"D:London\", \"D:Newcastle\", \"D:Manchester\", \"D:Edinburgh\", \"D:Brighton\", \"D:Bristol\", \"D:Leeds\", \"D:Cardiff\", \"D:Leicester\", \"D:Cambridge\", \"D:Newcastle\", \"D:Manchester\", \"D:Edinburgh\", \"D:Brighton\", \"D:Bristol\", \"D:Birmingham\"], \"maxdepth\": 2, \"parents\": [\"\", \"City\", \"City\", \"City\", \"City\", \"City\", \"City\", \"City\", \"City\", \"City\", \"City\", \"S:Cardiff\", \"S:Cardiff\", \"S:Cardiff\", \"S:Cardiff\", \"S:Cardiff\", \"S:Cardiff\", \"S:Cardiff\", \"S:Cardiff\", \"S:Cardiff\", \"S:Cardiff\", \"S:Cambridge\", \"S:Cambridge\", \"S:Cambridge\", \"S:Cambridge\", \"S:Cambridge\", \"S:Cambridge\", \"S:Cambridge\", \"S:Cambridge\", \"S:Cambridge\", \"S:London\", \"S:London\", \"S:London\", \"S:London\", \"S:London\", \"S:London\", \"S:London\", \"S:London\", \"S:London\", \"S:London\", \"S:Newcastle\", \"S:Newcastle\", \"S:Newcastle\", \"S:Newcastle\", \"S:Newcastle\", \"S:Newcastle\", \"S:Newcastle\", \"S:Newcastle\", \"S:Newcastle\", \"S:Newcastle\", \"S:Manchester\", \"S:Manchester\", \"S:Manchester\", \"S:Manchester\", \"S:Manchester\", \"S:Manchester\", \"S:Manchester\", \"S:Manchester\", \"S:Manchester\", \"S:Edinburgh\", \"S:Edinburgh\", \"S:Edinburgh\", \"S:Edinburgh\", \"S:Edinburgh\", \"S:Edinburgh\", \"S:Edinburgh\", \"S:Edinburgh\", \"S:Edinburgh\", \"S:Edinburgh\", \"S:Brighton\", \"S:Brighton\", \"S:Brighton\", \"S:Brighton\", \"S:Brighton\", \"S:Brighton\", \"S:Brighton\", \"S:Brighton\", \"S:Brighton\", \"S:Bristol\", \"S:Bristol\", \"S:Bristol\", \"S:Bristol\", \"S:Bristol\", \"S:Bristol\", \"S:Bristol\", \"S:Bristol\", \"S:Bristol\", \"S:Birmingham\", \"S:Birmingham\", \"S:Birmingham\", \"S:Birmingham\", \"S:Birmingham\", \"S:Birmingham\", \"S:Birmingham\", \"S:Birmingham\", \"S:Birmingham\", \"S:Leeds\", \"S:Leeds\", \"S:Leeds\", \"S:Leeds\", \"S:Leeds\", \"S:Leeds\", \"S:Leeds\", \"S:Leeds\", \"S:Leeds\"], \"type\": \"sunburst\", \"values\": [10, 10, 10, 10, 10, 10, 10, 10, 10, 10, 10, 3.24, 4.15, 1.59, 11.51, 3.34, 6.38, 4.0, 0.35, 1.99, 4.0, 3.59, 1.15, 1.13, 4.22, 4.8, 2.27, 3.16, 2.14, 3.6, 2.5, 1.18, 1.22, 3.24, 2.11, 4.47, 1.24, 1.22, 2.5, 2.18, 4.21, 2.15, 3.39, 3.17, 2.2, 1.39, 4.4, 4.49, 3.22, 1.21, 3.49, 1.24, 4.15, 2.15, 2.3, 3.28, 4.7, 3.5, 1.14, 3.16, 4.56, 5.12, 5.15, 1.26, 3.23, 6.23, 5.5, 4.3, 2.57, 2.08, 2.46, 1.25, 4.04, 3.55, 6.13, 3.13, 3.2, 4.6, 0.59, 2.9, 1.28, 4.2, 3.0, 5.15, 3.18, 2.2, 3.3, 1.9, 49.0, 2.5, 3.25, 1.55, 4.3, 2.59, 1.23, 1.58, 5.21, 2.15, 5.16, 1.36, 1.13, 2.48, 6.22, 3.38, 1.15]}],\n",
       "                        {\"template\": {\"data\": {\"bar\": [{\"error_x\": {\"color\": \"#2a3f5f\"}, \"error_y\": {\"color\": \"#2a3f5f\"}, \"marker\": {\"line\": {\"color\": \"#E5ECF6\", \"width\": 0.5}}, \"type\": \"bar\"}], \"barpolar\": [{\"marker\": {\"line\": {\"color\": \"#E5ECF6\", \"width\": 0.5}}, \"type\": \"barpolar\"}], \"carpet\": [{\"aaxis\": {\"endlinecolor\": \"#2a3f5f\", \"gridcolor\": \"white\", \"linecolor\": \"white\", \"minorgridcolor\": \"white\", \"startlinecolor\": \"#2a3f5f\"}, \"baxis\": {\"endlinecolor\": \"#2a3f5f\", \"gridcolor\": \"white\", \"linecolor\": \"white\", \"minorgridcolor\": \"white\", \"startlinecolor\": \"#2a3f5f\"}, \"type\": \"carpet\"}], \"choropleth\": [{\"colorbar\": {\"outlinewidth\": 0, \"ticks\": \"\"}, \"type\": \"choropleth\"}], \"contour\": [{\"colorbar\": {\"outlinewidth\": 0, \"ticks\": \"\"}, \"colorscale\": [[0.0, \"#0d0887\"], [0.1111111111111111, \"#46039f\"], [0.2222222222222222, \"#7201a8\"], [0.3333333333333333, \"#9c179e\"], [0.4444444444444444, \"#bd3786\"], [0.5555555555555556, \"#d8576b\"], [0.6666666666666666, \"#ed7953\"], [0.7777777777777778, \"#fb9f3a\"], [0.8888888888888888, \"#fdca26\"], [1.0, \"#f0f921\"]], \"type\": \"contour\"}], \"contourcarpet\": [{\"colorbar\": {\"outlinewidth\": 0, \"ticks\": \"\"}, \"type\": \"contourcarpet\"}], \"heatmap\": [{\"colorbar\": {\"outlinewidth\": 0, \"ticks\": \"\"}, \"colorscale\": [[0.0, \"#0d0887\"], [0.1111111111111111, \"#46039f\"], [0.2222222222222222, \"#7201a8\"], [0.3333333333333333, \"#9c179e\"], [0.4444444444444444, \"#bd3786\"], [0.5555555555555556, \"#d8576b\"], [0.6666666666666666, \"#ed7953\"], [0.7777777777777778, \"#fb9f3a\"], [0.8888888888888888, \"#fdca26\"], [1.0, \"#f0f921\"]], \"type\": \"heatmap\"}], \"heatmapgl\": [{\"colorbar\": {\"outlinewidth\": 0, \"ticks\": \"\"}, \"colorscale\": [[0.0, \"#0d0887\"], [0.1111111111111111, \"#46039f\"], [0.2222222222222222, \"#7201a8\"], [0.3333333333333333, \"#9c179e\"], [0.4444444444444444, \"#bd3786\"], [0.5555555555555556, \"#d8576b\"], [0.6666666666666666, \"#ed7953\"], [0.7777777777777778, \"#fb9f3a\"], [0.8888888888888888, \"#fdca26\"], [1.0, \"#f0f921\"]], \"type\": \"heatmapgl\"}], \"histogram\": [{\"marker\": {\"colorbar\": {\"outlinewidth\": 0, \"ticks\": \"\"}}, \"type\": \"histogram\"}], \"histogram2d\": [{\"colorbar\": {\"outlinewidth\": 0, \"ticks\": \"\"}, \"colorscale\": [[0.0, \"#0d0887\"], [0.1111111111111111, \"#46039f\"], [0.2222222222222222, \"#7201a8\"], [0.3333333333333333, \"#9c179e\"], [0.4444444444444444, \"#bd3786\"], [0.5555555555555556, \"#d8576b\"], [0.6666666666666666, \"#ed7953\"], [0.7777777777777778, \"#fb9f3a\"], [0.8888888888888888, \"#fdca26\"], [1.0, \"#f0f921\"]], \"type\": \"histogram2d\"}], \"histogram2dcontour\": [{\"colorbar\": {\"outlinewidth\": 0, \"ticks\": \"\"}, \"colorscale\": [[0.0, \"#0d0887\"], [0.1111111111111111, \"#46039f\"], [0.2222222222222222, \"#7201a8\"], [0.3333333333333333, \"#9c179e\"], [0.4444444444444444, \"#bd3786\"], [0.5555555555555556, \"#d8576b\"], [0.6666666666666666, \"#ed7953\"], [0.7777777777777778, \"#fb9f3a\"], [0.8888888888888888, \"#fdca26\"], [1.0, \"#f0f921\"]], \"type\": \"histogram2dcontour\"}], \"mesh3d\": [{\"colorbar\": {\"outlinewidth\": 0, \"ticks\": \"\"}, \"type\": \"mesh3d\"}], \"parcoords\": [{\"line\": {\"colorbar\": {\"outlinewidth\": 0, \"ticks\": \"\"}}, \"type\": \"parcoords\"}], \"scatter\": [{\"marker\": {\"colorbar\": {\"outlinewidth\": 0, \"ticks\": \"\"}}, \"type\": \"scatter\"}], \"scatter3d\": [{\"line\": {\"colorbar\": {\"outlinewidth\": 0, \"ticks\": \"\"}}, \"marker\": {\"colorbar\": {\"outlinewidth\": 0, \"ticks\": \"\"}}, \"type\": \"scatter3d\"}], \"scattercarpet\": [{\"marker\": {\"colorbar\": {\"outlinewidth\": 0, \"ticks\": \"\"}}, \"type\": \"scattercarpet\"}], \"scattergeo\": [{\"marker\": {\"colorbar\": {\"outlinewidth\": 0, \"ticks\": \"\"}}, \"type\": \"scattergeo\"}], \"scattergl\": [{\"marker\": {\"colorbar\": {\"outlinewidth\": 0, \"ticks\": \"\"}}, \"type\": \"scattergl\"}], \"scattermapbox\": [{\"marker\": {\"colorbar\": {\"outlinewidth\": 0, \"ticks\": \"\"}}, \"type\": \"scattermapbox\"}], \"scatterpolar\": [{\"marker\": {\"colorbar\": {\"outlinewidth\": 0, \"ticks\": \"\"}}, \"type\": \"scatterpolar\"}], \"scatterpolargl\": [{\"marker\": {\"colorbar\": {\"outlinewidth\": 0, \"ticks\": \"\"}}, \"type\": \"scatterpolargl\"}], \"scatterternary\": [{\"marker\": {\"colorbar\": {\"outlinewidth\": 0, \"ticks\": \"\"}}, \"type\": \"scatterternary\"}], \"surface\": [{\"colorbar\": {\"outlinewidth\": 0, \"ticks\": \"\"}, \"colorscale\": [[0.0, \"#0d0887\"], [0.1111111111111111, \"#46039f\"], [0.2222222222222222, \"#7201a8\"], [0.3333333333333333, \"#9c179e\"], [0.4444444444444444, \"#bd3786\"], [0.5555555555555556, \"#d8576b\"], [0.6666666666666666, \"#ed7953\"], [0.7777777777777778, \"#fb9f3a\"], [0.8888888888888888, \"#fdca26\"], [1.0, \"#f0f921\"]], \"type\": \"surface\"}], \"table\": [{\"cells\": {\"fill\": {\"color\": \"#EBF0F8\"}, \"line\": {\"color\": \"white\"}}, \"header\": {\"fill\": {\"color\": \"#C8D4E3\"}, \"line\": {\"color\": \"white\"}}, \"type\": \"table\"}]}, \"layout\": {\"annotationdefaults\": {\"arrowcolor\": \"#2a3f5f\", \"arrowhead\": 0, \"arrowwidth\": 1}, \"colorscale\": {\"diverging\": [[0, \"#8e0152\"], [0.1, \"#c51b7d\"], [0.2, \"#de77ae\"], [0.3, \"#f1b6da\"], [0.4, \"#fde0ef\"], [0.5, \"#f7f7f7\"], [0.6, \"#e6f5d0\"], [0.7, \"#b8e186\"], [0.8, \"#7fbc41\"], [0.9, \"#4d9221\"], [1, \"#276419\"]], \"sequential\": [[0.0, \"#0d0887\"], [0.1111111111111111, \"#46039f\"], [0.2222222222222222, \"#7201a8\"], [0.3333333333333333, \"#9c179e\"], [0.4444444444444444, \"#bd3786\"], [0.5555555555555556, \"#d8576b\"], [0.6666666666666666, \"#ed7953\"], [0.7777777777777778, \"#fb9f3a\"], [0.8888888888888888, \"#fdca26\"], [1.0, \"#f0f921\"]], \"sequentialminus\": [[0.0, \"#0d0887\"], [0.1111111111111111, \"#46039f\"], [0.2222222222222222, \"#7201a8\"], [0.3333333333333333, \"#9c179e\"], [0.4444444444444444, \"#bd3786\"], [0.5555555555555556, \"#d8576b\"], [0.6666666666666666, \"#ed7953\"], [0.7777777777777778, \"#fb9f3a\"], [0.8888888888888888, \"#fdca26\"], [1.0, \"#f0f921\"]]}, \"colorway\": [\"#636efa\", \"#EF553B\", \"#00cc96\", \"#ab63fa\", \"#FFA15A\", \"#19d3f3\", \"#FF6692\", \"#B6E880\", \"#FF97FF\", \"#FECB52\"], \"font\": {\"color\": \"#2a3f5f\"}, \"geo\": {\"bgcolor\": \"white\", \"lakecolor\": \"white\", \"landcolor\": \"#E5ECF6\", \"showlakes\": true, \"showland\": true, \"subunitcolor\": \"white\"}, \"hoverlabel\": {\"align\": \"left\"}, \"hovermode\": \"closest\", \"mapbox\": {\"style\": \"light\"}, \"paper_bgcolor\": \"white\", \"plot_bgcolor\": \"#E5ECF6\", \"polar\": {\"angularaxis\": {\"gridcolor\": \"white\", \"linecolor\": \"white\", \"ticks\": \"\"}, \"bgcolor\": \"#E5ECF6\", \"radialaxis\": {\"gridcolor\": \"white\", \"linecolor\": \"white\", \"ticks\": \"\"}}, \"scene\": {\"xaxis\": {\"backgroundcolor\": \"#E5ECF6\", \"gridcolor\": \"white\", \"gridwidth\": 2, \"linecolor\": \"white\", \"showbackground\": true, \"ticks\": \"\", \"zerolinecolor\": \"white\"}, \"yaxis\": {\"backgroundcolor\": \"#E5ECF6\", \"gridcolor\": \"white\", \"gridwidth\": 2, \"linecolor\": \"white\", \"showbackground\": true, \"ticks\": \"\", \"zerolinecolor\": \"white\"}, \"zaxis\": {\"backgroundcolor\": \"#E5ECF6\", \"gridcolor\": \"white\", \"gridwidth\": 2, \"linecolor\": \"white\", \"showbackground\": true, \"ticks\": \"\", \"zerolinecolor\": \"white\"}}, \"shapedefaults\": {\"line\": {\"color\": \"#2a3f5f\"}}, \"ternary\": {\"aaxis\": {\"gridcolor\": \"white\", \"linecolor\": \"white\", \"ticks\": \"\"}, \"baxis\": {\"gridcolor\": \"white\", \"linecolor\": \"white\", \"ticks\": \"\"}, \"bgcolor\": \"#E5ECF6\", \"caxis\": {\"gridcolor\": \"white\", \"linecolor\": \"white\", \"ticks\": \"\"}}, \"title\": {\"x\": 0.05}, \"xaxis\": {\"automargin\": true, \"gridcolor\": \"white\", \"linecolor\": \"white\", \"ticks\": \"\", \"zerolinecolor\": \"white\", \"zerolinewidth\": 2}, \"yaxis\": {\"automargin\": true, \"gridcolor\": \"white\", \"linecolor\": \"white\", \"ticks\": \"\", \"zerolinecolor\": \"white\", \"zerolinewidth\": 2}}}},\n",
       "                        {\"responsive\": true}\n",
       "                    ).then(function(){\n",
       "                            \n",
       "var gd = document.getElementById('1fb35fd2-c084-4941-8136-1f2b39ee2155');\n",
       "var x = new MutationObserver(function (mutations, observer) {{\n",
       "        var display = window.getComputedStyle(gd).display;\n",
       "        if (!display || display === 'none') {{\n",
       "            console.log([gd, 'removed!']);\n",
       "            Plotly.purge(gd);\n",
       "            observer.disconnect();\n",
       "        }}\n",
       "}});\n",
       "\n",
       "// Listen for the removal of the full notebook cells\n",
       "var notebookContainer = gd.closest('#notebook-container');\n",
       "if (notebookContainer) {{\n",
       "    x.observe(notebookContainer, {childList: true});\n",
       "}}\n",
       "\n",
       "// Listen for the clearing of the current output cell\n",
       "var outputEl = gd.closest('.output');\n",
       "if (outputEl) {{\n",
       "    x.observe(outputEl, {childList: true});\n",
       "}}\n",
       "\n",
       "                        })\n",
       "                };\n",
       "                });\n",
       "            </script>\n",
       "        </div>"
      ]
     },
     "metadata": {},
     "output_type": "display_data"
    }
   ],
   "source": [
    "#For Train tickets\n",
    "labels=list(df['Destination_City'])\n",
    "parents=list(df['Source_City'])\n",
    "value=list(df['Train Tickets'])\n",
    "value_time=list(df['Train Time'])\n",
    "\n",
    "labels,parents,value,value_time=input_to_sunburst(labels,parents,value,value_time)\n",
    "\n",
    "fig = make_subplots(1, 2, specs=[[{\"type\": \"domain\"}, {\"type\": \"domain\"}]],)\n",
    "fig.add_trace(go.Sunburst(\n",
    "        labels=labels,\n",
    "        parents=parents,\n",
    "        values=value,\n",
    "        hovertemplate=\"Price:<b>%{value}\",\n",
    "        maxdepth=2\n",
    "    ),1,1)\n",
    "\n",
    "fig.add_trace(go.Sunburst(\n",
    "        labels=labels,\n",
    "        parents=parents,\n",
    "        values=value_time,\n",
    "        hovertemplate=\"Price:<b>%{value}\",\n",
    "        maxdepth=2\n",
    "    ),1,2)\n",
    "\n",
    "fig.show()"
   ]
  },
  {
   "cell_type": "markdown",
   "metadata": {},
   "source": [
    "# Scatter Plot"
   ]
  },
  {
   "cell_type": "code",
   "execution_count": 98,
   "metadata": {},
   "outputs": [
    {
     "data": {
      "text/html": [
       "<div>\n",
       "<style scoped>\n",
       "    .dataframe tbody tr th:only-of-type {\n",
       "        vertical-align: middle;\n",
       "    }\n",
       "\n",
       "    .dataframe tbody tr th {\n",
       "        vertical-align: top;\n",
       "    }\n",
       "\n",
       "    .dataframe thead th {\n",
       "        text-align: right;\n",
       "    }\n",
       "</style>\n",
       "<table border=\"1\" class=\"dataframe\">\n",
       "  <thead>\n",
       "    <tr style=\"text-align: right;\">\n",
       "      <th></th>\n",
       "      <th>Source_City</th>\n",
       "      <th>Destination_City</th>\n",
       "      <th>Plane Tickets</th>\n",
       "      <th>Plane Time</th>\n",
       "      <th>Train Tickets</th>\n",
       "      <th>Train Time</th>\n",
       "    </tr>\n",
       "  </thead>\n",
       "  <tbody>\n",
       "    <tr>\n",
       "      <th>0</th>\n",
       "      <td>Cardiff</td>\n",
       "      <td>Leicester</td>\n",
       "      <td>175.0</td>\n",
       "      <td>4.25</td>\n",
       "      <td>108.8</td>\n",
       "      <td>3.24</td>\n",
       "    </tr>\n",
       "    <tr>\n",
       "      <th>1</th>\n",
       "      <td>Cardiff</td>\n",
       "      <td>Cambridge</td>\n",
       "      <td>175.0</td>\n",
       "      <td>6.14</td>\n",
       "      <td>87.0</td>\n",
       "      <td>4.15</td>\n",
       "    </tr>\n",
       "    <tr>\n",
       "      <th>2</th>\n",
       "      <td>Cardiff</td>\n",
       "      <td>London</td>\n",
       "      <td>175.0</td>\n",
       "      <td>4.25</td>\n",
       "      <td>102.0</td>\n",
       "      <td>1.59</td>\n",
       "    </tr>\n",
       "    <tr>\n",
       "      <th>3</th>\n",
       "      <td>Cardiff</td>\n",
       "      <td>Newcastle</td>\n",
       "      <td>202.0</td>\n",
       "      <td>4.45</td>\n",
       "      <td>182.4</td>\n",
       "      <td>11.51</td>\n",
       "    </tr>\n",
       "    <tr>\n",
       "      <th>4</th>\n",
       "      <td>Cardiff</td>\n",
       "      <td>Manchester</td>\n",
       "      <td>87.8</td>\n",
       "      <td>4.13</td>\n",
       "      <td>42.5</td>\n",
       "      <td>3.34</td>\n",
       "    </tr>\n",
       "  </tbody>\n",
       "</table>\n",
       "</div>"
      ],
      "text/plain": [
       "  Source_City Destination_City  Plane Tickets  Plane Time  Train Tickets  \\\n",
       "0     Cardiff        Leicester          175.0        4.25          108.8   \n",
       "1     Cardiff        Cambridge          175.0        6.14           87.0   \n",
       "2     Cardiff           London          175.0        4.25          102.0   \n",
       "3     Cardiff        Newcastle          202.0        4.45          182.4   \n",
       "4     Cardiff       Manchester           87.8        4.13           42.5   \n",
       "\n",
       "   Train Time  \n",
       "0        3.24  \n",
       "1        4.15  \n",
       "2        1.59  \n",
       "3       11.51  \n",
       "4        3.34  "
      ]
     },
     "execution_count": 98,
     "metadata": {},
     "output_type": "execute_result"
    }
   ],
   "source": [
    "df.head()"
   ]
  },
  {
   "cell_type": "code",
   "execution_count": 121,
   "metadata": {},
   "outputs": [
    {
     "data": {
      "text/html": [
       "<div>\n",
       "<style scoped>\n",
       "    .dataframe tbody tr th:only-of-type {\n",
       "        vertical-align: middle;\n",
       "    }\n",
       "\n",
       "    .dataframe tbody tr th {\n",
       "        vertical-align: top;\n",
       "    }\n",
       "\n",
       "    .dataframe thead th {\n",
       "        text-align: right;\n",
       "    }\n",
       "</style>\n",
       "<table border=\"1\" class=\"dataframe\">\n",
       "  <thead>\n",
       "    <tr style=\"text-align: right;\">\n",
       "      <th></th>\n",
       "      <th>Ticket Cost</th>\n",
       "      <th>Time</th>\n",
       "      <th>type</th>\n",
       "    </tr>\n",
       "  </thead>\n",
       "  <tbody>\n",
       "    <tr>\n",
       "      <th>0</th>\n",
       "      <td>175.0</td>\n",
       "      <td>4.25</td>\n",
       "      <td>Plane</td>\n",
       "    </tr>\n",
       "    <tr>\n",
       "      <th>1</th>\n",
       "      <td>175.0</td>\n",
       "      <td>6.14</td>\n",
       "      <td>Plane</td>\n",
       "    </tr>\n",
       "    <tr>\n",
       "      <th>2</th>\n",
       "      <td>175.0</td>\n",
       "      <td>4.25</td>\n",
       "      <td>Plane</td>\n",
       "    </tr>\n",
       "    <tr>\n",
       "      <th>3</th>\n",
       "      <td>202.0</td>\n",
       "      <td>4.45</td>\n",
       "      <td>Plane</td>\n",
       "    </tr>\n",
       "    <tr>\n",
       "      <th>4</th>\n",
       "      <td>87.8</td>\n",
       "      <td>4.13</td>\n",
       "      <td>Plane</td>\n",
       "    </tr>\n",
       "  </tbody>\n",
       "</table>\n",
       "</div>"
      ],
      "text/plain": [
       "   Ticket Cost  Time   type\n",
       "0        175.0  4.25  Plane\n",
       "1        175.0  6.14  Plane\n",
       "2        175.0  4.25  Plane\n",
       "3        202.0  4.45  Plane\n",
       "4         87.8  4.13  Plane"
      ]
     },
     "execution_count": 121,
     "metadata": {},
     "output_type": "execute_result"
    }
   ],
   "source": [
    "df_plane=pd.DataFrame()\n",
    "df_plane[['Ticket Cost','Time']]=df[['Plane Tickets','Plane Time']]\n",
    "df_plane['type']='Plane'\n",
    "df_plane.head()"
   ]
  },
  {
   "cell_type": "code",
   "execution_count": 122,
   "metadata": {},
   "outputs": [
    {
     "data": {
      "text/html": [
       "<div>\n",
       "<style scoped>\n",
       "    .dataframe tbody tr th:only-of-type {\n",
       "        vertical-align: middle;\n",
       "    }\n",
       "\n",
       "    .dataframe tbody tr th {\n",
       "        vertical-align: top;\n",
       "    }\n",
       "\n",
       "    .dataframe thead th {\n",
       "        text-align: right;\n",
       "    }\n",
       "</style>\n",
       "<table border=\"1\" class=\"dataframe\">\n",
       "  <thead>\n",
       "    <tr style=\"text-align: right;\">\n",
       "      <th></th>\n",
       "      <th>Ticket Cost</th>\n",
       "      <th>Time</th>\n",
       "      <th>type</th>\n",
       "    </tr>\n",
       "  </thead>\n",
       "  <tbody>\n",
       "    <tr>\n",
       "      <th>0</th>\n",
       "      <td>108.8</td>\n",
       "      <td>3.24</td>\n",
       "      <td>Train</td>\n",
       "    </tr>\n",
       "    <tr>\n",
       "      <th>1</th>\n",
       "      <td>87.0</td>\n",
       "      <td>4.15</td>\n",
       "      <td>Train</td>\n",
       "    </tr>\n",
       "    <tr>\n",
       "      <th>2</th>\n",
       "      <td>102.0</td>\n",
       "      <td>1.59</td>\n",
       "      <td>Train</td>\n",
       "    </tr>\n",
       "    <tr>\n",
       "      <th>3</th>\n",
       "      <td>182.4</td>\n",
       "      <td>11.51</td>\n",
       "      <td>Train</td>\n",
       "    </tr>\n",
       "    <tr>\n",
       "      <th>4</th>\n",
       "      <td>42.5</td>\n",
       "      <td>3.34</td>\n",
       "      <td>Train</td>\n",
       "    </tr>\n",
       "  </tbody>\n",
       "</table>\n",
       "</div>"
      ],
      "text/plain": [
       "   Ticket Cost   Time   type\n",
       "0        108.8   3.24  Train\n",
       "1         87.0   4.15  Train\n",
       "2        102.0   1.59  Train\n",
       "3        182.4  11.51  Train\n",
       "4         42.5   3.34  Train"
      ]
     },
     "execution_count": 122,
     "metadata": {},
     "output_type": "execute_result"
    }
   ],
   "source": [
    "df_train=pd.DataFrame()\n",
    "df_train[['Ticket Cost','Time']]=df[['Train Tickets','Train Time']]\n",
    "df_train['type']='Train'\n",
    "df_train.head()"
   ]
  },
  {
   "cell_type": "code",
   "execution_count": 123,
   "metadata": {},
   "outputs": [],
   "source": [
    "df_scatter_plot=pd.concat([df_train,df_plane])"
   ]
  },
  {
   "cell_type": "code",
   "execution_count": 105,
   "metadata": {},
   "outputs": [],
   "source": [
    "df_scatter_plot = pd.melt(df, id_vars=['Plane Tickets'], value_vars=['Plane Time','Train Tickets','Train Time'],var_name=\"type\")"
   ]
  },
  {
   "cell_type": "code",
   "execution_count": 124,
   "metadata": {
    "scrolled": true
   },
   "outputs": [
    {
     "data": {
      "text/html": [
       "<div>\n",
       "<style scoped>\n",
       "    .dataframe tbody tr th:only-of-type {\n",
       "        vertical-align: middle;\n",
       "    }\n",
       "\n",
       "    .dataframe tbody tr th {\n",
       "        vertical-align: top;\n",
       "    }\n",
       "\n",
       "    .dataframe thead th {\n",
       "        text-align: right;\n",
       "    }\n",
       "</style>\n",
       "<table border=\"1\" class=\"dataframe\">\n",
       "  <thead>\n",
       "    <tr style=\"text-align: right;\">\n",
       "      <th></th>\n",
       "      <th>Ticket Cost</th>\n",
       "      <th>Time</th>\n",
       "      <th>type</th>\n",
       "    </tr>\n",
       "  </thead>\n",
       "  <tbody>\n",
       "    <tr>\n",
       "      <th>0</th>\n",
       "      <td>108.80</td>\n",
       "      <td>3.24</td>\n",
       "      <td>Train</td>\n",
       "    </tr>\n",
       "    <tr>\n",
       "      <th>1</th>\n",
       "      <td>87.00</td>\n",
       "      <td>4.15</td>\n",
       "      <td>Train</td>\n",
       "    </tr>\n",
       "    <tr>\n",
       "      <th>2</th>\n",
       "      <td>102.00</td>\n",
       "      <td>1.59</td>\n",
       "      <td>Train</td>\n",
       "    </tr>\n",
       "    <tr>\n",
       "      <th>3</th>\n",
       "      <td>182.40</td>\n",
       "      <td>11.51</td>\n",
       "      <td>Train</td>\n",
       "    </tr>\n",
       "    <tr>\n",
       "      <th>4</th>\n",
       "      <td>42.50</td>\n",
       "      <td>3.34</td>\n",
       "      <td>Train</td>\n",
       "    </tr>\n",
       "    <tr>\n",
       "      <th>5</th>\n",
       "      <td>201.00</td>\n",
       "      <td>6.38</td>\n",
       "      <td>Train</td>\n",
       "    </tr>\n",
       "    <tr>\n",
       "      <th>6</th>\n",
       "      <td>141.00</td>\n",
       "      <td>4.00</td>\n",
       "      <td>Train</td>\n",
       "    </tr>\n",
       "    <tr>\n",
       "      <th>7</th>\n",
       "      <td>12.00</td>\n",
       "      <td>0.35</td>\n",
       "      <td>Train</td>\n",
       "    </tr>\n",
       "    <tr>\n",
       "      <th>8</th>\n",
       "      <td>63.00</td>\n",
       "      <td>1.99</td>\n",
       "      <td>Train</td>\n",
       "    </tr>\n",
       "    <tr>\n",
       "      <th>9</th>\n",
       "      <td>138.00</td>\n",
       "      <td>4.00</td>\n",
       "      <td>Train</td>\n",
       "    </tr>\n",
       "    <tr>\n",
       "      <th>10</th>\n",
       "      <td>67.15</td>\n",
       "      <td>3.59</td>\n",
       "      <td>Train</td>\n",
       "    </tr>\n",
       "    <tr>\n",
       "      <th>11</th>\n",
       "      <td>50.75</td>\n",
       "      <td>1.15</td>\n",
       "      <td>Train</td>\n",
       "    </tr>\n",
       "    <tr>\n",
       "      <th>12</th>\n",
       "      <td>16.00</td>\n",
       "      <td>1.13</td>\n",
       "      <td>Train</td>\n",
       "    </tr>\n",
       "    <tr>\n",
       "      <th>13</th>\n",
       "      <td>36.18</td>\n",
       "      <td>4.22</td>\n",
       "      <td>Train</td>\n",
       "    </tr>\n",
       "    <tr>\n",
       "      <th>14</th>\n",
       "      <td>63.00</td>\n",
       "      <td>4.80</td>\n",
       "      <td>Train</td>\n",
       "    </tr>\n",
       "    <tr>\n",
       "      <th>15</th>\n",
       "      <td>49.17</td>\n",
       "      <td>2.27</td>\n",
       "      <td>Train</td>\n",
       "    </tr>\n",
       "    <tr>\n",
       "      <th>16</th>\n",
       "      <td>85.15</td>\n",
       "      <td>3.16</td>\n",
       "      <td>Train</td>\n",
       "    </tr>\n",
       "    <tr>\n",
       "      <th>17</th>\n",
       "      <td>62.45</td>\n",
       "      <td>2.14</td>\n",
       "      <td>Train</td>\n",
       "    </tr>\n",
       "    <tr>\n",
       "      <th>18</th>\n",
       "      <td>50.00</td>\n",
       "      <td>3.60</td>\n",
       "      <td>Train</td>\n",
       "    </tr>\n",
       "    <tr>\n",
       "      <th>19</th>\n",
       "      <td>102.00</td>\n",
       "      <td>2.50</td>\n",
       "      <td>Train</td>\n",
       "    </tr>\n",
       "    <tr>\n",
       "      <th>20</th>\n",
       "      <td>46.15</td>\n",
       "      <td>1.18</td>\n",
       "      <td>Train</td>\n",
       "    </tr>\n",
       "    <tr>\n",
       "      <th>21</th>\n",
       "      <td>10.00</td>\n",
       "      <td>1.22</td>\n",
       "      <td>Train</td>\n",
       "    </tr>\n",
       "    <tr>\n",
       "      <th>22</th>\n",
       "      <td>56.50</td>\n",
       "      <td>3.24</td>\n",
       "      <td>Train</td>\n",
       "    </tr>\n",
       "    <tr>\n",
       "      <th>23</th>\n",
       "      <td>148.00</td>\n",
       "      <td>2.11</td>\n",
       "      <td>Train</td>\n",
       "    </tr>\n",
       "    <tr>\n",
       "      <th>24</th>\n",
       "      <td>230.00</td>\n",
       "      <td>4.47</td>\n",
       "      <td>Train</td>\n",
       "    </tr>\n",
       "    <tr>\n",
       "      <th>25</th>\n",
       "      <td>25.00</td>\n",
       "      <td>1.24</td>\n",
       "      <td>Train</td>\n",
       "    </tr>\n",
       "    <tr>\n",
       "      <th>26</th>\n",
       "      <td>95.15</td>\n",
       "      <td>1.22</td>\n",
       "      <td>Train</td>\n",
       "    </tr>\n",
       "    <tr>\n",
       "      <th>27</th>\n",
       "      <td>9.14</td>\n",
       "      <td>2.50</td>\n",
       "      <td>Train</td>\n",
       "    </tr>\n",
       "    <tr>\n",
       "      <th>28</th>\n",
       "      <td>17.00</td>\n",
       "      <td>2.18</td>\n",
       "      <td>Train</td>\n",
       "    </tr>\n",
       "    <tr>\n",
       "      <th>29</th>\n",
       "      <td>169.30</td>\n",
       "      <td>4.21</td>\n",
       "      <td>Train</td>\n",
       "    </tr>\n",
       "    <tr>\n",
       "      <th>...</th>\n",
       "      <td>...</td>\n",
       "      <td>...</td>\n",
       "      <td>...</td>\n",
       "    </tr>\n",
       "    <tr>\n",
       "      <th>64</th>\n",
       "      <td>87.86</td>\n",
       "      <td>5.50</td>\n",
       "      <td>Plane</td>\n",
       "    </tr>\n",
       "    <tr>\n",
       "      <th>65</th>\n",
       "      <td>76.77</td>\n",
       "      <td>5.50</td>\n",
       "      <td>Plane</td>\n",
       "    </tr>\n",
       "    <tr>\n",
       "      <th>66</th>\n",
       "      <td>98.87</td>\n",
       "      <td>4.45</td>\n",
       "      <td>Plane</td>\n",
       "    </tr>\n",
       "    <tr>\n",
       "      <th>67</th>\n",
       "      <td>86.86</td>\n",
       "      <td>4.30</td>\n",
       "      <td>Plane</td>\n",
       "    </tr>\n",
       "    <tr>\n",
       "      <th>68</th>\n",
       "      <td>254.33</td>\n",
       "      <td>4.15</td>\n",
       "      <td>Plane</td>\n",
       "    </tr>\n",
       "    <tr>\n",
       "      <th>69</th>\n",
       "      <td>276.33</td>\n",
       "      <td>4.15</td>\n",
       "      <td>Plane</td>\n",
       "    </tr>\n",
       "    <tr>\n",
       "      <th>70</th>\n",
       "      <td>222.00</td>\n",
       "      <td>1.50</td>\n",
       "      <td>Plane</td>\n",
       "    </tr>\n",
       "    <tr>\n",
       "      <th>71</th>\n",
       "      <td>123.22</td>\n",
       "      <td>3.55</td>\n",
       "      <td>Plane</td>\n",
       "    </tr>\n",
       "    <tr>\n",
       "      <th>72</th>\n",
       "      <td>288.90</td>\n",
       "      <td>1.15</td>\n",
       "      <td>Plane</td>\n",
       "    </tr>\n",
       "    <tr>\n",
       "      <th>73</th>\n",
       "      <td>169.80</td>\n",
       "      <td>4.15</td>\n",
       "      <td>Plane</td>\n",
       "    </tr>\n",
       "    <tr>\n",
       "      <th>74</th>\n",
       "      <td>98.87</td>\n",
       "      <td>2.45</td>\n",
       "      <td>Plane</td>\n",
       "    </tr>\n",
       "    <tr>\n",
       "      <th>75</th>\n",
       "      <td>177.78</td>\n",
       "      <td>3.15</td>\n",
       "      <td>Plane</td>\n",
       "    </tr>\n",
       "    <tr>\n",
       "      <th>76</th>\n",
       "      <td>113.65</td>\n",
       "      <td>5.50</td>\n",
       "      <td>Plane</td>\n",
       "    </tr>\n",
       "    <tr>\n",
       "      <th>77</th>\n",
       "      <td>0.00</td>\n",
       "      <td>0.00</td>\n",
       "      <td>Plane</td>\n",
       "    </tr>\n",
       "    <tr>\n",
       "      <th>78</th>\n",
       "      <td>76.77</td>\n",
       "      <td>3.53</td>\n",
       "      <td>Plane</td>\n",
       "    </tr>\n",
       "    <tr>\n",
       "      <th>79</th>\n",
       "      <td>230.13</td>\n",
       "      <td>3.15</td>\n",
       "      <td>Plane</td>\n",
       "    </tr>\n",
       "    <tr>\n",
       "      <th>80</th>\n",
       "      <td>67.65</td>\n",
       "      <td>3.10</td>\n",
       "      <td>Plane</td>\n",
       "    </tr>\n",
       "    <tr>\n",
       "      <th>81</th>\n",
       "      <td>76.66</td>\n",
       "      <td>1.15</td>\n",
       "      <td>Plane</td>\n",
       "    </tr>\n",
       "    <tr>\n",
       "      <th>82</th>\n",
       "      <td>100.23</td>\n",
       "      <td>5.25</td>\n",
       "      <td>Plane</td>\n",
       "    </tr>\n",
       "    <tr>\n",
       "      <th>83</th>\n",
       "      <td>80.00</td>\n",
       "      <td>5.50</td>\n",
       "      <td>Plane</td>\n",
       "    </tr>\n",
       "    <tr>\n",
       "      <th>84</th>\n",
       "      <td>87.62</td>\n",
       "      <td>3.55</td>\n",
       "      <td>Plane</td>\n",
       "    </tr>\n",
       "    <tr>\n",
       "      <th>85</th>\n",
       "      <td>90.00</td>\n",
       "      <td>3.35</td>\n",
       "      <td>Plane</td>\n",
       "    </tr>\n",
       "    <tr>\n",
       "      <th>86</th>\n",
       "      <td>88.80</td>\n",
       "      <td>4.30</td>\n",
       "      <td>Plane</td>\n",
       "    </tr>\n",
       "    <tr>\n",
       "      <th>87</th>\n",
       "      <td>130.33</td>\n",
       "      <td>5.30</td>\n",
       "      <td>Plane</td>\n",
       "    </tr>\n",
       "    <tr>\n",
       "      <th>88</th>\n",
       "      <td>77.00</td>\n",
       "      <td>5.00</td>\n",
       "      <td>Plane</td>\n",
       "    </tr>\n",
       "    <tr>\n",
       "      <th>89</th>\n",
       "      <td>43.44</td>\n",
       "      <td>4.35</td>\n",
       "      <td>Plane</td>\n",
       "    </tr>\n",
       "    <tr>\n",
       "      <th>90</th>\n",
       "      <td>107.77</td>\n",
       "      <td>4.10</td>\n",
       "      <td>Plane</td>\n",
       "    </tr>\n",
       "    <tr>\n",
       "      <th>91</th>\n",
       "      <td>203.30</td>\n",
       "      <td>4.14</td>\n",
       "      <td>Plane</td>\n",
       "    </tr>\n",
       "    <tr>\n",
       "      <th>92</th>\n",
       "      <td>198.88</td>\n",
       "      <td>5.00</td>\n",
       "      <td>Plane</td>\n",
       "    </tr>\n",
       "    <tr>\n",
       "      <th>93</th>\n",
       "      <td>98.88</td>\n",
       "      <td>4.13</td>\n",
       "      <td>Plane</td>\n",
       "    </tr>\n",
       "  </tbody>\n",
       "</table>\n",
       "<p>188 rows × 3 columns</p>\n",
       "</div>"
      ],
      "text/plain": [
       "    Ticket Cost   Time   type\n",
       "0        108.80   3.24  Train\n",
       "1         87.00   4.15  Train\n",
       "2        102.00   1.59  Train\n",
       "3        182.40  11.51  Train\n",
       "4         42.50   3.34  Train\n",
       "5        201.00   6.38  Train\n",
       "6        141.00   4.00  Train\n",
       "7         12.00   0.35  Train\n",
       "8         63.00   1.99  Train\n",
       "9        138.00   4.00  Train\n",
       "10        67.15   3.59  Train\n",
       "11        50.75   1.15  Train\n",
       "12        16.00   1.13  Train\n",
       "13        36.18   4.22  Train\n",
       "14        63.00   4.80  Train\n",
       "15        49.17   2.27  Train\n",
       "16        85.15   3.16  Train\n",
       "17        62.45   2.14  Train\n",
       "18        50.00   3.60  Train\n",
       "19       102.00   2.50  Train\n",
       "20        46.15   1.18  Train\n",
       "21        10.00   1.22  Train\n",
       "22        56.50   3.24  Train\n",
       "23       148.00   2.11  Train\n",
       "24       230.00   4.47  Train\n",
       "25        25.00   1.24  Train\n",
       "26        95.15   1.22  Train\n",
       "27         9.14   2.50  Train\n",
       "28        17.00   2.18  Train\n",
       "29       169.30   4.21  Train\n",
       "..          ...    ...    ...\n",
       "64        87.86   5.50  Plane\n",
       "65        76.77   5.50  Plane\n",
       "66        98.87   4.45  Plane\n",
       "67        86.86   4.30  Plane\n",
       "68       254.33   4.15  Plane\n",
       "69       276.33   4.15  Plane\n",
       "70       222.00   1.50  Plane\n",
       "71       123.22   3.55  Plane\n",
       "72       288.90   1.15  Plane\n",
       "73       169.80   4.15  Plane\n",
       "74        98.87   2.45  Plane\n",
       "75       177.78   3.15  Plane\n",
       "76       113.65   5.50  Plane\n",
       "77         0.00   0.00  Plane\n",
       "78        76.77   3.53  Plane\n",
       "79       230.13   3.15  Plane\n",
       "80        67.65   3.10  Plane\n",
       "81        76.66   1.15  Plane\n",
       "82       100.23   5.25  Plane\n",
       "83        80.00   5.50  Plane\n",
       "84        87.62   3.55  Plane\n",
       "85        90.00   3.35  Plane\n",
       "86        88.80   4.30  Plane\n",
       "87       130.33   5.30  Plane\n",
       "88        77.00   5.00  Plane\n",
       "89        43.44   4.35  Plane\n",
       "90       107.77   4.10  Plane\n",
       "91       203.30   4.14  Plane\n",
       "92       198.88   5.00  Plane\n",
       "93        98.88   4.13  Plane\n",
       "\n",
       "[188 rows x 3 columns]"
      ]
     },
     "execution_count": 124,
     "metadata": {},
     "output_type": "execute_result"
    }
   ],
   "source": [
    "df_scatter_plot"
   ]
  },
  {
   "cell_type": "code",
   "execution_count": 127,
   "metadata": {},
   "outputs": [
    {
     "data": {
      "application/vnd.plotly.v1+json": {
       "config": {
        "plotlyServerURL": "https://plot.ly"
       },
       "data": [
        {
         "hoverlabel": {
          "namelength": 0
         },
         "hovertemplate": "type=Train<br>Ticket Cost=%{x}<br>Time=%{y}",
         "legendgroup": "type=Train",
         "marker": {
          "color": "#636efa",
          "symbol": "circle"
         },
         "mode": "markers",
         "name": "type=Train",
         "showlegend": true,
         "type": "scatter",
         "x": [
          108.8,
          87,
          102,
          182.4,
          42.5,
          201,
          141,
          12,
          63,
          138,
          67.15,
          50.75,
          16,
          36.18,
          63,
          49.17,
          85.15,
          62.45,
          50,
          102,
          46.15,
          10,
          56.5,
          148,
          230,
          25,
          95.15,
          9.14,
          17,
          169.3,
          150.16,
          112,
          124,
          31.6,
          23.2,
          132,
          132,
          159.9,
          35.16,
          37.19,
          5.15,
          69.16,
          153,
          38.16,
          24.15,
          213.15,
          92.3,
          41,
          95,
          148.16,
          63,
          55,
          12.17,
          25.15,
          84,
          102.2,
          39,
          44.17,
          30.13,
          49.17,
          25,
          82,
          166,
          84,
          55.15,
          56.15,
          49.15,
          11,
          120,
          103,
          102.9,
          44.18,
          215,
          122,
          76.18,
          125.65,
          59.05,
          19.99,
          20,
          115.19,
          29.5,
          39,
          69.15,
          56.18,
          74.15,
          65.1,
          57.16,
          99.19,
          30.13,
          5.15,
          89.15,
          120.09,
          129.87,
          65.16
         ],
         "xaxis": "x",
         "y": [
          3.24,
          4.15,
          1.59,
          11.51,
          3.34,
          6.38,
          4,
          0.35,
          1.99,
          4,
          3.59,
          1.15,
          1.13,
          4.22,
          4.8,
          2.27,
          3.16,
          2.14,
          3.6,
          2.5,
          1.18,
          1.22,
          3.24,
          2.11,
          4.47,
          1.24,
          1.22,
          2.5,
          2.18,
          4.21,
          2.15,
          3.39,
          3.17,
          2.2,
          1.39,
          4.4,
          4.49,
          3.22,
          1.21,
          3.49,
          1.24,
          4.15,
          2.15,
          2.3,
          3.28,
          4.7,
          3.5,
          1.14,
          3.16,
          4.56,
          5.12,
          5.15,
          1.26,
          3.23,
          6.23,
          5.5,
          4.3,
          2.57,
          2.08,
          2.46,
          1.25,
          4.04,
          3.55,
          6.13,
          3.13,
          3.2,
          4.6,
          0.59,
          2.9,
          1.28,
          4.2,
          3,
          5.15,
          3.18,
          2.2,
          3.3,
          1.9,
          49,
          2.5,
          3.25,
          1.55,
          4.3,
          2.59,
          1.23,
          1.58,
          5.21,
          2.15,
          5.16,
          1.36,
          1.13,
          2.48,
          6.22,
          3.38,
          1.15
         ],
         "yaxis": "y"
        },
        {
         "alignmentgroup": "True",
         "bingroup": "x",
         "hoverlabel": {
          "namelength": 0
         },
         "hovertemplate": "type=Train<br>Ticket Cost=%{x}<br>count=%{y}",
         "legendgroup": "type=Train",
         "marker": {
          "color": "#636efa"
         },
         "name": "type=Train",
         "offsetgroup": "type=Train",
         "opacity": 0.5,
         "showlegend": false,
         "type": "histogram",
         "x": [
          108.8,
          87,
          102,
          182.4,
          42.5,
          201,
          141,
          12,
          63,
          138,
          67.15,
          50.75,
          16,
          36.18,
          63,
          49.17,
          85.15,
          62.45,
          50,
          102,
          46.15,
          10,
          56.5,
          148,
          230,
          25,
          95.15,
          9.14,
          17,
          169.3,
          150.16,
          112,
          124,
          31.6,
          23.2,
          132,
          132,
          159.9,
          35.16,
          37.19,
          5.15,
          69.16,
          153,
          38.16,
          24.15,
          213.15,
          92.3,
          41,
          95,
          148.16,
          63,
          55,
          12.17,
          25.15,
          84,
          102.2,
          39,
          44.17,
          30.13,
          49.17,
          25,
          82,
          166,
          84,
          55.15,
          56.15,
          49.15,
          11,
          120,
          103,
          102.9,
          44.18,
          215,
          122,
          76.18,
          125.65,
          59.05,
          19.99,
          20,
          115.19,
          29.5,
          39,
          69.15,
          56.18,
          74.15,
          65.1,
          57.16,
          99.19,
          30.13,
          5.15,
          89.15,
          120.09,
          129.87,
          65.16
         ],
         "xaxis": "x2",
         "yaxis": "y2"
        },
        {
         "hoverlabel": {
          "namelength": 0
         },
         "hovertemplate": "type=Plane<br>Ticket Cost=%{x}<br>Time=%{y}",
         "legendgroup": "type=Plane",
         "marker": {
          "color": "#EF553B",
          "symbol": "circle"
         },
         "mode": "markers",
         "name": "type=Plane",
         "showlegend": true,
         "type": "scatter",
         "x": [
          175,
          175,
          175,
          202,
          87.8,
          337,
          212,
          36,
          98,
          280,
          78,
          76.66,
          0,
          65.68,
          91,
          0,
          102.22,
          88.86,
          86.65,
          155.34,
          82,
          0,
          89.7,
          191,
          323.9,
          0,
          163,
          24.45,
          43.45,
          210.12,
          213.12,
          189.9,
          214.14,
          61.69,
          32.34,
          259.9,
          230,
          212.12,
          80.98,
          65.64,
          21.24,
          100.12,
          213.1,
          78.88,
          76.7,
          312.12,
          105,
          89.78,
          125,
          150.67,
          122,
          76.77,
          118,
          67,
          120.23,
          202.2,
          65.66,
          88.8,
          90.98,
          0,
          0,
          120.2,
          213,
          156.66,
          87.86,
          76.77,
          98.87,
          86.86,
          254.33,
          276.33,
          222,
          123.22,
          288.9,
          169.8,
          98.87,
          177.78,
          113.65,
          0,
          76.77,
          230.13,
          67.65,
          76.66,
          100.23,
          80,
          87.62,
          90,
          88.8,
          130.33,
          77,
          43.44,
          107.77,
          203.3,
          198.88,
          98.88
         ],
         "xaxis": "x",
         "y": [
          4.25,
          6.14,
          4.25,
          4.45,
          4.13,
          1.25,
          5.2,
          4.13,
          4.25,
          5.45,
          5.45,
          5.55,
          0,
          5.55,
          1.15,
          0,
          4.15,
          4.55,
          4.13,
          3.13,
          3.45,
          0,
          1.15,
          1.1,
          1.13,
          0,
          4.44,
          4.45,
          1,
          1.13,
          4.34,
          5.5,
          5.5,
          5.2,
          4.45,
          4.45,
          1.5,
          4.25,
          3.25,
          4.3,
          3.55,
          5.15,
          5.5,
          3.35,
          1.1,
          4.14,
          5.1,
          3.55,
          1.3,
          1.15,
          1.2,
          1.2,
          5.55,
          1.15,
          1.45,
          1.1,
          1.15,
          3.05,
          5.05,
          0,
          0,
          5.15,
          4.04,
          1.13,
          5.5,
          5.5,
          4.45,
          4.3,
          4.15,
          4.15,
          1.5,
          3.55,
          1.15,
          4.15,
          2.45,
          3.15,
          5.5,
          0,
          3.53,
          3.15,
          3.1,
          1.15,
          5.25,
          5.5,
          3.55,
          3.35,
          4.3,
          5.3,
          5,
          4.35,
          4.1,
          4.14,
          5,
          4.13
         ],
         "yaxis": "y"
        },
        {
         "alignmentgroup": "True",
         "bingroup": "x",
         "hoverlabel": {
          "namelength": 0
         },
         "hovertemplate": "type=Plane<br>Ticket Cost=%{x}<br>count=%{y}",
         "legendgroup": "type=Plane",
         "marker": {
          "color": "#EF553B"
         },
         "name": "type=Plane",
         "offsetgroup": "type=Plane",
         "opacity": 0.5,
         "showlegend": false,
         "type": "histogram",
         "x": [
          175,
          175,
          175,
          202,
          87.8,
          337,
          212,
          36,
          98,
          280,
          78,
          76.66,
          0,
          65.68,
          91,
          0,
          102.22,
          88.86,
          86.65,
          155.34,
          82,
          0,
          89.7,
          191,
          323.9,
          0,
          163,
          24.45,
          43.45,
          210.12,
          213.12,
          189.9,
          214.14,
          61.69,
          32.34,
          259.9,
          230,
          212.12,
          80.98,
          65.64,
          21.24,
          100.12,
          213.1,
          78.88,
          76.7,
          312.12,
          105,
          89.78,
          125,
          150.67,
          122,
          76.77,
          118,
          67,
          120.23,
          202.2,
          65.66,
          88.8,
          90.98,
          0,
          0,
          120.2,
          213,
          156.66,
          87.86,
          76.77,
          98.87,
          86.86,
          254.33,
          276.33,
          222,
          123.22,
          288.9,
          169.8,
          98.87,
          177.78,
          113.65,
          0,
          76.77,
          230.13,
          67.65,
          76.66,
          100.23,
          80,
          87.62,
          90,
          88.8,
          130.33,
          77,
          43.44,
          107.77,
          203.3,
          198.88,
          98.88
         ],
         "xaxis": "x2",
         "yaxis": "y2"
        }
       ],
       "layout": {
        "barmode": "overlay",
        "height": 600,
        "legend": {
         "tracegroupgap": 0
        },
        "margin": {
         "t": 60
        },
        "template": {
         "data": {
          "bar": [
           {
            "error_x": {
             "color": "#2a3f5f"
            },
            "error_y": {
             "color": "#2a3f5f"
            },
            "marker": {
             "line": {
              "color": "#E5ECF6",
              "width": 0.5
             }
            },
            "type": "bar"
           }
          ],
          "barpolar": [
           {
            "marker": {
             "line": {
              "color": "#E5ECF6",
              "width": 0.5
             }
            },
            "type": "barpolar"
           }
          ],
          "carpet": [
           {
            "aaxis": {
             "endlinecolor": "#2a3f5f",
             "gridcolor": "white",
             "linecolor": "white",
             "minorgridcolor": "white",
             "startlinecolor": "#2a3f5f"
            },
            "baxis": {
             "endlinecolor": "#2a3f5f",
             "gridcolor": "white",
             "linecolor": "white",
             "minorgridcolor": "white",
             "startlinecolor": "#2a3f5f"
            },
            "type": "carpet"
           }
          ],
          "choropleth": [
           {
            "colorbar": {
             "outlinewidth": 0,
             "ticks": ""
            },
            "type": "choropleth"
           }
          ],
          "contour": [
           {
            "colorbar": {
             "outlinewidth": 0,
             "ticks": ""
            },
            "colorscale": [
             [
              0,
              "#0d0887"
             ],
             [
              0.1111111111111111,
              "#46039f"
             ],
             [
              0.2222222222222222,
              "#7201a8"
             ],
             [
              0.3333333333333333,
              "#9c179e"
             ],
             [
              0.4444444444444444,
              "#bd3786"
             ],
             [
              0.5555555555555556,
              "#d8576b"
             ],
             [
              0.6666666666666666,
              "#ed7953"
             ],
             [
              0.7777777777777778,
              "#fb9f3a"
             ],
             [
              0.8888888888888888,
              "#fdca26"
             ],
             [
              1,
              "#f0f921"
             ]
            ],
            "type": "contour"
           }
          ],
          "contourcarpet": [
           {
            "colorbar": {
             "outlinewidth": 0,
             "ticks": ""
            },
            "type": "contourcarpet"
           }
          ],
          "heatmap": [
           {
            "colorbar": {
             "outlinewidth": 0,
             "ticks": ""
            },
            "colorscale": [
             [
              0,
              "#0d0887"
             ],
             [
              0.1111111111111111,
              "#46039f"
             ],
             [
              0.2222222222222222,
              "#7201a8"
             ],
             [
              0.3333333333333333,
              "#9c179e"
             ],
             [
              0.4444444444444444,
              "#bd3786"
             ],
             [
              0.5555555555555556,
              "#d8576b"
             ],
             [
              0.6666666666666666,
              "#ed7953"
             ],
             [
              0.7777777777777778,
              "#fb9f3a"
             ],
             [
              0.8888888888888888,
              "#fdca26"
             ],
             [
              1,
              "#f0f921"
             ]
            ],
            "type": "heatmap"
           }
          ],
          "heatmapgl": [
           {
            "colorbar": {
             "outlinewidth": 0,
             "ticks": ""
            },
            "colorscale": [
             [
              0,
              "#0d0887"
             ],
             [
              0.1111111111111111,
              "#46039f"
             ],
             [
              0.2222222222222222,
              "#7201a8"
             ],
             [
              0.3333333333333333,
              "#9c179e"
             ],
             [
              0.4444444444444444,
              "#bd3786"
             ],
             [
              0.5555555555555556,
              "#d8576b"
             ],
             [
              0.6666666666666666,
              "#ed7953"
             ],
             [
              0.7777777777777778,
              "#fb9f3a"
             ],
             [
              0.8888888888888888,
              "#fdca26"
             ],
             [
              1,
              "#f0f921"
             ]
            ],
            "type": "heatmapgl"
           }
          ],
          "histogram": [
           {
            "marker": {
             "colorbar": {
              "outlinewidth": 0,
              "ticks": ""
             }
            },
            "type": "histogram"
           }
          ],
          "histogram2d": [
           {
            "colorbar": {
             "outlinewidth": 0,
             "ticks": ""
            },
            "colorscale": [
             [
              0,
              "#0d0887"
             ],
             [
              0.1111111111111111,
              "#46039f"
             ],
             [
              0.2222222222222222,
              "#7201a8"
             ],
             [
              0.3333333333333333,
              "#9c179e"
             ],
             [
              0.4444444444444444,
              "#bd3786"
             ],
             [
              0.5555555555555556,
              "#d8576b"
             ],
             [
              0.6666666666666666,
              "#ed7953"
             ],
             [
              0.7777777777777778,
              "#fb9f3a"
             ],
             [
              0.8888888888888888,
              "#fdca26"
             ],
             [
              1,
              "#f0f921"
             ]
            ],
            "type": "histogram2d"
           }
          ],
          "histogram2dcontour": [
           {
            "colorbar": {
             "outlinewidth": 0,
             "ticks": ""
            },
            "colorscale": [
             [
              0,
              "#0d0887"
             ],
             [
              0.1111111111111111,
              "#46039f"
             ],
             [
              0.2222222222222222,
              "#7201a8"
             ],
             [
              0.3333333333333333,
              "#9c179e"
             ],
             [
              0.4444444444444444,
              "#bd3786"
             ],
             [
              0.5555555555555556,
              "#d8576b"
             ],
             [
              0.6666666666666666,
              "#ed7953"
             ],
             [
              0.7777777777777778,
              "#fb9f3a"
             ],
             [
              0.8888888888888888,
              "#fdca26"
             ],
             [
              1,
              "#f0f921"
             ]
            ],
            "type": "histogram2dcontour"
           }
          ],
          "mesh3d": [
           {
            "colorbar": {
             "outlinewidth": 0,
             "ticks": ""
            },
            "type": "mesh3d"
           }
          ],
          "parcoords": [
           {
            "line": {
             "colorbar": {
              "outlinewidth": 0,
              "ticks": ""
             }
            },
            "type": "parcoords"
           }
          ],
          "scatter": [
           {
            "marker": {
             "colorbar": {
              "outlinewidth": 0,
              "ticks": ""
             }
            },
            "type": "scatter"
           }
          ],
          "scatter3d": [
           {
            "line": {
             "colorbar": {
              "outlinewidth": 0,
              "ticks": ""
             }
            },
            "marker": {
             "colorbar": {
              "outlinewidth": 0,
              "ticks": ""
             }
            },
            "type": "scatter3d"
           }
          ],
          "scattercarpet": [
           {
            "marker": {
             "colorbar": {
              "outlinewidth": 0,
              "ticks": ""
             }
            },
            "type": "scattercarpet"
           }
          ],
          "scattergeo": [
           {
            "marker": {
             "colorbar": {
              "outlinewidth": 0,
              "ticks": ""
             }
            },
            "type": "scattergeo"
           }
          ],
          "scattergl": [
           {
            "marker": {
             "colorbar": {
              "outlinewidth": 0,
              "ticks": ""
             }
            },
            "type": "scattergl"
           }
          ],
          "scattermapbox": [
           {
            "marker": {
             "colorbar": {
              "outlinewidth": 0,
              "ticks": ""
             }
            },
            "type": "scattermapbox"
           }
          ],
          "scatterpolar": [
           {
            "marker": {
             "colorbar": {
              "outlinewidth": 0,
              "ticks": ""
             }
            },
            "type": "scatterpolar"
           }
          ],
          "scatterpolargl": [
           {
            "marker": {
             "colorbar": {
              "outlinewidth": 0,
              "ticks": ""
             }
            },
            "type": "scatterpolargl"
           }
          ],
          "scatterternary": [
           {
            "marker": {
             "colorbar": {
              "outlinewidth": 0,
              "ticks": ""
             }
            },
            "type": "scatterternary"
           }
          ],
          "surface": [
           {
            "colorbar": {
             "outlinewidth": 0,
             "ticks": ""
            },
            "colorscale": [
             [
              0,
              "#0d0887"
             ],
             [
              0.1111111111111111,
              "#46039f"
             ],
             [
              0.2222222222222222,
              "#7201a8"
             ],
             [
              0.3333333333333333,
              "#9c179e"
             ],
             [
              0.4444444444444444,
              "#bd3786"
             ],
             [
              0.5555555555555556,
              "#d8576b"
             ],
             [
              0.6666666666666666,
              "#ed7953"
             ],
             [
              0.7777777777777778,
              "#fb9f3a"
             ],
             [
              0.8888888888888888,
              "#fdca26"
             ],
             [
              1,
              "#f0f921"
             ]
            ],
            "type": "surface"
           }
          ],
          "table": [
           {
            "cells": {
             "fill": {
              "color": "#EBF0F8"
             },
             "line": {
              "color": "white"
             }
            },
            "header": {
             "fill": {
              "color": "#C8D4E3"
             },
             "line": {
              "color": "white"
             }
            },
            "type": "table"
           }
          ]
         },
         "layout": {
          "annotationdefaults": {
           "arrowcolor": "#2a3f5f",
           "arrowhead": 0,
           "arrowwidth": 1
          },
          "colorscale": {
           "diverging": [
            [
             0,
             "#8e0152"
            ],
            [
             0.1,
             "#c51b7d"
            ],
            [
             0.2,
             "#de77ae"
            ],
            [
             0.3,
             "#f1b6da"
            ],
            [
             0.4,
             "#fde0ef"
            ],
            [
             0.5,
             "#f7f7f7"
            ],
            [
             0.6,
             "#e6f5d0"
            ],
            [
             0.7,
             "#b8e186"
            ],
            [
             0.8,
             "#7fbc41"
            ],
            [
             0.9,
             "#4d9221"
            ],
            [
             1,
             "#276419"
            ]
           ],
           "sequential": [
            [
             0,
             "#0d0887"
            ],
            [
             0.1111111111111111,
             "#46039f"
            ],
            [
             0.2222222222222222,
             "#7201a8"
            ],
            [
             0.3333333333333333,
             "#9c179e"
            ],
            [
             0.4444444444444444,
             "#bd3786"
            ],
            [
             0.5555555555555556,
             "#d8576b"
            ],
            [
             0.6666666666666666,
             "#ed7953"
            ],
            [
             0.7777777777777778,
             "#fb9f3a"
            ],
            [
             0.8888888888888888,
             "#fdca26"
            ],
            [
             1,
             "#f0f921"
            ]
           ],
           "sequentialminus": [
            [
             0,
             "#0d0887"
            ],
            [
             0.1111111111111111,
             "#46039f"
            ],
            [
             0.2222222222222222,
             "#7201a8"
            ],
            [
             0.3333333333333333,
             "#9c179e"
            ],
            [
             0.4444444444444444,
             "#bd3786"
            ],
            [
             0.5555555555555556,
             "#d8576b"
            ],
            [
             0.6666666666666666,
             "#ed7953"
            ],
            [
             0.7777777777777778,
             "#fb9f3a"
            ],
            [
             0.8888888888888888,
             "#fdca26"
            ],
            [
             1,
             "#f0f921"
            ]
           ]
          },
          "colorway": [
           "#636efa",
           "#EF553B",
           "#00cc96",
           "#ab63fa",
           "#FFA15A",
           "#19d3f3",
           "#FF6692",
           "#B6E880",
           "#FF97FF",
           "#FECB52"
          ],
          "font": {
           "color": "#2a3f5f"
          },
          "geo": {
           "bgcolor": "white",
           "lakecolor": "white",
           "landcolor": "#E5ECF6",
           "showlakes": true,
           "showland": true,
           "subunitcolor": "white"
          },
          "hoverlabel": {
           "align": "left"
          },
          "hovermode": "closest",
          "mapbox": {
           "style": "light"
          },
          "paper_bgcolor": "white",
          "plot_bgcolor": "#E5ECF6",
          "polar": {
           "angularaxis": {
            "gridcolor": "white",
            "linecolor": "white",
            "ticks": ""
           },
           "bgcolor": "#E5ECF6",
           "radialaxis": {
            "gridcolor": "white",
            "linecolor": "white",
            "ticks": ""
           }
          },
          "scene": {
           "xaxis": {
            "backgroundcolor": "#E5ECF6",
            "gridcolor": "white",
            "gridwidth": 2,
            "linecolor": "white",
            "showbackground": true,
            "ticks": "",
            "zerolinecolor": "white"
           },
           "yaxis": {
            "backgroundcolor": "#E5ECF6",
            "gridcolor": "white",
            "gridwidth": 2,
            "linecolor": "white",
            "showbackground": true,
            "ticks": "",
            "zerolinecolor": "white"
           },
           "zaxis": {
            "backgroundcolor": "#E5ECF6",
            "gridcolor": "white",
            "gridwidth": 2,
            "linecolor": "white",
            "showbackground": true,
            "ticks": "",
            "zerolinecolor": "white"
           }
          },
          "shapedefaults": {
           "line": {
            "color": "#2a3f5f"
           }
          },
          "ternary": {
           "aaxis": {
            "gridcolor": "white",
            "linecolor": "white",
            "ticks": ""
           },
           "baxis": {
            "gridcolor": "white",
            "linecolor": "white",
            "ticks": ""
           },
           "bgcolor": "#E5ECF6",
           "caxis": {
            "gridcolor": "white",
            "linecolor": "white",
            "ticks": ""
           }
          },
          "title": {
           "x": 0.05
          },
          "xaxis": {
           "automargin": true,
           "gridcolor": "white",
           "linecolor": "white",
           "ticks": "",
           "zerolinecolor": "white",
           "zerolinewidth": 2
          },
          "yaxis": {
           "automargin": true,
           "gridcolor": "white",
           "linecolor": "white",
           "ticks": "",
           "zerolinecolor": "white",
           "zerolinewidth": 2
          }
         }
        },
        "xaxis": {
         "anchor": "y",
         "domain": [
          0,
          0.98
         ],
         "title": {
          "text": "Ticket Cost"
         }
        },
        "xaxis2": {
         "anchor": "y2",
         "domain": [
          0,
          0.98
         ],
         "matches": "x",
         "showgrid": true,
         "showticklabels": false
        },
        "yaxis": {
         "anchor": "x",
         "domain": [
          0,
          0.7326
         ],
         "title": {
          "text": "Time"
         }
        },
        "yaxis2": {
         "anchor": "x2",
         "domain": [
          0.7426,
          1
         ],
         "matches": "y2",
         "showgrid": true,
         "showticklabels": false
        }
       }
      },
      "text/html": [
       "<div>\n",
       "        \n",
       "        \n",
       "            <div id=\"8fafac08-d582-4542-9782-4ec96d79f2d2\" class=\"plotly-graph-div\" style=\"height:600px; width:100%;\"></div>\n",
       "            <script type=\"text/javascript\">\n",
       "                require([\"plotly\"], function(Plotly) {\n",
       "                    window.PLOTLYENV=window.PLOTLYENV || {};\n",
       "                    \n",
       "                if (document.getElementById(\"8fafac08-d582-4542-9782-4ec96d79f2d2\")) {\n",
       "                    Plotly.newPlot(\n",
       "                        '8fafac08-d582-4542-9782-4ec96d79f2d2',\n",
       "                        [{\"hoverlabel\": {\"namelength\": 0}, \"hovertemplate\": \"type=Train<br>Ticket Cost=%{x}<br>Time=%{y}\", \"legendgroup\": \"type=Train\", \"marker\": {\"color\": \"#636efa\", \"symbol\": \"circle\"}, \"mode\": \"markers\", \"name\": \"type=Train\", \"showlegend\": true, \"type\": \"scatter\", \"x\": [108.8, 87.0, 102.0, 182.4, 42.5, 201.0, 141.0, 12.0, 63.0, 138.0, 67.15, 50.75, 16.0, 36.18, 63.0, 49.17, 85.15, 62.45, 50.0, 102.0, 46.15, 10.0, 56.5, 148.0, 230.0, 25.0, 95.15, 9.14, 17.0, 169.3, 150.16, 112.0, 124.0, 31.6, 23.2, 132.0, 132.0, 159.9, 35.16, 37.19, 5.15, 69.16, 153.0, 38.16, 24.15, 213.15, 92.3, 41.0, 95.0, 148.16, 63.0, 55.0, 12.17, 25.15, 84.0, 102.2, 39.0, 44.17, 30.13, 49.17, 25.0, 82.0, 166.0, 84.0, 55.15, 56.15, 49.15, 11.0, 120.0, 103.0, 102.9, 44.18, 215.0, 122.0, 76.18, 125.65, 59.05, 19.99, 20.0, 115.19, 29.5, 39.0, 69.15, 56.18, 74.15, 65.1, 57.16, 99.19, 30.13, 5.15, 89.15, 120.09, 129.87, 65.16], \"xaxis\": \"x\", \"y\": [3.24, 4.15, 1.59, 11.51, 3.34, 6.38, 4.0, 0.35, 1.99, 4.0, 3.59, 1.15, 1.13, 4.22, 4.8, 2.27, 3.16, 2.14, 3.6, 2.5, 1.18, 1.22, 3.24, 2.11, 4.47, 1.24, 1.22, 2.5, 2.18, 4.21, 2.15, 3.39, 3.17, 2.2, 1.39, 4.4, 4.49, 3.22, 1.21, 3.49, 1.24, 4.15, 2.15, 2.3, 3.28, 4.7, 3.5, 1.14, 3.16, 4.56, 5.12, 5.15, 1.26, 3.23, 6.23, 5.5, 4.3, 2.57, 2.08, 2.46, 1.25, 4.04, 3.55, 6.13, 3.13, 3.2, 4.6, 0.59, 2.9, 1.28, 4.2, 3.0, 5.15, 3.18, 2.2, 3.3, 1.9, 49.0, 2.5, 3.25, 1.55, 4.3, 2.59, 1.23, 1.58, 5.21, 2.15, 5.16, 1.36, 1.13, 2.48, 6.22, 3.38, 1.15], \"yaxis\": \"y\"}, {\"alignmentgroup\": \"True\", \"bingroup\": \"x\", \"hoverlabel\": {\"namelength\": 0}, \"hovertemplate\": \"type=Train<br>Ticket Cost=%{x}<br>count=%{y}\", \"legendgroup\": \"type=Train\", \"marker\": {\"color\": \"#636efa\"}, \"name\": \"type=Train\", \"offsetgroup\": \"type=Train\", \"opacity\": 0.5, \"showlegend\": false, \"type\": \"histogram\", \"x\": [108.8, 87.0, 102.0, 182.4, 42.5, 201.0, 141.0, 12.0, 63.0, 138.0, 67.15, 50.75, 16.0, 36.18, 63.0, 49.17, 85.15, 62.45, 50.0, 102.0, 46.15, 10.0, 56.5, 148.0, 230.0, 25.0, 95.15, 9.14, 17.0, 169.3, 150.16, 112.0, 124.0, 31.6, 23.2, 132.0, 132.0, 159.9, 35.16, 37.19, 5.15, 69.16, 153.0, 38.16, 24.15, 213.15, 92.3, 41.0, 95.0, 148.16, 63.0, 55.0, 12.17, 25.15, 84.0, 102.2, 39.0, 44.17, 30.13, 49.17, 25.0, 82.0, 166.0, 84.0, 55.15, 56.15, 49.15, 11.0, 120.0, 103.0, 102.9, 44.18, 215.0, 122.0, 76.18, 125.65, 59.05, 19.99, 20.0, 115.19, 29.5, 39.0, 69.15, 56.18, 74.15, 65.1, 57.16, 99.19, 30.13, 5.15, 89.15, 120.09, 129.87, 65.16], \"xaxis\": \"x2\", \"yaxis\": \"y2\"}, {\"hoverlabel\": {\"namelength\": 0}, \"hovertemplate\": \"type=Plane<br>Ticket Cost=%{x}<br>Time=%{y}\", \"legendgroup\": \"type=Plane\", \"marker\": {\"color\": \"#EF553B\", \"symbol\": \"circle\"}, \"mode\": \"markers\", \"name\": \"type=Plane\", \"showlegend\": true, \"type\": \"scatter\", \"x\": [175.0, 175.0, 175.0, 202.0, 87.8, 337.0, 212.0, 36.0, 98.0, 280.0, 78.0, 76.66, 0.0, 65.68, 91.0, 0.0, 102.22, 88.86, 86.65, 155.34, 82.0, 0.0, 89.7, 191.0, 323.9, 0.0, 163.0, 24.45, 43.45, 210.12, 213.12, 189.9, 214.14, 61.69, 32.34, 259.9, 230.0, 212.12, 80.98, 65.64, 21.24, 100.12, 213.1, 78.88, 76.7, 312.12, 105.0, 89.78, 125.0, 150.67, 122.0, 76.77, 118.0, 67.0, 120.23, 202.2, 65.66, 88.8, 90.98, 0.0, 0.0, 120.2, 213.0, 156.66, 87.86, 76.77, 98.87, 86.86, 254.33, 276.33, 222.0, 123.22, 288.9, 169.8, 98.87, 177.78, 113.65, 0.0, 76.77, 230.13, 67.65, 76.66, 100.23, 80.0, 87.62, 90.0, 88.8, 130.33, 77.0, 43.44, 107.77, 203.3, 198.88, 98.88], \"xaxis\": \"x\", \"y\": [4.25, 6.14, 4.25, 4.45, 4.13, 1.25, 5.2, 4.13, 4.25, 5.45, 5.45, 5.55, 0.0, 5.55, 1.15, 0.0, 4.15, 4.55, 4.13, 3.13, 3.45, 0.0, 1.15, 1.1, 1.13, 0.0, 4.44, 4.45, 1.0, 1.13, 4.34, 5.5, 5.5, 5.2, 4.45, 4.45, 1.5, 4.25, 3.25, 4.3, 3.55, 5.15, 5.5, 3.35, 1.1, 4.14, 5.1, 3.55, 1.3, 1.15, 1.2, 1.2, 5.55, 1.15, 1.45, 1.1, 1.15, 3.05, 5.05, 0.0, 0.0, 5.15, 4.04, 1.13, 5.5, 5.5, 4.45, 4.3, 4.15, 4.15, 1.5, 3.55, 1.15, 4.15, 2.45, 3.15, 5.5, 0.0, 3.53, 3.15, 3.1, 1.15, 5.25, 5.5, 3.55, 3.35, 4.3, 5.3, 5.0, 4.35, 4.1, 4.14, 5.0, 4.13], \"yaxis\": \"y\"}, {\"alignmentgroup\": \"True\", \"bingroup\": \"x\", \"hoverlabel\": {\"namelength\": 0}, \"hovertemplate\": \"type=Plane<br>Ticket Cost=%{x}<br>count=%{y}\", \"legendgroup\": \"type=Plane\", \"marker\": {\"color\": \"#EF553B\"}, \"name\": \"type=Plane\", \"offsetgroup\": \"type=Plane\", \"opacity\": 0.5, \"showlegend\": false, \"type\": \"histogram\", \"x\": [175.0, 175.0, 175.0, 202.0, 87.8, 337.0, 212.0, 36.0, 98.0, 280.0, 78.0, 76.66, 0.0, 65.68, 91.0, 0.0, 102.22, 88.86, 86.65, 155.34, 82.0, 0.0, 89.7, 191.0, 323.9, 0.0, 163.0, 24.45, 43.45, 210.12, 213.12, 189.9, 214.14, 61.69, 32.34, 259.9, 230.0, 212.12, 80.98, 65.64, 21.24, 100.12, 213.1, 78.88, 76.7, 312.12, 105.0, 89.78, 125.0, 150.67, 122.0, 76.77, 118.0, 67.0, 120.23, 202.2, 65.66, 88.8, 90.98, 0.0, 0.0, 120.2, 213.0, 156.66, 87.86, 76.77, 98.87, 86.86, 254.33, 276.33, 222.0, 123.22, 288.9, 169.8, 98.87, 177.78, 113.65, 0.0, 76.77, 230.13, 67.65, 76.66, 100.23, 80.0, 87.62, 90.0, 88.8, 130.33, 77.0, 43.44, 107.77, 203.3, 198.88, 98.88], \"xaxis\": \"x2\", \"yaxis\": \"y2\"}],\n",
       "                        {\"barmode\": \"overlay\", \"height\": 600, \"legend\": {\"tracegroupgap\": 0}, \"margin\": {\"t\": 60}, \"template\": {\"data\": {\"bar\": [{\"error_x\": {\"color\": \"#2a3f5f\"}, \"error_y\": {\"color\": \"#2a3f5f\"}, \"marker\": {\"line\": {\"color\": \"#E5ECF6\", \"width\": 0.5}}, \"type\": \"bar\"}], \"barpolar\": [{\"marker\": {\"line\": {\"color\": \"#E5ECF6\", \"width\": 0.5}}, \"type\": \"barpolar\"}], \"carpet\": [{\"aaxis\": {\"endlinecolor\": \"#2a3f5f\", \"gridcolor\": \"white\", \"linecolor\": \"white\", \"minorgridcolor\": \"white\", \"startlinecolor\": \"#2a3f5f\"}, \"baxis\": {\"endlinecolor\": \"#2a3f5f\", \"gridcolor\": \"white\", \"linecolor\": \"white\", \"minorgridcolor\": \"white\", \"startlinecolor\": \"#2a3f5f\"}, \"type\": \"carpet\"}], \"choropleth\": [{\"colorbar\": {\"outlinewidth\": 0, \"ticks\": \"\"}, \"type\": \"choropleth\"}], \"contour\": [{\"colorbar\": {\"outlinewidth\": 0, \"ticks\": \"\"}, \"colorscale\": [[0.0, \"#0d0887\"], [0.1111111111111111, \"#46039f\"], [0.2222222222222222, \"#7201a8\"], [0.3333333333333333, \"#9c179e\"], [0.4444444444444444, \"#bd3786\"], [0.5555555555555556, \"#d8576b\"], [0.6666666666666666, \"#ed7953\"], [0.7777777777777778, \"#fb9f3a\"], [0.8888888888888888, \"#fdca26\"], [1.0, \"#f0f921\"]], \"type\": \"contour\"}], \"contourcarpet\": [{\"colorbar\": {\"outlinewidth\": 0, \"ticks\": \"\"}, \"type\": \"contourcarpet\"}], \"heatmap\": [{\"colorbar\": {\"outlinewidth\": 0, \"ticks\": \"\"}, \"colorscale\": [[0.0, \"#0d0887\"], [0.1111111111111111, \"#46039f\"], [0.2222222222222222, \"#7201a8\"], [0.3333333333333333, \"#9c179e\"], [0.4444444444444444, \"#bd3786\"], [0.5555555555555556, \"#d8576b\"], [0.6666666666666666, \"#ed7953\"], [0.7777777777777778, \"#fb9f3a\"], [0.8888888888888888, \"#fdca26\"], [1.0, \"#f0f921\"]], \"type\": \"heatmap\"}], \"heatmapgl\": [{\"colorbar\": {\"outlinewidth\": 0, \"ticks\": \"\"}, \"colorscale\": [[0.0, \"#0d0887\"], [0.1111111111111111, \"#46039f\"], [0.2222222222222222, \"#7201a8\"], [0.3333333333333333, \"#9c179e\"], [0.4444444444444444, \"#bd3786\"], [0.5555555555555556, \"#d8576b\"], [0.6666666666666666, \"#ed7953\"], [0.7777777777777778, \"#fb9f3a\"], [0.8888888888888888, \"#fdca26\"], [1.0, \"#f0f921\"]], \"type\": \"heatmapgl\"}], \"histogram\": [{\"marker\": {\"colorbar\": {\"outlinewidth\": 0, \"ticks\": \"\"}}, \"type\": \"histogram\"}], \"histogram2d\": [{\"colorbar\": {\"outlinewidth\": 0, \"ticks\": \"\"}, \"colorscale\": [[0.0, \"#0d0887\"], [0.1111111111111111, \"#46039f\"], [0.2222222222222222, \"#7201a8\"], [0.3333333333333333, \"#9c179e\"], [0.4444444444444444, \"#bd3786\"], [0.5555555555555556, \"#d8576b\"], [0.6666666666666666, \"#ed7953\"], [0.7777777777777778, \"#fb9f3a\"], [0.8888888888888888, \"#fdca26\"], [1.0, \"#f0f921\"]], \"type\": \"histogram2d\"}], \"histogram2dcontour\": [{\"colorbar\": {\"outlinewidth\": 0, \"ticks\": \"\"}, \"colorscale\": [[0.0, \"#0d0887\"], [0.1111111111111111, \"#46039f\"], [0.2222222222222222, \"#7201a8\"], [0.3333333333333333, \"#9c179e\"], [0.4444444444444444, \"#bd3786\"], [0.5555555555555556, \"#d8576b\"], [0.6666666666666666, \"#ed7953\"], [0.7777777777777778, \"#fb9f3a\"], [0.8888888888888888, \"#fdca26\"], [1.0, \"#f0f921\"]], \"type\": \"histogram2dcontour\"}], \"mesh3d\": [{\"colorbar\": {\"outlinewidth\": 0, \"ticks\": \"\"}, \"type\": \"mesh3d\"}], \"parcoords\": [{\"line\": {\"colorbar\": {\"outlinewidth\": 0, \"ticks\": \"\"}}, \"type\": \"parcoords\"}], \"scatter\": [{\"marker\": {\"colorbar\": {\"outlinewidth\": 0, \"ticks\": \"\"}}, \"type\": \"scatter\"}], \"scatter3d\": [{\"line\": {\"colorbar\": {\"outlinewidth\": 0, \"ticks\": \"\"}}, \"marker\": {\"colorbar\": {\"outlinewidth\": 0, \"ticks\": \"\"}}, \"type\": \"scatter3d\"}], \"scattercarpet\": [{\"marker\": {\"colorbar\": {\"outlinewidth\": 0, \"ticks\": \"\"}}, \"type\": \"scattercarpet\"}], \"scattergeo\": [{\"marker\": {\"colorbar\": {\"outlinewidth\": 0, \"ticks\": \"\"}}, \"type\": \"scattergeo\"}], \"scattergl\": [{\"marker\": {\"colorbar\": {\"outlinewidth\": 0, \"ticks\": \"\"}}, \"type\": \"scattergl\"}], \"scattermapbox\": [{\"marker\": {\"colorbar\": {\"outlinewidth\": 0, \"ticks\": \"\"}}, \"type\": \"scattermapbox\"}], \"scatterpolar\": [{\"marker\": {\"colorbar\": {\"outlinewidth\": 0, \"ticks\": \"\"}}, \"type\": \"scatterpolar\"}], \"scatterpolargl\": [{\"marker\": {\"colorbar\": {\"outlinewidth\": 0, \"ticks\": \"\"}}, \"type\": \"scatterpolargl\"}], \"scatterternary\": [{\"marker\": {\"colorbar\": {\"outlinewidth\": 0, \"ticks\": \"\"}}, \"type\": \"scatterternary\"}], \"surface\": [{\"colorbar\": {\"outlinewidth\": 0, \"ticks\": \"\"}, \"colorscale\": [[0.0, \"#0d0887\"], [0.1111111111111111, \"#46039f\"], [0.2222222222222222, \"#7201a8\"], [0.3333333333333333, \"#9c179e\"], [0.4444444444444444, \"#bd3786\"], [0.5555555555555556, \"#d8576b\"], [0.6666666666666666, \"#ed7953\"], [0.7777777777777778, \"#fb9f3a\"], [0.8888888888888888, \"#fdca26\"], [1.0, \"#f0f921\"]], \"type\": \"surface\"}], \"table\": [{\"cells\": {\"fill\": {\"color\": \"#EBF0F8\"}, \"line\": {\"color\": \"white\"}}, \"header\": {\"fill\": {\"color\": \"#C8D4E3\"}, \"line\": {\"color\": \"white\"}}, \"type\": \"table\"}]}, \"layout\": {\"annotationdefaults\": {\"arrowcolor\": \"#2a3f5f\", \"arrowhead\": 0, \"arrowwidth\": 1}, \"colorscale\": {\"diverging\": [[0, \"#8e0152\"], [0.1, \"#c51b7d\"], [0.2, \"#de77ae\"], [0.3, \"#f1b6da\"], [0.4, \"#fde0ef\"], [0.5, \"#f7f7f7\"], [0.6, \"#e6f5d0\"], [0.7, \"#b8e186\"], [0.8, \"#7fbc41\"], [0.9, \"#4d9221\"], [1, \"#276419\"]], \"sequential\": [[0.0, \"#0d0887\"], [0.1111111111111111, \"#46039f\"], [0.2222222222222222, \"#7201a8\"], [0.3333333333333333, \"#9c179e\"], [0.4444444444444444, \"#bd3786\"], [0.5555555555555556, \"#d8576b\"], [0.6666666666666666, \"#ed7953\"], [0.7777777777777778, \"#fb9f3a\"], [0.8888888888888888, \"#fdca26\"], [1.0, \"#f0f921\"]], \"sequentialminus\": [[0.0, \"#0d0887\"], [0.1111111111111111, \"#46039f\"], [0.2222222222222222, \"#7201a8\"], [0.3333333333333333, \"#9c179e\"], [0.4444444444444444, \"#bd3786\"], [0.5555555555555556, \"#d8576b\"], [0.6666666666666666, \"#ed7953\"], [0.7777777777777778, \"#fb9f3a\"], [0.8888888888888888, \"#fdca26\"], [1.0, \"#f0f921\"]]}, \"colorway\": [\"#636efa\", \"#EF553B\", \"#00cc96\", \"#ab63fa\", \"#FFA15A\", \"#19d3f3\", \"#FF6692\", \"#B6E880\", \"#FF97FF\", \"#FECB52\"], \"font\": {\"color\": \"#2a3f5f\"}, \"geo\": {\"bgcolor\": \"white\", \"lakecolor\": \"white\", \"landcolor\": \"#E5ECF6\", \"showlakes\": true, \"showland\": true, \"subunitcolor\": \"white\"}, \"hoverlabel\": {\"align\": \"left\"}, \"hovermode\": \"closest\", \"mapbox\": {\"style\": \"light\"}, \"paper_bgcolor\": \"white\", \"plot_bgcolor\": \"#E5ECF6\", \"polar\": {\"angularaxis\": {\"gridcolor\": \"white\", \"linecolor\": \"white\", \"ticks\": \"\"}, \"bgcolor\": \"#E5ECF6\", \"radialaxis\": {\"gridcolor\": \"white\", \"linecolor\": \"white\", \"ticks\": \"\"}}, \"scene\": {\"xaxis\": {\"backgroundcolor\": \"#E5ECF6\", \"gridcolor\": \"white\", \"gridwidth\": 2, \"linecolor\": \"white\", \"showbackground\": true, \"ticks\": \"\", \"zerolinecolor\": \"white\"}, \"yaxis\": {\"backgroundcolor\": \"#E5ECF6\", \"gridcolor\": \"white\", \"gridwidth\": 2, \"linecolor\": \"white\", \"showbackground\": true, \"ticks\": \"\", \"zerolinecolor\": \"white\"}, \"zaxis\": {\"backgroundcolor\": \"#E5ECF6\", \"gridcolor\": \"white\", \"gridwidth\": 2, \"linecolor\": \"white\", \"showbackground\": true, \"ticks\": \"\", \"zerolinecolor\": \"white\"}}, \"shapedefaults\": {\"line\": {\"color\": \"#2a3f5f\"}}, \"ternary\": {\"aaxis\": {\"gridcolor\": \"white\", \"linecolor\": \"white\", \"ticks\": \"\"}, \"baxis\": {\"gridcolor\": \"white\", \"linecolor\": \"white\", \"ticks\": \"\"}, \"bgcolor\": \"#E5ECF6\", \"caxis\": {\"gridcolor\": \"white\", \"linecolor\": \"white\", \"ticks\": \"\"}}, \"title\": {\"x\": 0.05}, \"xaxis\": {\"automargin\": true, \"gridcolor\": \"white\", \"linecolor\": \"white\", \"ticks\": \"\", \"zerolinecolor\": \"white\", \"zerolinewidth\": 2}, \"yaxis\": {\"automargin\": true, \"gridcolor\": \"white\", \"linecolor\": \"white\", \"ticks\": \"\", \"zerolinecolor\": \"white\", \"zerolinewidth\": 2}}}, \"xaxis\": {\"anchor\": \"y\", \"domain\": [0.0, 0.98], \"title\": {\"text\": \"Ticket Cost\"}}, \"xaxis2\": {\"anchor\": \"y2\", \"domain\": [0.0, 0.98], \"matches\": \"x\", \"showgrid\": true, \"showticklabels\": false}, \"yaxis\": {\"anchor\": \"x\", \"domain\": [0.0, 0.7326], \"title\": {\"text\": \"Time\"}}, \"yaxis2\": {\"anchor\": \"x2\", \"domain\": [0.7426, 1.0], \"matches\": \"y2\", \"showgrid\": true, \"showticklabels\": false}},\n",
       "                        {\"responsive\": true}\n",
       "                    ).then(function(){\n",
       "                            \n",
       "var gd = document.getElementById('8fafac08-d582-4542-9782-4ec96d79f2d2');\n",
       "var x = new MutationObserver(function (mutations, observer) {{\n",
       "        var display = window.getComputedStyle(gd).display;\n",
       "        if (!display || display === 'none') {{\n",
       "            console.log([gd, 'removed!']);\n",
       "            Plotly.purge(gd);\n",
       "            observer.disconnect();\n",
       "        }}\n",
       "}});\n",
       "\n",
       "// Listen for the removal of the full notebook cells\n",
       "var notebookContainer = gd.closest('#notebook-container');\n",
       "if (notebookContainer) {{\n",
       "    x.observe(notebookContainer, {childList: true});\n",
       "}}\n",
       "\n",
       "// Listen for the clearing of the current output cell\n",
       "var outputEl = gd.closest('.output');\n",
       "if (outputEl) {{\n",
       "    x.observe(outputEl, {childList: true});\n",
       "}}\n",
       "\n",
       "                        })\n",
       "                };\n",
       "                });\n",
       "            </script>\n",
       "        </div>"
      ]
     },
     "metadata": {},
     "output_type": "display_data"
    }
   ],
   "source": [
    "import plotly.express as px\n",
    "fig = px.scatter(df_scatter_plot, x=\"Ticket Cost\", y=\"Time\", color=\"type\", marginal_x=\"histogram\")\n",
    "fig.show()"
   ]
  },
  {
   "cell_type": "code",
   "execution_count": null,
   "metadata": {},
   "outputs": [],
   "source": []
  }
 ],
 "metadata": {
  "kernelspec": {
   "display_name": "Python 3",
   "language": "python",
   "name": "python3"
  },
  "language_info": {
   "codemirror_mode": {
    "name": "ipython",
    "version": 3
   },
   "file_extension": ".py",
   "mimetype": "text/x-python",
   "name": "python",
   "nbconvert_exporter": "python",
   "pygments_lexer": "ipython3",
   "version": "3.7.3"
  }
 },
 "nbformat": 4,
 "nbformat_minor": 2
}
